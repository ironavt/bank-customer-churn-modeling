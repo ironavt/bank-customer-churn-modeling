{
 "cells": [
  {
   "cell_type": "markdown",
   "metadata": {
    "toc": true
   },
   "source": [
    "<h1>Содержание<span class=\"tocSkip\"></span></h1>\n",
    "<div class=\"toc\"><ul class=\"toc-item\"><li><span><a href=\"#Подготовка-данных\" data-toc-modified-id=\"Подготовка-данных-1\"><span class=\"toc-item-num\">1&nbsp;&nbsp;</span>Подготовка данных</a></span><ul class=\"toc-item\"><li><span><a href=\"#Предварительный-вывод:-данные\" data-toc-modified-id=\"Предварительный-вывод:-данные-1.1\"><span class=\"toc-item-num\">1.1&nbsp;&nbsp;</span>Предварительный вывод: данные</a></span></li><li><span><a href=\"#Предварительный-вывод:-признаки-и-баланс-классов\" data-toc-modified-id=\"Предварительный-вывод:-признаки-и-баланс-классов-1.2\"><span class=\"toc-item-num\">1.2&nbsp;&nbsp;</span>Предварительный вывод: признаки и баланс классов</a></span></li></ul></li><li><span><a href=\"#Исследование-задачи\" data-toc-modified-id=\"Исследование-задачи-2\"><span class=\"toc-item-num\">2&nbsp;&nbsp;</span>Исследование задачи</a></span><ul class=\"toc-item\"><li><span><a href=\"#Подготовка-признаков\" data-toc-modified-id=\"Подготовка-признаков-2.1\"><span class=\"toc-item-num\">2.1&nbsp;&nbsp;</span>Подготовка признаков</a></span></li><li><span><a href=\"#Обучение-модели-без-учёта-дисбаланса\" data-toc-modified-id=\"Обучение-модели-без-учёта-дисбаланса-2.2\"><span class=\"toc-item-num\">2.2&nbsp;&nbsp;</span>Обучение модели без учёта дисбаланса</a></span><ul class=\"toc-item\"><li><span><a href=\"#Дерево-решений\" data-toc-modified-id=\"Дерево-решений-2.2.1\"><span class=\"toc-item-num\">2.2.1&nbsp;&nbsp;</span>Дерево решений</a></span></li><li><span><a href=\"#Логистическая-регрессия\" data-toc-modified-id=\"Логистическая-регрессия-2.2.2\"><span class=\"toc-item-num\">2.2.2&nbsp;&nbsp;</span>Логистическая регрессия</a></span></li></ul></li><li><span><a href=\"#Предварительный-вывод\" data-toc-modified-id=\"Предварительный-вывод-2.3\"><span class=\"toc-item-num\">2.3&nbsp;&nbsp;</span>Предварительный вывод</a></span></li></ul></li><li><span><a href=\"#Борьба-с-дисбалансом\" data-toc-modified-id=\"Борьба-с-дисбалансом-3\"><span class=\"toc-item-num\">3&nbsp;&nbsp;</span>Борьба с дисбалансом</a></span><ul class=\"toc-item\"><li><span><a href=\"#Подготовка-признаков\" data-toc-modified-id=\"Подготовка-признаков-3.1\"><span class=\"toc-item-num\">3.1&nbsp;&nbsp;</span>Подготовка признаков</a></span></li><li><span><a href=\"#Балансировка-целевого-признака:-параметр-class_weight\" data-toc-modified-id=\"Балансировка-целевого-признака:-параметр-class_weight-3.2\"><span class=\"toc-item-num\">3.2&nbsp;&nbsp;</span>Балансировка целевого признака: параметр <code>class_weight</code></a></span><ul class=\"toc-item\"><li><span><a href=\"#Решающее-дерево\" data-toc-modified-id=\"Решающее-дерево-3.2.1\"><span class=\"toc-item-num\">3.2.1&nbsp;&nbsp;</span>Решающее дерево</a></span></li><li><span><a href=\"#Логистическая-регрессия\" data-toc-modified-id=\"Логистическая-регрессия-3.2.2\"><span class=\"toc-item-num\">3.2.2&nbsp;&nbsp;</span>Логистическая регрессия</a></span></li><li><span><a href=\"#Предварительный-вывод\" data-toc-modified-id=\"Предварительный-вывод-3.2.3\"><span class=\"toc-item-num\">3.2.3&nbsp;&nbsp;</span>Предварительный вывод</a></span></li><li><span><a href=\"#Случайный-лес\" data-toc-modified-id=\"Случайный-лес-3.2.4\"><span class=\"toc-item-num\">3.2.4&nbsp;&nbsp;</span>Случайный лес</a></span></li><li><span><a href=\"#Предварительный-вывод\" data-toc-modified-id=\"Предварительный-вывод-3.2.5\"><span class=\"toc-item-num\">3.2.5&nbsp;&nbsp;</span>Предварительный вывод</a></span></li></ul></li><li><span><a href=\"#Балансировка-целевого-признака:-апсемплинг\" data-toc-modified-id=\"Балансировка-целевого-признака:-апсемплинг-3.3\"><span class=\"toc-item-num\">3.3&nbsp;&nbsp;</span>Балансировка целевого признака: апсемплинг</a></span><ul class=\"toc-item\"><li><span><a href=\"#Предварительный-вывод\" data-toc-modified-id=\"Предварительный-вывод-3.3.1\"><span class=\"toc-item-num\">3.3.1&nbsp;&nbsp;</span>Предварительный вывод</a></span></li></ul></li></ul></li><li><span><a href=\"#Вывод\" data-toc-modified-id=\"Вывод-4\"><span class=\"toc-item-num\">4&nbsp;&nbsp;</span>Вывод</a></span></li><li><span><a href=\"#Чек-лист-готовности-проекта\" data-toc-modified-id=\"Чек-лист-готовности-проекта-5\"><span class=\"toc-item-num\">5&nbsp;&nbsp;</span>Чек-лист готовности проекта</a></span></li><li><span><a href=\"#Финальные-комментарии-ревьюера\" data-toc-modified-id=\"Финальные-комментарии-ревьюера-6\"><span class=\"toc-item-num\">6&nbsp;&nbsp;</span>Финальные комментарии ревьюера</a></span></li></ul></div>"
   ]
  },
  {
   "cell_type": "markdown",
   "metadata": {},
   "source": [
    "# Отток клиентов"
   ]
  },
  {
   "cell_type": "markdown",
   "metadata": {},
   "source": [
    "Из «Бета-Банка» стали уходить клиенты. Каждый месяц. Немного, но заметно. Банковские маркетологи посчитали: сохранять текущих клиентов дешевле, чем привлекать новых.\n",
    "\n",
    "Нужно спрогнозировать, уйдёт клиент из банка в ближайшее время или нет. Вам предоставлены исторические данные о поведении клиентов и расторжении договоров с банком. \n",
    "\n",
    "Будет строиться модель с предельно большим значением *F1*-меры, необходимо довести метрику до значения **0.59**. Дополнительно производится замер метрики *AUC-ROC* и сравнение её с *F1*-мерой.\n",
    "\n",
    "Источник данных: [https://www.kaggle.com/barelydedicated/bank-customer-churn-modeling](https://www.kaggle.com/barelydedicated/bank-customer-churn-modeling)"
   ]
  },
  {
   "cell_type": "markdown",
   "metadata": {},
   "source": [
    "## Подготовка данных"
   ]
  },
  {
   "cell_type": "code",
   "execution_count": 1,
   "metadata": {},
   "outputs": [],
   "source": [
    "# импорт библиотек\n",
    "import pandas as pd\n",
    "import matplotlib.pyplot as plt\n",
    "import numpy as np\n",
    "\n",
    "from sklearn.model_selection import train_test_split, GridSearchCV\n",
    "from sklearn.linear_model import LogisticRegression\n",
    "from sklearn.tree import DecisionTreeClassifier\n",
    "from sklearn.ensemble import RandomForestClassifier\n",
    "from sklearn.preprocessing import StandardScaler\n",
    "from sklearn.utils import shuffle\n",
    "\n",
    "from sklearn.metrics import roc_auc_score, f1_score, recall_score, precision_score, accuracy_score\n",
    "\n",
    "# сохраним значение random_state в переменную\n",
    "rst = 48151623\n",
    "\n",
    "# предупреждение CopyWithWarning\n",
    "pd.options.mode.chained_assignment = None\n",
    "\n",
    "# снимем ограничение на максимальное количество столбцов\n",
    "pd.set_option('display.max_columns', None)"
   ]
  },
  {
   "cell_type": "code",
   "execution_count": 2,
   "metadata": {},
   "outputs": [
    {
     "data": {
      "text/html": [
       "<div>\n",
       "<style scoped>\n",
       "    .dataframe tbody tr th:only-of-type {\n",
       "        vertical-align: middle;\n",
       "    }\n",
       "\n",
       "    .dataframe tbody tr th {\n",
       "        vertical-align: top;\n",
       "    }\n",
       "\n",
       "    .dataframe thead th {\n",
       "        text-align: right;\n",
       "    }\n",
       "</style>\n",
       "<table border=\"1\" class=\"dataframe\">\n",
       "  <thead>\n",
       "    <tr style=\"text-align: right;\">\n",
       "      <th></th>\n",
       "      <th>RowNumber</th>\n",
       "      <th>CustomerId</th>\n",
       "      <th>Surname</th>\n",
       "      <th>CreditScore</th>\n",
       "      <th>Geography</th>\n",
       "      <th>Gender</th>\n",
       "      <th>Age</th>\n",
       "      <th>Tenure</th>\n",
       "      <th>Balance</th>\n",
       "      <th>NumOfProducts</th>\n",
       "      <th>HasCrCard</th>\n",
       "      <th>IsActiveMember</th>\n",
       "      <th>EstimatedSalary</th>\n",
       "      <th>Exited</th>\n",
       "    </tr>\n",
       "  </thead>\n",
       "  <tbody>\n",
       "    <tr>\n",
       "      <th>0</th>\n",
       "      <td>1</td>\n",
       "      <td>15634602</td>\n",
       "      <td>Hargrave</td>\n",
       "      <td>619</td>\n",
       "      <td>France</td>\n",
       "      <td>Female</td>\n",
       "      <td>42</td>\n",
       "      <td>2.0</td>\n",
       "      <td>0.00</td>\n",
       "      <td>1</td>\n",
       "      <td>1</td>\n",
       "      <td>1</td>\n",
       "      <td>101348.88</td>\n",
       "      <td>1</td>\n",
       "    </tr>\n",
       "    <tr>\n",
       "      <th>1</th>\n",
       "      <td>2</td>\n",
       "      <td>15647311</td>\n",
       "      <td>Hill</td>\n",
       "      <td>608</td>\n",
       "      <td>Spain</td>\n",
       "      <td>Female</td>\n",
       "      <td>41</td>\n",
       "      <td>1.0</td>\n",
       "      <td>83807.86</td>\n",
       "      <td>1</td>\n",
       "      <td>0</td>\n",
       "      <td>1</td>\n",
       "      <td>112542.58</td>\n",
       "      <td>0</td>\n",
       "    </tr>\n",
       "    <tr>\n",
       "      <th>2</th>\n",
       "      <td>3</td>\n",
       "      <td>15619304</td>\n",
       "      <td>Onio</td>\n",
       "      <td>502</td>\n",
       "      <td>France</td>\n",
       "      <td>Female</td>\n",
       "      <td>42</td>\n",
       "      <td>8.0</td>\n",
       "      <td>159660.80</td>\n",
       "      <td>3</td>\n",
       "      <td>1</td>\n",
       "      <td>0</td>\n",
       "      <td>113931.57</td>\n",
       "      <td>1</td>\n",
       "    </tr>\n",
       "    <tr>\n",
       "      <th>3</th>\n",
       "      <td>4</td>\n",
       "      <td>15701354</td>\n",
       "      <td>Boni</td>\n",
       "      <td>699</td>\n",
       "      <td>France</td>\n",
       "      <td>Female</td>\n",
       "      <td>39</td>\n",
       "      <td>1.0</td>\n",
       "      <td>0.00</td>\n",
       "      <td>2</td>\n",
       "      <td>0</td>\n",
       "      <td>0</td>\n",
       "      <td>93826.63</td>\n",
       "      <td>0</td>\n",
       "    </tr>\n",
       "    <tr>\n",
       "      <th>4</th>\n",
       "      <td>5</td>\n",
       "      <td>15737888</td>\n",
       "      <td>Mitchell</td>\n",
       "      <td>850</td>\n",
       "      <td>Spain</td>\n",
       "      <td>Female</td>\n",
       "      <td>43</td>\n",
       "      <td>2.0</td>\n",
       "      <td>125510.82</td>\n",
       "      <td>1</td>\n",
       "      <td>1</td>\n",
       "      <td>1</td>\n",
       "      <td>79084.10</td>\n",
       "      <td>0</td>\n",
       "    </tr>\n",
       "  </tbody>\n",
       "</table>\n",
       "</div>"
      ],
      "text/plain": [
       "   RowNumber  CustomerId   Surname  CreditScore Geography  Gender  Age  \\\n",
       "0          1    15634602  Hargrave          619    France  Female   42   \n",
       "1          2    15647311      Hill          608     Spain  Female   41   \n",
       "2          3    15619304      Onio          502    France  Female   42   \n",
       "3          4    15701354      Boni          699    France  Female   39   \n",
       "4          5    15737888  Mitchell          850     Spain  Female   43   \n",
       "\n",
       "   Tenure    Balance  NumOfProducts  HasCrCard  IsActiveMember  \\\n",
       "0     2.0       0.00              1          1               1   \n",
       "1     1.0   83807.86              1          0               1   \n",
       "2     8.0  159660.80              3          1               0   \n",
       "3     1.0       0.00              2          0               0   \n",
       "4     2.0  125510.82              1          1               1   \n",
       "\n",
       "   EstimatedSalary  Exited  \n",
       "0        101348.88       1  \n",
       "1        112542.58       0  \n",
       "2        113931.57       1  \n",
       "3         93826.63       0  \n",
       "4         79084.10       0  "
      ]
     },
     "execution_count": 2,
     "metadata": {},
     "output_type": "execute_result"
    }
   ],
   "source": [
    "# откроем датасет\n",
    "df = pd.read_csv('./datasets/Churn.csv')\n",
    "df.head()"
   ]
  },
  {
   "cell_type": "code",
   "execution_count": 3,
   "metadata": {},
   "outputs": [
    {
     "name": "stdout",
     "output_type": "stream",
     "text": [
      "<class 'pandas.core.frame.DataFrame'>\n",
      "RangeIndex: 10000 entries, 0 to 9999\n",
      "Data columns (total 14 columns):\n",
      " #   Column           Non-Null Count  Dtype  \n",
      "---  ------           --------------  -----  \n",
      " 0   RowNumber        10000 non-null  int64  \n",
      " 1   CustomerId       10000 non-null  int64  \n",
      " 2   Surname          10000 non-null  object \n",
      " 3   CreditScore      10000 non-null  int64  \n",
      " 4   Geography        10000 non-null  object \n",
      " 5   Gender           10000 non-null  object \n",
      " 6   Age              10000 non-null  int64  \n",
      " 7   Tenure           9091 non-null   float64\n",
      " 8   Balance          10000 non-null  float64\n",
      " 9   NumOfProducts    10000 non-null  int64  \n",
      " 10  HasCrCard        10000 non-null  int64  \n",
      " 11  IsActiveMember   10000 non-null  int64  \n",
      " 12  EstimatedSalary  10000 non-null  float64\n",
      " 13  Exited           10000 non-null  int64  \n",
      "dtypes: float64(3), int64(8), object(3)\n",
      "memory usage: 1.1+ MB\n"
     ]
    },
    {
     "data": {
      "text/html": [
       "<style type=\"text/css\">\n",
       "</style>\n",
       "<table id=\"T_ddc35_\">\n",
       "  <thead>\n",
       "    <tr>\n",
       "      <th class=\"blank level0\" >&nbsp;</th>\n",
       "      <th class=\"col_heading level0 col0\" >RowNumber</th>\n",
       "      <th class=\"col_heading level0 col1\" >CustomerId</th>\n",
       "      <th class=\"col_heading level0 col2\" >CreditScore</th>\n",
       "      <th class=\"col_heading level0 col3\" >Age</th>\n",
       "      <th class=\"col_heading level0 col4\" >Tenure</th>\n",
       "      <th class=\"col_heading level0 col5\" >Balance</th>\n",
       "      <th class=\"col_heading level0 col6\" >NumOfProducts</th>\n",
       "      <th class=\"col_heading level0 col7\" >HasCrCard</th>\n",
       "      <th class=\"col_heading level0 col8\" >IsActiveMember</th>\n",
       "      <th class=\"col_heading level0 col9\" >EstimatedSalary</th>\n",
       "      <th class=\"col_heading level0 col10\" >Exited</th>\n",
       "    </tr>\n",
       "  </thead>\n",
       "  <tbody>\n",
       "    <tr>\n",
       "      <th id=\"T_ddc35_level0_row0\" class=\"row_heading level0 row0\" >count</th>\n",
       "      <td id=\"T_ddc35_row0_col0\" class=\"data row0 col0\" >10000.00</td>\n",
       "      <td id=\"T_ddc35_row0_col1\" class=\"data row0 col1\" >10000.00</td>\n",
       "      <td id=\"T_ddc35_row0_col2\" class=\"data row0 col2\" >10000.00</td>\n",
       "      <td id=\"T_ddc35_row0_col3\" class=\"data row0 col3\" >10000.00</td>\n",
       "      <td id=\"T_ddc35_row0_col4\" class=\"data row0 col4\" >9091.00</td>\n",
       "      <td id=\"T_ddc35_row0_col5\" class=\"data row0 col5\" >10000.00</td>\n",
       "      <td id=\"T_ddc35_row0_col6\" class=\"data row0 col6\" >10000.00</td>\n",
       "      <td id=\"T_ddc35_row0_col7\" class=\"data row0 col7\" >10000.00</td>\n",
       "      <td id=\"T_ddc35_row0_col8\" class=\"data row0 col8\" >10000.00</td>\n",
       "      <td id=\"T_ddc35_row0_col9\" class=\"data row0 col9\" >10000.00</td>\n",
       "      <td id=\"T_ddc35_row0_col10\" class=\"data row0 col10\" >10000.00</td>\n",
       "    </tr>\n",
       "    <tr>\n",
       "      <th id=\"T_ddc35_level0_row1\" class=\"row_heading level0 row1\" >mean</th>\n",
       "      <td id=\"T_ddc35_row1_col0\" class=\"data row1 col0\" >5000.50</td>\n",
       "      <td id=\"T_ddc35_row1_col1\" class=\"data row1 col1\" >15690940.57</td>\n",
       "      <td id=\"T_ddc35_row1_col2\" class=\"data row1 col2\" >650.53</td>\n",
       "      <td id=\"T_ddc35_row1_col3\" class=\"data row1 col3\" >38.92</td>\n",
       "      <td id=\"T_ddc35_row1_col4\" class=\"data row1 col4\" >5.00</td>\n",
       "      <td id=\"T_ddc35_row1_col5\" class=\"data row1 col5\" >76485.89</td>\n",
       "      <td id=\"T_ddc35_row1_col6\" class=\"data row1 col6\" >1.53</td>\n",
       "      <td id=\"T_ddc35_row1_col7\" class=\"data row1 col7\" >0.71</td>\n",
       "      <td id=\"T_ddc35_row1_col8\" class=\"data row1 col8\" >0.52</td>\n",
       "      <td id=\"T_ddc35_row1_col9\" class=\"data row1 col9\" >100090.24</td>\n",
       "      <td id=\"T_ddc35_row1_col10\" class=\"data row1 col10\" >0.20</td>\n",
       "    </tr>\n",
       "    <tr>\n",
       "      <th id=\"T_ddc35_level0_row2\" class=\"row_heading level0 row2\" >std</th>\n",
       "      <td id=\"T_ddc35_row2_col0\" class=\"data row2 col0\" >2886.90</td>\n",
       "      <td id=\"T_ddc35_row2_col1\" class=\"data row2 col1\" >71936.19</td>\n",
       "      <td id=\"T_ddc35_row2_col2\" class=\"data row2 col2\" >96.65</td>\n",
       "      <td id=\"T_ddc35_row2_col3\" class=\"data row2 col3\" >10.49</td>\n",
       "      <td id=\"T_ddc35_row2_col4\" class=\"data row2 col4\" >2.89</td>\n",
       "      <td id=\"T_ddc35_row2_col5\" class=\"data row2 col5\" >62397.41</td>\n",
       "      <td id=\"T_ddc35_row2_col6\" class=\"data row2 col6\" >0.58</td>\n",
       "      <td id=\"T_ddc35_row2_col7\" class=\"data row2 col7\" >0.46</td>\n",
       "      <td id=\"T_ddc35_row2_col8\" class=\"data row2 col8\" >0.50</td>\n",
       "      <td id=\"T_ddc35_row2_col9\" class=\"data row2 col9\" >57510.49</td>\n",
       "      <td id=\"T_ddc35_row2_col10\" class=\"data row2 col10\" >0.40</td>\n",
       "    </tr>\n",
       "    <tr>\n",
       "      <th id=\"T_ddc35_level0_row3\" class=\"row_heading level0 row3\" >min</th>\n",
       "      <td id=\"T_ddc35_row3_col0\" class=\"data row3 col0\" >1.00</td>\n",
       "      <td id=\"T_ddc35_row3_col1\" class=\"data row3 col1\" >15565701.00</td>\n",
       "      <td id=\"T_ddc35_row3_col2\" class=\"data row3 col2\" >350.00</td>\n",
       "      <td id=\"T_ddc35_row3_col3\" class=\"data row3 col3\" >18.00</td>\n",
       "      <td id=\"T_ddc35_row3_col4\" class=\"data row3 col4\" >0.00</td>\n",
       "      <td id=\"T_ddc35_row3_col5\" class=\"data row3 col5\" >0.00</td>\n",
       "      <td id=\"T_ddc35_row3_col6\" class=\"data row3 col6\" >1.00</td>\n",
       "      <td id=\"T_ddc35_row3_col7\" class=\"data row3 col7\" >0.00</td>\n",
       "      <td id=\"T_ddc35_row3_col8\" class=\"data row3 col8\" >0.00</td>\n",
       "      <td id=\"T_ddc35_row3_col9\" class=\"data row3 col9\" >11.58</td>\n",
       "      <td id=\"T_ddc35_row3_col10\" class=\"data row3 col10\" >0.00</td>\n",
       "    </tr>\n",
       "    <tr>\n",
       "      <th id=\"T_ddc35_level0_row4\" class=\"row_heading level0 row4\" >25%</th>\n",
       "      <td id=\"T_ddc35_row4_col0\" class=\"data row4 col0\" >2500.75</td>\n",
       "      <td id=\"T_ddc35_row4_col1\" class=\"data row4 col1\" >15628528.25</td>\n",
       "      <td id=\"T_ddc35_row4_col2\" class=\"data row4 col2\" >584.00</td>\n",
       "      <td id=\"T_ddc35_row4_col3\" class=\"data row4 col3\" >32.00</td>\n",
       "      <td id=\"T_ddc35_row4_col4\" class=\"data row4 col4\" >2.00</td>\n",
       "      <td id=\"T_ddc35_row4_col5\" class=\"data row4 col5\" >0.00</td>\n",
       "      <td id=\"T_ddc35_row4_col6\" class=\"data row4 col6\" >1.00</td>\n",
       "      <td id=\"T_ddc35_row4_col7\" class=\"data row4 col7\" >0.00</td>\n",
       "      <td id=\"T_ddc35_row4_col8\" class=\"data row4 col8\" >0.00</td>\n",
       "      <td id=\"T_ddc35_row4_col9\" class=\"data row4 col9\" >51002.11</td>\n",
       "      <td id=\"T_ddc35_row4_col10\" class=\"data row4 col10\" >0.00</td>\n",
       "    </tr>\n",
       "    <tr>\n",
       "      <th id=\"T_ddc35_level0_row5\" class=\"row_heading level0 row5\" >50%</th>\n",
       "      <td id=\"T_ddc35_row5_col0\" class=\"data row5 col0\" >5000.50</td>\n",
       "      <td id=\"T_ddc35_row5_col1\" class=\"data row5 col1\" >15690738.00</td>\n",
       "      <td id=\"T_ddc35_row5_col2\" class=\"data row5 col2\" >652.00</td>\n",
       "      <td id=\"T_ddc35_row5_col3\" class=\"data row5 col3\" >37.00</td>\n",
       "      <td id=\"T_ddc35_row5_col4\" class=\"data row5 col4\" >5.00</td>\n",
       "      <td id=\"T_ddc35_row5_col5\" class=\"data row5 col5\" >97198.54</td>\n",
       "      <td id=\"T_ddc35_row5_col6\" class=\"data row5 col6\" >1.00</td>\n",
       "      <td id=\"T_ddc35_row5_col7\" class=\"data row5 col7\" >1.00</td>\n",
       "      <td id=\"T_ddc35_row5_col8\" class=\"data row5 col8\" >1.00</td>\n",
       "      <td id=\"T_ddc35_row5_col9\" class=\"data row5 col9\" >100193.91</td>\n",
       "      <td id=\"T_ddc35_row5_col10\" class=\"data row5 col10\" >0.00</td>\n",
       "    </tr>\n",
       "    <tr>\n",
       "      <th id=\"T_ddc35_level0_row6\" class=\"row_heading level0 row6\" >75%</th>\n",
       "      <td id=\"T_ddc35_row6_col0\" class=\"data row6 col0\" >7500.25</td>\n",
       "      <td id=\"T_ddc35_row6_col1\" class=\"data row6 col1\" >15753233.75</td>\n",
       "      <td id=\"T_ddc35_row6_col2\" class=\"data row6 col2\" >718.00</td>\n",
       "      <td id=\"T_ddc35_row6_col3\" class=\"data row6 col3\" >44.00</td>\n",
       "      <td id=\"T_ddc35_row6_col4\" class=\"data row6 col4\" >7.00</td>\n",
       "      <td id=\"T_ddc35_row6_col5\" class=\"data row6 col5\" >127644.24</td>\n",
       "      <td id=\"T_ddc35_row6_col6\" class=\"data row6 col6\" >2.00</td>\n",
       "      <td id=\"T_ddc35_row6_col7\" class=\"data row6 col7\" >1.00</td>\n",
       "      <td id=\"T_ddc35_row6_col8\" class=\"data row6 col8\" >1.00</td>\n",
       "      <td id=\"T_ddc35_row6_col9\" class=\"data row6 col9\" >149388.25</td>\n",
       "      <td id=\"T_ddc35_row6_col10\" class=\"data row6 col10\" >0.00</td>\n",
       "    </tr>\n",
       "    <tr>\n",
       "      <th id=\"T_ddc35_level0_row7\" class=\"row_heading level0 row7\" >max</th>\n",
       "      <td id=\"T_ddc35_row7_col0\" class=\"data row7 col0\" >10000.00</td>\n",
       "      <td id=\"T_ddc35_row7_col1\" class=\"data row7 col1\" >15815690.00</td>\n",
       "      <td id=\"T_ddc35_row7_col2\" class=\"data row7 col2\" >850.00</td>\n",
       "      <td id=\"T_ddc35_row7_col3\" class=\"data row7 col3\" >92.00</td>\n",
       "      <td id=\"T_ddc35_row7_col4\" class=\"data row7 col4\" >10.00</td>\n",
       "      <td id=\"T_ddc35_row7_col5\" class=\"data row7 col5\" >250898.09</td>\n",
       "      <td id=\"T_ddc35_row7_col6\" class=\"data row7 col6\" >4.00</td>\n",
       "      <td id=\"T_ddc35_row7_col7\" class=\"data row7 col7\" >1.00</td>\n",
       "      <td id=\"T_ddc35_row7_col8\" class=\"data row7 col8\" >1.00</td>\n",
       "      <td id=\"T_ddc35_row7_col9\" class=\"data row7 col9\" >199992.48</td>\n",
       "      <td id=\"T_ddc35_row7_col10\" class=\"data row7 col10\" >1.00</td>\n",
       "    </tr>\n",
       "  </tbody>\n",
       "</table>\n"
      ],
      "text/plain": [
       "<pandas.io.formats.style.Styler at 0x1c64d0b5bb0>"
      ]
     },
     "execution_count": 3,
     "metadata": {},
     "output_type": "execute_result"
    }
   ],
   "source": [
    "df.info()\n",
    "df.describe().style.format(\"{:.2f}\")"
   ]
  },
  {
   "cell_type": "code",
   "execution_count": 4,
   "metadata": {},
   "outputs": [
    {
     "data": {
      "text/plain": [
       "France     5014\n",
       "Germany    2509\n",
       "Spain      2477\n",
       "Name: Geography, dtype: int64"
      ]
     },
     "metadata": {},
     "output_type": "display_data"
    },
    {
     "data": {
      "text/plain": [
       "Male      5457\n",
       "Female    4543\n",
       "Name: Gender, dtype: int64"
      ]
     },
     "metadata": {},
     "output_type": "display_data"
    },
    {
     "data": {
      "text/plain": [
       "1.0     952\n",
       "2.0     950\n",
       "8.0     933\n",
       "3.0     928\n",
       "5.0     927\n",
       "7.0     925\n",
       "4.0     885\n",
       "9.0     882\n",
       "6.0     881\n",
       "10.0    446\n",
       "0.0     382\n",
       "Name: Tenure, dtype: int64"
      ]
     },
     "metadata": {},
     "output_type": "display_data"
    },
    {
     "data": {
      "text/plain": [
       "1    5084\n",
       "2    4590\n",
       "3     266\n",
       "4      60\n",
       "Name: NumOfProducts, dtype: int64"
      ]
     },
     "metadata": {},
     "output_type": "display_data"
    },
    {
     "data": {
      "text/plain": [
       "1    7055\n",
       "0    2945\n",
       "Name: HasCrCard, dtype: int64"
      ]
     },
     "metadata": {},
     "output_type": "display_data"
    },
    {
     "data": {
      "text/plain": [
       "1    5151\n",
       "0    4849\n",
       "Name: IsActiveMember, dtype: int64"
      ]
     },
     "metadata": {},
     "output_type": "display_data"
    },
    {
     "data": {
      "text/plain": [
       "0    7963\n",
       "1    2037\n",
       "Name: Exited, dtype: int64"
      ]
     },
     "metadata": {},
     "output_type": "display_data"
    },
    {
     "name": "stdout",
     "output_type": "stream",
     "text": [
      "\n",
      "Пропусков в столбце Tenure: 909, доля пропусков составляет 0.0909\n",
      "Доля положительных классов в столбце Exited: 0.2037\n",
      "\n"
     ]
    }
   ],
   "source": [
    "# хочу проверить значения признаков и количество классов\n",
    "for row in ['Geography', 'Gender', 'Tenure', 'NumOfProducts', 'HasCrCard', 'IsActiveMember', 'Exited']:\n",
    "    display(df[row].value_counts())\n",
    "print(f\"\"\"\n",
    "Пропусков в столбце Tenure: {df['Tenure'].isna().sum()}, доля пропусков составляет {df['Tenure'].isna().sum() / df.shape[0]}\n",
    "Доля положительных классов в столбце Exited: {df['Exited'].sum() / df.shape[0]}\n",
    "\"\"\")"
   ]
  },
  {
   "cell_type": "code",
   "execution_count": 5,
   "metadata": {},
   "outputs": [
    {
     "data": {
      "image/png": "[encoded data removed]",
      "text/plain": [
       "<Figure size 432x288 with 1 Axes>"
      ]
     },
     "metadata": {
      "needs_background": "light"
     },
     "output_type": "display_data"
    },
    {
     "data": {
      "image/png": "[encoded data removed]",
      "text/plain": [
       "<Figure size 432x288 with 1 Axes>"
      ]
     },
     "metadata": {
      "needs_background": "light"
     },
     "output_type": "display_data"
    },
    {
     "data": {
      "image/png": "[encoded data removed]",
      "text/plain": [
       "<Figure size 432x288 with 1 Axes>"
      ]
     },
     "metadata": {
      "needs_background": "light"
     },
     "output_type": "display_data"
    }
   ],
   "source": [
    "# изучим подробнее оценку зарплаты\n",
    "df['EstimatedSalary'].plot(kind='hist', bins=100)\n",
    "plt.show()\n",
    "df.query('EstimatedSalary <= 25000')['EstimatedSalary'].plot(kind='hist', bins=100)\n",
    "plt.show()\n",
    "df.query('EstimatedSalary <= 25000')['EstimatedSalary'].plot(kind='hist', bins=200)\n",
    "plt.show()"
   ]
  },
  {
   "cell_type": "markdown",
   "metadata": {},
   "source": [
    "В столбце `EstimatedSalary` много странных, слишком низких значений. Не знаю, что с ними делать. Выясним, есть ли в данных выбросы"
   ]
  },
  {
   "cell_type": "code",
   "execution_count": 6,
   "metadata": {},
   "outputs": [
    {
     "data": {
      "image/png": "[encoded data removed]",
      "text/plain": [
       "<Figure size 144x216 with 1 Axes>"
      ]
     },
     "metadata": {
      "needs_background": "light"
     },
     "output_type": "display_data"
    }
   ],
   "source": [
    "# проверим данные на наличие выбросов\n",
    "df['EstimatedSalary'].plot(kind='box', figsize=(2, 3), grid=True)\n",
    "plt.show()"
   ]
  },
  {
   "cell_type": "markdown",
   "metadata": {},
   "source": [
    "В столбце с оценкой зарплаты выбросов не обнаружено."
   ]
  },
  {
   "cell_type": "markdown",
   "metadata": {},
   "source": [
    "Проанализируем распределение данных в столбце `Tenure`, чтобы понять, как лучше заполнить пропуски: средним значением или медианным."
   ]
  },
  {
   "cell_type": "code",
   "execution_count": 7,
   "metadata": {},
   "outputs": [
    {
     "data": {
      "image/png": "[encoded data removed]",
      "text/plain": [
       "<Figure size 432x288 with 1 Axes>"
      ]
     },
     "metadata": {
      "needs_background": "light"
     },
     "output_type": "display_data"
    }
   ],
   "source": [
    "df['Tenure'].plot(kind='hist', bins=10)\n",
    "plt.show()"
   ]
  },
  {
   "cell_type": "markdown",
   "metadata": {},
   "source": [
    "### Предварительный вывод: данные"
   ]
  },
  {
   "cell_type": "markdown",
   "metadata": {},
   "source": [
    "* нужно сделать столбец `RowNumber` индексом\n",
    "* в столбце `Tenure` присутствуют и нули, и пропуски; пропуски нельзя оставлять, их нужно заполнить\n",
    "* * в распределении данных нет выраженного среднего, зато присутствует пик в правой части; в этом случае характерным значением для заполнения будет **медиана**\n",
    "* значения стобца `EstimatedSalary` равномерно распределены по всему диапазону; присутствуют низкие и высокие значения, которые достаточно распространены, чтобы не являться выбросами, а гистограммы распределений не имеют пика\n",
    "* * скорее всего, значения в столбце `EstimatedSalary` являются предсказанными другой моделью\n",
    "* * это, конечно, очевидно из заголовка, но проверить оценку всё равно стоит, поскольку эти данные будут влиять на обучение модели, в зависимости от того, будут ли они включены в качестве признака\n",
    "* * будем считать *оценку* не связанной с реальными доходами, а некоторым параметром, определяющим величину доходов\n",
    "* * другая причина равномерного распределения доходов может быть связана с тем, что имеющаяся в распоряжении выборка стратифицирована таким образом, чтобы в ней содержалось равное количество клиентов разного уровня дохода\n",
    "* * * на это намекает третья гистограмма: при увеличенном количестве корзин видно, что общее распределение на самом деле состоит из множества пересекающихся нормальных распределений с локальными пиками в каждой группе\n",
    "* * в реальной работе я бы попытался определить источник этих данных для принятия окончательного решения"
   ]
  },
  {
   "cell_type": "markdown",
   "metadata": {},
   "source": [
    "### Предварительный вывод: признаки и баланс классов\n",
    "* признаки `CustomerID` и `Surname` будут исключены из обучения, потому что не являются каким-то категориальным или числовым выражением финансовой активности человека\n",
    "* категориальные признаки `Geography` и `Gender` должны быть разбиты по принципу OHE\n",
    "* * признаки `HasCrCard`, `IsActiveMember`, `Exited` хоть и выражены числом, но являются категориями\n",
    "* численные признаки `CreditScore`, `Age`, `Tenure`, `Balance`, `NumOfProducts`, `EstimatedSalary` требуют нормализации или применения весовых коэффициентов, поскольку сильно различаются порядками величин\n",
    "* в столбце с целевым признаком `Exited` положительный класс составляет пятую часть от общего количества классов, что может являться существенным дисбалансом"
   ]
  },
  {
   "cell_type": "code",
   "execution_count": 8,
   "metadata": {
    "scrolled": true
   },
   "outputs": [
    {
     "data": {
      "text/html": [
       "<div>\n",
       "<style scoped>\n",
       "    .dataframe tbody tr th:only-of-type {\n",
       "        vertical-align: middle;\n",
       "    }\n",
       "\n",
       "    .dataframe tbody tr th {\n",
       "        vertical-align: top;\n",
       "    }\n",
       "\n",
       "    .dataframe thead th {\n",
       "        text-align: right;\n",
       "    }\n",
       "</style>\n",
       "<table border=\"1\" class=\"dataframe\">\n",
       "  <thead>\n",
       "    <tr style=\"text-align: right;\">\n",
       "      <th></th>\n",
       "      <th>CustomerId</th>\n",
       "      <th>Surname</th>\n",
       "      <th>CreditScore</th>\n",
       "      <th>Geography</th>\n",
       "      <th>Gender</th>\n",
       "      <th>Age</th>\n",
       "      <th>Tenure</th>\n",
       "      <th>Balance</th>\n",
       "      <th>NumOfProducts</th>\n",
       "      <th>HasCrCard</th>\n",
       "      <th>IsActiveMember</th>\n",
       "      <th>EstimatedSalary</th>\n",
       "      <th>Exited</th>\n",
       "    </tr>\n",
       "    <tr>\n",
       "      <th>RowNumber</th>\n",
       "      <th></th>\n",
       "      <th></th>\n",
       "      <th></th>\n",
       "      <th></th>\n",
       "      <th></th>\n",
       "      <th></th>\n",
       "      <th></th>\n",
       "      <th></th>\n",
       "      <th></th>\n",
       "      <th></th>\n",
       "      <th></th>\n",
       "      <th></th>\n",
       "      <th></th>\n",
       "    </tr>\n",
       "  </thead>\n",
       "  <tbody>\n",
       "    <tr>\n",
       "      <th>1</th>\n",
       "      <td>15634602</td>\n",
       "      <td>Hargrave</td>\n",
       "      <td>619</td>\n",
       "      <td>France</td>\n",
       "      <td>Female</td>\n",
       "      <td>42</td>\n",
       "      <td>2.0</td>\n",
       "      <td>0.00</td>\n",
       "      <td>1</td>\n",
       "      <td>1</td>\n",
       "      <td>1</td>\n",
       "      <td>101348.88</td>\n",
       "      <td>1</td>\n",
       "    </tr>\n",
       "    <tr>\n",
       "      <th>2</th>\n",
       "      <td>15647311</td>\n",
       "      <td>Hill</td>\n",
       "      <td>608</td>\n",
       "      <td>Spain</td>\n",
       "      <td>Female</td>\n",
       "      <td>41</td>\n",
       "      <td>1.0</td>\n",
       "      <td>83807.86</td>\n",
       "      <td>1</td>\n",
       "      <td>0</td>\n",
       "      <td>1</td>\n",
       "      <td>112542.58</td>\n",
       "      <td>0</td>\n",
       "    </tr>\n",
       "    <tr>\n",
       "      <th>3</th>\n",
       "      <td>15619304</td>\n",
       "      <td>Onio</td>\n",
       "      <td>502</td>\n",
       "      <td>France</td>\n",
       "      <td>Female</td>\n",
       "      <td>42</td>\n",
       "      <td>8.0</td>\n",
       "      <td>159660.80</td>\n",
       "      <td>3</td>\n",
       "      <td>1</td>\n",
       "      <td>0</td>\n",
       "      <td>113931.57</td>\n",
       "      <td>1</td>\n",
       "    </tr>\n",
       "  </tbody>\n",
       "</table>\n",
       "</div>"
      ],
      "text/plain": [
       "           CustomerId   Surname  CreditScore Geography  Gender  Age  Tenure  \\\n",
       "RowNumber                                                                     \n",
       "1            15634602  Hargrave          619    France  Female   42     2.0   \n",
       "2            15647311      Hill          608     Spain  Female   41     1.0   \n",
       "3            15619304      Onio          502    France  Female   42     8.0   \n",
       "\n",
       "             Balance  NumOfProducts  HasCrCard  IsActiveMember  \\\n",
       "RowNumber                                                        \n",
       "1               0.00              1          1               1   \n",
       "2           83807.86              1          0               1   \n",
       "3          159660.80              3          1               0   \n",
       "\n",
       "           EstimatedSalary  Exited  \n",
       "RowNumber                           \n",
       "1                101348.88       1  \n",
       "2                112542.58       0  \n",
       "3                113931.57       1  "
      ]
     },
     "execution_count": 8,
     "metadata": {},
     "output_type": "execute_result"
    }
   ],
   "source": [
    "# сделаем столбец RowNumber индексом\n",
    "df = df.set_index(keys='RowNumber')\n",
    "df.head(3)"
   ]
  },
  {
   "cell_type": "markdown",
   "metadata": {},
   "source": [
    "Заполним пропуски медианным значением"
   ]
  },
  {
   "cell_type": "code",
   "execution_count": 9,
   "metadata": {},
   "outputs": [
    {
     "name": "stdout",
     "output_type": "stream",
     "text": [
      "<class 'pandas.core.frame.DataFrame'>\n",
      "Int64Index: 10000 entries, 1 to 10000\n",
      "Data columns (total 13 columns):\n",
      " #   Column           Non-Null Count  Dtype  \n",
      "---  ------           --------------  -----  \n",
      " 0   CustomerId       10000 non-null  int64  \n",
      " 1   Surname          10000 non-null  object \n",
      " 2   CreditScore      10000 non-null  int64  \n",
      " 3   Geography        10000 non-null  object \n",
      " 4   Gender           10000 non-null  object \n",
      " 5   Age              10000 non-null  int64  \n",
      " 6   Tenure           10000 non-null  float64\n",
      " 7   Balance          10000 non-null  float64\n",
      " 8   NumOfProducts    10000 non-null  int64  \n",
      " 9   HasCrCard        10000 non-null  int64  \n",
      " 10  IsActiveMember   10000 non-null  int64  \n",
      " 11  EstimatedSalary  10000 non-null  float64\n",
      " 12  Exited           10000 non-null  int64  \n",
      "dtypes: float64(3), int64(7), object(3)\n",
      "memory usage: 1.1+ MB\n"
     ]
    }
   ],
   "source": [
    "# заполним пропуски\n",
    "# df['Tenure'] = df['Tenure'].fillna(df['Tenure'].mean())\n",
    "df['Tenure'] = df['Tenure'].fillna(df['Tenure'].median())\n",
    "df.info()"
   ]
  },
  {
   "cell_type": "markdown",
   "metadata": {},
   "source": [
    "Так как по условию задачи нужно проанализировать два подхода к построению модели, разделять выборки будем для каждого случая отдельно"
   ]
  },
  {
   "cell_type": "markdown",
   "metadata": {},
   "source": [
    "## Исследование задачи"
   ]
  },
  {
   "cell_type": "markdown",
   "metadata": {},
   "source": [
    "### Подготовка признаков"
   ]
  },
  {
   "cell_type": "markdown",
   "metadata": {},
   "source": [
    "Отбросим столбцы `CustomerId` и `Surname`, разобьём признаки `Geography` и `Gender` по принципу OHE."
   ]
  },
  {
   "cell_type": "code",
   "execution_count": 10,
   "metadata": {
    "scrolled": false
   },
   "outputs": [
    {
     "data": {
      "text/html": [
       "<div>\n",
       "<style scoped>\n",
       "    .dataframe tbody tr th:only-of-type {\n",
       "        vertical-align: middle;\n",
       "    }\n",
       "\n",
       "    .dataframe tbody tr th {\n",
       "        vertical-align: top;\n",
       "    }\n",
       "\n",
       "    .dataframe thead th {\n",
       "        text-align: right;\n",
       "    }\n",
       "</style>\n",
       "<table border=\"1\" class=\"dataframe\">\n",
       "  <thead>\n",
       "    <tr style=\"text-align: right;\">\n",
       "      <th></th>\n",
       "      <th>CreditScore</th>\n",
       "      <th>Age</th>\n",
       "      <th>Tenure</th>\n",
       "      <th>Balance</th>\n",
       "      <th>NumOfProducts</th>\n",
       "      <th>HasCrCard</th>\n",
       "      <th>IsActiveMember</th>\n",
       "      <th>EstimatedSalary</th>\n",
       "      <th>Exited</th>\n",
       "      <th>Geography_Germany</th>\n",
       "      <th>Geography_Spain</th>\n",
       "      <th>Gender_Male</th>\n",
       "    </tr>\n",
       "    <tr>\n",
       "      <th>RowNumber</th>\n",
       "      <th></th>\n",
       "      <th></th>\n",
       "      <th></th>\n",
       "      <th></th>\n",
       "      <th></th>\n",
       "      <th></th>\n",
       "      <th></th>\n",
       "      <th></th>\n",
       "      <th></th>\n",
       "      <th></th>\n",
       "      <th></th>\n",
       "      <th></th>\n",
       "    </tr>\n",
       "  </thead>\n",
       "  <tbody>\n",
       "    <tr>\n",
       "      <th>1</th>\n",
       "      <td>619</td>\n",
       "      <td>42</td>\n",
       "      <td>2.0</td>\n",
       "      <td>0.00</td>\n",
       "      <td>1</td>\n",
       "      <td>1</td>\n",
       "      <td>1</td>\n",
       "      <td>101348.88</td>\n",
       "      <td>1</td>\n",
       "      <td>0</td>\n",
       "      <td>0</td>\n",
       "      <td>0</td>\n",
       "    </tr>\n",
       "    <tr>\n",
       "      <th>2</th>\n",
       "      <td>608</td>\n",
       "      <td>41</td>\n",
       "      <td>1.0</td>\n",
       "      <td>83807.86</td>\n",
       "      <td>1</td>\n",
       "      <td>0</td>\n",
       "      <td>1</td>\n",
       "      <td>112542.58</td>\n",
       "      <td>0</td>\n",
       "      <td>0</td>\n",
       "      <td>1</td>\n",
       "      <td>0</td>\n",
       "    </tr>\n",
       "    <tr>\n",
       "      <th>3</th>\n",
       "      <td>502</td>\n",
       "      <td>42</td>\n",
       "      <td>8.0</td>\n",
       "      <td>159660.80</td>\n",
       "      <td>3</td>\n",
       "      <td>1</td>\n",
       "      <td>0</td>\n",
       "      <td>113931.57</td>\n",
       "      <td>1</td>\n",
       "      <td>0</td>\n",
       "      <td>0</td>\n",
       "      <td>0</td>\n",
       "    </tr>\n",
       "    <tr>\n",
       "      <th>4</th>\n",
       "      <td>699</td>\n",
       "      <td>39</td>\n",
       "      <td>1.0</td>\n",
       "      <td>0.00</td>\n",
       "      <td>2</td>\n",
       "      <td>0</td>\n",
       "      <td>0</td>\n",
       "      <td>93826.63</td>\n",
       "      <td>0</td>\n",
       "      <td>0</td>\n",
       "      <td>0</td>\n",
       "      <td>0</td>\n",
       "    </tr>\n",
       "    <tr>\n",
       "      <th>5</th>\n",
       "      <td>850</td>\n",
       "      <td>43</td>\n",
       "      <td>2.0</td>\n",
       "      <td>125510.82</td>\n",
       "      <td>1</td>\n",
       "      <td>1</td>\n",
       "      <td>1</td>\n",
       "      <td>79084.10</td>\n",
       "      <td>0</td>\n",
       "      <td>0</td>\n",
       "      <td>1</td>\n",
       "      <td>0</td>\n",
       "    </tr>\n",
       "  </tbody>\n",
       "</table>\n",
       "</div>"
      ],
      "text/plain": [
       "           CreditScore  Age  Tenure    Balance  NumOfProducts  HasCrCard  \\\n",
       "RowNumber                                                                  \n",
       "1                  619   42     2.0       0.00              1          1   \n",
       "2                  608   41     1.0   83807.86              1          0   \n",
       "3                  502   42     8.0  159660.80              3          1   \n",
       "4                  699   39     1.0       0.00              2          0   \n",
       "5                  850   43     2.0  125510.82              1          1   \n",
       "\n",
       "           IsActiveMember  EstimatedSalary  Exited  Geography_Germany  \\\n",
       "RowNumber                                                               \n",
       "1                       1        101348.88       1                  0   \n",
       "2                       1        112542.58       0                  0   \n",
       "3                       0        113931.57       1                  0   \n",
       "4                       0         93826.63       0                  0   \n",
       "5                       1         79084.10       0                  0   \n",
       "\n",
       "           Geography_Spain  Gender_Male  \n",
       "RowNumber                                \n",
       "1                        0            0  \n",
       "2                        1            0  \n",
       "3                        0            0  \n",
       "4                        0            0  \n",
       "5                        1            0  "
      ]
     },
     "execution_count": 10,
     "metadata": {},
     "output_type": "execute_result"
    }
   ],
   "source": [
    "df2 = pd.get_dummies(df.drop(columns=['CustomerId', 'Surname']), drop_first=True)\n",
    "df2.head()"
   ]
  },
  {
   "cell_type": "code",
   "execution_count": 11,
   "metadata": {},
   "outputs": [
    {
     "name": "stdout",
     "output_type": "stream",
     "text": [
      "(10000, 11) (10000,)\n"
     ]
    }
   ],
   "source": [
    "# выделим признаки\n",
    "X = df2.drop(columns=['Exited'])\n",
    "# выделим целевой признак\n",
    "y = df2['Exited']\n",
    "print(X.shape, y.shape)"
   ]
  },
  {
   "cell_type": "markdown",
   "metadata": {},
   "source": [
    "Сделаем небольшую функцию для оценки сразу пяти метрик: на вход поступают модель, признаки и целевой признак, возвращается строка датафрейма, которую, можно присоединять в циклах."
   ]
  },
  {
   "cell_type": "code",
   "execution_count": 12,
   "metadata": {},
   "outputs": [],
   "source": [
    "# функция для оценки метрик\n",
    "def all_metrics(model, X_val, y_val):\n",
    "    y_pred = model.predict(X_val)\n",
    "    y_proba = model.predict_proba(X_val)\n",
    "    return pd.DataFrame([[accuracy_score(y_val, y_pred),\n",
    "                          recall_score(y_val, y_pred),\n",
    "                          precision_score(y_val, y_pred),\n",
    "                          f1_score(y_val, y_pred),\n",
    "                          roc_auc_score(y_val, y_proba[:, 1])]],\n",
    "                        columns=['accuracy', 'recall', 'precision', 'f1', 'roc_auc'])"
   ]
  },
  {
   "cell_type": "markdown",
   "metadata": {},
   "source": [
    "### Обучение модели без учёта дисбаланса"
   ]
  },
  {
   "cell_type": "markdown",
   "metadata": {},
   "source": [
    "Обучим модель без учёта дисбаланса классов и определим значение метрик, чтобы оценить влияние этого дисбаланса на результат. Для проведения оценки будем использовать **логистическую регрессию** и **дерево решений**. В качестве солвера для логистической регрессии будем использовать `liblinear`, так как он лучше подходит для сравнительно небольших датасетов, при этом не так чувствителен к дисбалансу классов. Остальные параметры оставим без изменений."
   ]
  },
  {
   "cell_type": "markdown",
   "metadata": {},
   "source": [
    "Отложим пятую часть данных для использования в качестве тестовой выборки"
   ]
  },
  {
   "cell_type": "code",
   "execution_count": 13,
   "metadata": {},
   "outputs": [
    {
     "name": "stdout",
     "output_type": "stream",
     "text": [
      "\n",
      "Размер обучающей выборки: (8000, 11), (8000,)\n",
      "Размер тестовой выборки: (2000, 11), (2000,)\n",
      "\n"
     ]
    }
   ],
   "source": [
    "# разбиваем выборку на обучающую и тестовую\n",
    "X_train, X_test, y_train, y_test = train_test_split(X, y, test_size=0.2, random_state=rst)\n",
    "print(f\"\"\"\n",
    "Размер обучающей выборки: {X_train.shape}, {y_train.shape}\n",
    "Размер тестовой выборки: {X_test.shape}, {y_test.shape}\n",
    "\"\"\")"
   ]
  },
  {
   "cell_type": "code",
   "execution_count": 14,
   "metadata": {},
   "outputs": [],
   "source": [
    "# подготовим список числовых признаков\n",
    "num_list = ['CreditScore', 'Age', 'Tenure', 'Balance', 'NumOfProducts', 'EstimatedSalary']"
   ]
  },
  {
   "cell_type": "code",
   "execution_count": 15,
   "metadata": {},
   "outputs": [],
   "source": [
    "# создаим скейлер и фитанём все числовые признаки тренировочной выборки\n",
    "scaler = StandardScaler().fit(X_train[num_list])"
   ]
  },
  {
   "cell_type": "code",
   "execution_count": 16,
   "metadata": {},
   "outputs": [
    {
     "data": {
      "text/html": [
       "<div>\n",
       "<style scoped>\n",
       "    .dataframe tbody tr th:only-of-type {\n",
       "        vertical-align: middle;\n",
       "    }\n",
       "\n",
       "    .dataframe tbody tr th {\n",
       "        vertical-align: top;\n",
       "    }\n",
       "\n",
       "    .dataframe thead th {\n",
       "        text-align: right;\n",
       "    }\n",
       "</style>\n",
       "<table border=\"1\" class=\"dataframe\">\n",
       "  <thead>\n",
       "    <tr style=\"text-align: right;\">\n",
       "      <th></th>\n",
       "      <th>CreditScore</th>\n",
       "      <th>Age</th>\n",
       "      <th>Tenure</th>\n",
       "      <th>Balance</th>\n",
       "      <th>NumOfProducts</th>\n",
       "      <th>HasCrCard</th>\n",
       "      <th>IsActiveMember</th>\n",
       "      <th>EstimatedSalary</th>\n",
       "      <th>Geography_Germany</th>\n",
       "      <th>Geography_Spain</th>\n",
       "      <th>Gender_Male</th>\n",
       "    </tr>\n",
       "    <tr>\n",
       "      <th>RowNumber</th>\n",
       "      <th></th>\n",
       "      <th></th>\n",
       "      <th></th>\n",
       "      <th></th>\n",
       "      <th></th>\n",
       "      <th></th>\n",
       "      <th></th>\n",
       "      <th></th>\n",
       "      <th></th>\n",
       "      <th></th>\n",
       "      <th></th>\n",
       "    </tr>\n",
       "  </thead>\n",
       "  <tbody>\n",
       "    <tr>\n",
       "      <th>17</th>\n",
       "      <td>0.025110</td>\n",
       "      <td>1.794031</td>\n",
       "      <td>-1.447328</td>\n",
       "      <td>0.896437</td>\n",
       "      <td>-0.907235</td>\n",
       "      <td>1</td>\n",
       "      <td>0</td>\n",
       "      <td>-1.650202</td>\n",
       "      <td>1</td>\n",
       "      <td>0</td>\n",
       "      <td>1</td>\n",
       "    </tr>\n",
       "    <tr>\n",
       "      <th>6502</th>\n",
       "      <td>0.295713</td>\n",
       "      <td>-0.838564</td>\n",
       "      <td>1.451223</td>\n",
       "      <td>-1.230680</td>\n",
       "      <td>0.808575</td>\n",
       "      <td>1</td>\n",
       "      <td>0</td>\n",
       "      <td>1.000012</td>\n",
       "      <td>0</td>\n",
       "      <td>0</td>\n",
       "      <td>1</td>\n",
       "    </tr>\n",
       "    <tr>\n",
       "      <th>3062</th>\n",
       "      <td>-0.693028</td>\n",
       "      <td>-0.556500</td>\n",
       "      <td>-0.722690</td>\n",
       "      <td>0.185947</td>\n",
       "      <td>0.808575</td>\n",
       "      <td>1</td>\n",
       "      <td>1</td>\n",
       "      <td>1.343139</td>\n",
       "      <td>1</td>\n",
       "      <td>0</td>\n",
       "      <td>1</td>\n",
       "    </tr>\n",
       "  </tbody>\n",
       "</table>\n",
       "</div>"
      ],
      "text/plain": [
       "           CreditScore       Age    Tenure   Balance  NumOfProducts  \\\n",
       "RowNumber                                                             \n",
       "17            0.025110  1.794031 -1.447328  0.896437      -0.907235   \n",
       "6502          0.295713 -0.838564  1.451223 -1.230680       0.808575   \n",
       "3062         -0.693028 -0.556500 -0.722690  0.185947       0.808575   \n",
       "\n",
       "           HasCrCard  IsActiveMember  EstimatedSalary  Geography_Germany  \\\n",
       "RowNumber                                                                  \n",
       "17                 1               0        -1.650202                  1   \n",
       "6502               1               0         1.000012                  0   \n",
       "3062               1               1         1.343139                  1   \n",
       "\n",
       "           Geography_Spain  Gender_Male  \n",
       "RowNumber                                \n",
       "17                       0            1  \n",
       "6502                     0            1  \n",
       "3062                     0            1  "
      ]
     },
     "execution_count": 16,
     "metadata": {},
     "output_type": "execute_result"
    }
   ],
   "source": [
    "# используем скейлер для трансформации признаков выборок\n",
    "X_train[num_list] = scaler.transform(X_train[num_list])\n",
    "# X_val[num_list] = scaler.transform(X_val[num_list])\n",
    "X_test[num_list] = scaler.transform(X_test[num_list])\n",
    "X_train.head(3)"
   ]
  },
  {
   "cell_type": "markdown",
   "metadata": {},
   "source": [
    "#### Дерево решений"
   ]
  },
  {
   "cell_type": "code",
   "execution_count": 17,
   "metadata": {},
   "outputs": [],
   "source": [
    "# для построения таблицы без лишних столбцов\n",
    "m = 'mean_test_'\n",
    "r = 'rank_test_'\n",
    "metrics = ['accuracy', 'recall', 'precision', 'f1', 'roc_auc']"
   ]
  },
  {
   "cell_type": "code",
   "execution_count": 18,
   "metadata": {},
   "outputs": [
    {
     "name": "stdout",
     "output_type": "stream",
     "text": [
      "Fitting 5 folds for each of 18 candidates, totalling 90 fits\n"
     ]
    },
    {
     "data": {
      "text/html": [
       "<div>\n",
       "<style scoped>\n",
       "    .dataframe tbody tr th:only-of-type {\n",
       "        vertical-align: middle;\n",
       "    }\n",
       "\n",
       "    .dataframe tbody tr th {\n",
       "        vertical-align: top;\n",
       "    }\n",
       "\n",
       "    .dataframe thead th {\n",
       "        text-align: right;\n",
       "    }\n",
       "</style>\n",
       "<table border=\"1\" class=\"dataframe\">\n",
       "  <thead>\n",
       "    <tr style=\"text-align: right;\">\n",
       "      <th></th>\n",
       "      <th>param_max_depth</th>\n",
       "      <th>mean_test_accuracy</th>\n",
       "      <th>mean_test_recall</th>\n",
       "      <th>mean_test_precision</th>\n",
       "      <th>mean_test_f1</th>\n",
       "      <th>mean_test_roc_auc</th>\n",
       "      <th>rank_test_accuracy</th>\n",
       "      <th>rank_test_recall</th>\n",
       "      <th>rank_test_precision</th>\n",
       "      <th>rank_test_f1</th>\n",
       "      <th>rank_test_roc_auc</th>\n",
       "    </tr>\n",
       "  </thead>\n",
       "  <tbody>\n",
       "    <tr>\n",
       "      <th>4</th>\n",
       "      <td>6</td>\n",
       "      <td>0.857250</td>\n",
       "      <td>0.455753</td>\n",
       "      <td>0.751940</td>\n",
       "      <td>0.565983</td>\n",
       "      <td>0.828599</td>\n",
       "      <td>1</td>\n",
       "      <td>14</td>\n",
       "      <td>3</td>\n",
       "      <td>1</td>\n",
       "      <td>1</td>\n",
       "    </tr>\n",
       "    <tr>\n",
       "      <th>5</th>\n",
       "      <td>7</td>\n",
       "      <td>0.852375</td>\n",
       "      <td>0.458208</td>\n",
       "      <td>0.720152</td>\n",
       "      <td>0.559564</td>\n",
       "      <td>0.825132</td>\n",
       "      <td>3</td>\n",
       "      <td>13</td>\n",
       "      <td>5</td>\n",
       "      <td>2</td>\n",
       "      <td>3</td>\n",
       "    </tr>\n",
       "    <tr>\n",
       "      <th>6</th>\n",
       "      <td>8</td>\n",
       "      <td>0.848750</td>\n",
       "      <td>0.463702</td>\n",
       "      <td>0.697221</td>\n",
       "      <td>0.556690</td>\n",
       "      <td>0.811778</td>\n",
       "      <td>4</td>\n",
       "      <td>11</td>\n",
       "      <td>6</td>\n",
       "      <td>3</td>\n",
       "      <td>4</td>\n",
       "    </tr>\n",
       "    <tr>\n",
       "      <th>3</th>\n",
       "      <td>5</td>\n",
       "      <td>0.852625</td>\n",
       "      <td>0.452724</td>\n",
       "      <td>0.728674</td>\n",
       "      <td>0.555207</td>\n",
       "      <td>0.825369</td>\n",
       "      <td>2</td>\n",
       "      <td>15</td>\n",
       "      <td>4</td>\n",
       "      <td>4</td>\n",
       "      <td>2</td>\n",
       "    </tr>\n",
       "    <tr>\n",
       "      <th>8</th>\n",
       "      <td>10</td>\n",
       "      <td>0.834125</td>\n",
       "      <td>0.480193</td>\n",
       "      <td>0.624465</td>\n",
       "      <td>0.542456</td>\n",
       "      <td>0.764966</td>\n",
       "      <td>8</td>\n",
       "      <td>8</td>\n",
       "      <td>9</td>\n",
       "      <td>5</td>\n",
       "      <td>8</td>\n",
       "    </tr>\n",
       "  </tbody>\n",
       "</table>\n",
       "</div>"
      ],
      "text/plain": [
       "  param_max_depth  mean_test_accuracy  mean_test_recall  mean_test_precision  \\\n",
       "4               6            0.857250          0.455753             0.751940   \n",
       "5               7            0.852375          0.458208             0.720152   \n",
       "6               8            0.848750          0.463702             0.697221   \n",
       "3               5            0.852625          0.452724             0.728674   \n",
       "8              10            0.834125          0.480193             0.624465   \n",
       "\n",
       "   mean_test_f1  mean_test_roc_auc  rank_test_accuracy  rank_test_recall  \\\n",
       "4      0.565983           0.828599                   1                14   \n",
       "5      0.559564           0.825132                   3                13   \n",
       "6      0.556690           0.811778                   4                11   \n",
       "3      0.555207           0.825369                   2                15   \n",
       "8      0.542456           0.764966                   8                 8   \n",
       "\n",
       "   rank_test_precision  rank_test_f1  rank_test_roc_auc  \n",
       "4                    3             1                  1  \n",
       "5                    5             2                  3  \n",
       "6                    6             3                  4  \n",
       "3                    4             4                  2  \n",
       "8                    9             5                  8  "
      ]
     },
     "execution_count": 18,
     "metadata": {},
     "output_type": "execute_result"
    }
   ],
   "source": [
    "# переберём максимальную глубину дерева решений и определим метрики\n",
    "model_dt = DecisionTreeClassifier(random_state=rst)\n",
    "param_dict = {'max_depth': list(range(2, 20))}\n",
    "\n",
    "clf_dt = GridSearchCV(\n",
    "    model_dt,\n",
    "    param_dict,\n",
    "    scoring=['accuracy', 'recall', 'precision', 'f1', 'roc_auc'],\n",
    "    verbose=1,\n",
    "    refit='f1'\n",
    ")\n",
    "\n",
    "clf_dt.fit(X_train, y_train)\n",
    "df_model_dt = pd.DataFrame(clf_dt.cv_results_)[['param_max_depth'] + [m + i for i in metrics] + [r + i for i in metrics]]\n",
    "df_model_dt.sort_values(by='rank_test_f1').head()"
   ]
  },
  {
   "cell_type": "code",
   "execution_count": 19,
   "metadata": {},
   "outputs": [
    {
     "data": {
      "image/png": "[encoded data removed]",
      "text/plain": [
       "<Figure size 432x432 with 1 Axes>"
      ]
     },
     "metadata": {
      "needs_background": "light"
     },
     "output_type": "display_data"
    }
   ],
   "source": [
    "# построим графики\n",
    "df_model_dt[['param_max_depth'] + [m + i for i in metrics]].plot(x='param_max_depth', grid=True, style='-o', figsize=(6, 6))\n",
    "plt.show()"
   ]
  },
  {
   "cell_type": "code",
   "execution_count": 20,
   "metadata": {},
   "outputs": [
    {
     "data": {
      "text/html": [
       "<div>\n",
       "<style scoped>\n",
       "    .dataframe tbody tr th:only-of-type {\n",
       "        vertical-align: middle;\n",
       "    }\n",
       "\n",
       "    .dataframe tbody tr th {\n",
       "        vertical-align: top;\n",
       "    }\n",
       "\n",
       "    .dataframe thead th {\n",
       "        text-align: right;\n",
       "    }\n",
       "</style>\n",
       "<table border=\"1\" class=\"dataframe\">\n",
       "  <thead>\n",
       "    <tr style=\"text-align: right;\">\n",
       "      <th></th>\n",
       "      <th>accuracy</th>\n",
       "      <th>recall</th>\n",
       "      <th>precision</th>\n",
       "      <th>f1</th>\n",
       "      <th>roc_auc</th>\n",
       "    </tr>\n",
       "  </thead>\n",
       "  <tbody>\n",
       "    <tr>\n",
       "      <th>0</th>\n",
       "      <td>0.852</td>\n",
       "      <td>0.38191</td>\n",
       "      <td>0.752475</td>\n",
       "      <td>0.506667</td>\n",
       "      <td>0.83734</td>\n",
       "    </tr>\n",
       "  </tbody>\n",
       "</table>\n",
       "</div>"
      ],
      "text/plain": [
       "   accuracy   recall  precision        f1  roc_auc\n",
       "0     0.852  0.38191   0.752475  0.506667  0.83734"
      ]
     },
     "execution_count": 20,
     "metadata": {},
     "output_type": "execute_result"
    }
   ],
   "source": [
    "# проверим лучшую модель на тестовой выборке\n",
    "all_metrics(clf_dt.best_estimator_, X_test, y_test)"
   ]
  },
  {
   "cell_type": "markdown",
   "metadata": {},
   "source": [
    "#### Логистическая регрессия"
   ]
  },
  {
   "cell_type": "code",
   "execution_count": 21,
   "metadata": {},
   "outputs": [
    {
     "data": {
      "text/html": [
       "<div>\n",
       "<style scoped>\n",
       "    .dataframe tbody tr th:only-of-type {\n",
       "        vertical-align: middle;\n",
       "    }\n",
       "\n",
       "    .dataframe tbody tr th {\n",
       "        vertical-align: top;\n",
       "    }\n",
       "\n",
       "    .dataframe thead th {\n",
       "        text-align: right;\n",
       "    }\n",
       "</style>\n",
       "<table border=\"1\" class=\"dataframe\">\n",
       "  <thead>\n",
       "    <tr style=\"text-align: right;\">\n",
       "      <th></th>\n",
       "      <th>accuracy</th>\n",
       "      <th>recall</th>\n",
       "      <th>precision</th>\n",
       "      <th>f1</th>\n",
       "      <th>roc_auc</th>\n",
       "    </tr>\n",
       "  </thead>\n",
       "  <tbody>\n",
       "    <tr>\n",
       "      <th>0</th>\n",
       "      <td>0.8095</td>\n",
       "      <td>0.203518</td>\n",
       "      <td>0.558621</td>\n",
       "      <td>0.298343</td>\n",
       "      <td>0.765599</td>\n",
       "    </tr>\n",
       "  </tbody>\n",
       "</table>\n",
       "</div>"
      ],
      "text/plain": [
       "   accuracy    recall  precision        f1   roc_auc\n",
       "0    0.8095  0.203518   0.558621  0.298343  0.765599"
      ]
     },
     "execution_count": 21,
     "metadata": {},
     "output_type": "execute_result"
    }
   ],
   "source": [
    "# построим логистическую регрессию и определим метрики на тестовой выборке\n",
    "model_lr = LogisticRegression(random_state=rst).fit(X_train, y_train)\n",
    "all_metrics(model_lr, X_test, y_test)"
   ]
  },
  {
   "cell_type": "markdown",
   "metadata": {},
   "source": [
    "### Предварительный вывод"
   ]
  },
  {
   "cell_type": "markdown",
   "metadata": {},
   "source": [
    "* ни решающим деревом, ни логистической регрессией не удалось достичь удовлетворительного значения **F1-score**\n",
    "* **F1-score** логистической регресси намного ниже такового у решающего дерева: чувствительность логистической регрессии к дисбалансу классов намного выше, чем у решающего дерева\n",
    "* метрик **ROC_AUC** в обоих случаях довольно высокая, так как она нечувствительна к дисбалансу классов\n",
    "* необходимо исправить дисбаланс классов целевого признака"
   ]
  },
  {
   "cell_type": "markdown",
   "metadata": {},
   "source": [
    "## Борьба с дисбалансом"
   ]
  },
  {
   "cell_type": "markdown",
   "metadata": {},
   "source": [
    "### Балансировка целевого признака: параметр `class_weight`"
   ]
  },
  {
   "cell_type": "markdown",
   "metadata": {},
   "source": [
    "Для борьбы с дисбалансом классов целевого признака воспользуемся параметром `class_weight` при использовании моделей"
   ]
  },
  {
   "cell_type": "markdown",
   "metadata": {},
   "source": [
    "#### Решающее дерево"
   ]
  },
  {
   "cell_type": "markdown",
   "metadata": {},
   "source": [
    "Как и в предыдущем пункте, построим модели **решающего дерева** и **логистической регрессии**, добавив `class_weight = 'balanced'`"
   ]
  },
  {
   "cell_type": "code",
   "execution_count": 22,
   "metadata": {
    "scrolled": true
   },
   "outputs": [
    {
     "name": "stdout",
     "output_type": "stream",
     "text": [
      "Fitting 5 folds for each of 18 candidates, totalling 90 fits\n"
     ]
    },
    {
     "data": {
      "text/html": [
       "<div>\n",
       "<style scoped>\n",
       "    .dataframe tbody tr th:only-of-type {\n",
       "        vertical-align: middle;\n",
       "    }\n",
       "\n",
       "    .dataframe tbody tr th {\n",
       "        vertical-align: top;\n",
       "    }\n",
       "\n",
       "    .dataframe thead th {\n",
       "        text-align: right;\n",
       "    }\n",
       "</style>\n",
       "<table border=\"1\" class=\"dataframe\">\n",
       "  <thead>\n",
       "    <tr style=\"text-align: right;\">\n",
       "      <th></th>\n",
       "      <th>param_max_depth</th>\n",
       "      <th>mean_test_accuracy</th>\n",
       "      <th>mean_test_recall</th>\n",
       "      <th>mean_test_precision</th>\n",
       "      <th>mean_test_f1</th>\n",
       "      <th>mean_test_roc_auc</th>\n",
       "      <th>rank_test_accuracy</th>\n",
       "      <th>rank_test_recall</th>\n",
       "      <th>rank_test_precision</th>\n",
       "      <th>rank_test_f1</th>\n",
       "      <th>rank_test_roc_auc</th>\n",
       "    </tr>\n",
       "  </thead>\n",
       "  <tbody>\n",
       "    <tr>\n",
       "      <th>4</th>\n",
       "      <td>6</td>\n",
       "      <td>0.77750</td>\n",
       "      <td>0.735207</td>\n",
       "      <td>0.472485</td>\n",
       "      <td>0.575206</td>\n",
       "      <td>0.832102</td>\n",
       "      <td>12</td>\n",
       "      <td>3</td>\n",
       "      <td>13</td>\n",
       "      <td>1</td>\n",
       "      <td>1</td>\n",
       "    </tr>\n",
       "    <tr>\n",
       "      <th>5</th>\n",
       "      <td>7</td>\n",
       "      <td>0.78400</td>\n",
       "      <td>0.708975</td>\n",
       "      <td>0.482783</td>\n",
       "      <td>0.573982</td>\n",
       "      <td>0.826703</td>\n",
       "      <td>9</td>\n",
       "      <td>4</td>\n",
       "      <td>7</td>\n",
       "      <td>2</td>\n",
       "      <td>3</td>\n",
       "    </tr>\n",
       "    <tr>\n",
       "      <th>3</th>\n",
       "      <td>5</td>\n",
       "      <td>0.75600</td>\n",
       "      <td>0.773048</td>\n",
       "      <td>0.445743</td>\n",
       "      <td>0.564915</td>\n",
       "      <td>0.830707</td>\n",
       "      <td>15</td>\n",
       "      <td>1</td>\n",
       "      <td>15</td>\n",
       "      <td>3</td>\n",
       "      <td>2</td>\n",
       "    </tr>\n",
       "    <tr>\n",
       "      <th>6</th>\n",
       "      <td>8</td>\n",
       "      <td>0.77975</td>\n",
       "      <td>0.692511</td>\n",
       "      <td>0.474816</td>\n",
       "      <td>0.563105</td>\n",
       "      <td>0.800725</td>\n",
       "      <td>10</td>\n",
       "      <td>5</td>\n",
       "      <td>10</td>\n",
       "      <td>4</td>\n",
       "      <td>5</td>\n",
       "    </tr>\n",
       "    <tr>\n",
       "      <th>7</th>\n",
       "      <td>9</td>\n",
       "      <td>0.77725</td>\n",
       "      <td>0.674797</td>\n",
       "      <td>0.473473</td>\n",
       "      <td>0.554998</td>\n",
       "      <td>0.778896</td>\n",
       "      <td>13</td>\n",
       "      <td>8</td>\n",
       "      <td>11</td>\n",
       "      <td>5</td>\n",
       "      <td>7</td>\n",
       "    </tr>\n",
       "  </tbody>\n",
       "</table>\n",
       "</div>"
      ],
      "text/plain": [
       "  param_max_depth  mean_test_accuracy  mean_test_recall  mean_test_precision  \\\n",
       "4               6             0.77750          0.735207             0.472485   \n",
       "5               7             0.78400          0.708975             0.482783   \n",
       "3               5             0.75600          0.773048             0.445743   \n",
       "6               8             0.77975          0.692511             0.474816   \n",
       "7               9             0.77725          0.674797             0.473473   \n",
       "\n",
       "   mean_test_f1  mean_test_roc_auc  rank_test_accuracy  rank_test_recall  \\\n",
       "4      0.575206           0.832102                  12                 3   \n",
       "5      0.573982           0.826703                   9                 4   \n",
       "3      0.564915           0.830707                  15                 1   \n",
       "6      0.563105           0.800725                  10                 5   \n",
       "7      0.554998           0.778896                  13                 8   \n",
       "\n",
       "   rank_test_precision  rank_test_f1  rank_test_roc_auc  \n",
       "4                   13             1                  1  \n",
       "5                    7             2                  3  \n",
       "3                   15             3                  2  \n",
       "6                   10             4                  5  \n",
       "7                   11             5                  7  "
      ]
     },
     "execution_count": 22,
     "metadata": {},
     "output_type": "execute_result"
    }
   ],
   "source": [
    "# переберём максимальную глубину дерева решений и определим метрики\n",
    "model_dt_balanced = DecisionTreeClassifier(random_state=rst, class_weight='balanced')\n",
    "param_dict = {'max_depth': list(range(2, 20))}\n",
    "\n",
    "clf_dt_balanced = GridSearchCV(\n",
    "    model_dt_balanced,\n",
    "    param_dict,\n",
    "    scoring=['accuracy', 'recall', 'precision', 'f1', 'roc_auc'],\n",
    "    verbose=1,\n",
    "    refit='f1'\n",
    ")\n",
    "\n",
    "clf_dt_balanced.fit(X_train, y_train)\n",
    "df_model_dt_balanced = pd.DataFrame(clf_dt_balanced.cv_results_)[['param_max_depth'] + [m + i for i in metrics] + [r + i for i in metrics]]\n",
    "df_model_dt_balanced.sort_values(by='rank_test_f1').head()"
   ]
  },
  {
   "cell_type": "code",
   "execution_count": 23,
   "metadata": {
    "scrolled": false
   },
   "outputs": [
    {
     "data": {
      "image/png": "[encoded data removed]",
      "text/plain": [
       "<Figure size 432x432 with 1 Axes>"
      ]
     },
     "metadata": {
      "needs_background": "light"
     },
     "output_type": "display_data"
    }
   ],
   "source": [
    "# построим графики\n",
    "df_model_dt_balanced[['param_max_depth'] + [m + i for i in metrics]].plot(x='param_max_depth', grid=True, style='-o', figsize=(6, 6))\n",
    "plt.show()"
   ]
  },
  {
   "cell_type": "code",
   "execution_count": 24,
   "metadata": {},
   "outputs": [
    {
     "data": {
      "text/html": [
       "<div>\n",
       "<style scoped>\n",
       "    .dataframe tbody tr th:only-of-type {\n",
       "        vertical-align: middle;\n",
       "    }\n",
       "\n",
       "    .dataframe tbody tr th {\n",
       "        vertical-align: top;\n",
       "    }\n",
       "\n",
       "    .dataframe thead th {\n",
       "        text-align: right;\n",
       "    }\n",
       "</style>\n",
       "<table border=\"1\" class=\"dataframe\">\n",
       "  <thead>\n",
       "    <tr style=\"text-align: right;\">\n",
       "      <th></th>\n",
       "      <th>accuracy</th>\n",
       "      <th>recall</th>\n",
       "      <th>precision</th>\n",
       "      <th>f1</th>\n",
       "      <th>roc_auc</th>\n",
       "    </tr>\n",
       "  </thead>\n",
       "  <tbody>\n",
       "    <tr>\n",
       "      <th>0</th>\n",
       "      <td>0.7895</td>\n",
       "      <td>0.758794</td>\n",
       "      <td>0.481659</td>\n",
       "      <td>0.589268</td>\n",
       "      <td>0.844531</td>\n",
       "    </tr>\n",
       "  </tbody>\n",
       "</table>\n",
       "</div>"
      ],
      "text/plain": [
       "   accuracy    recall  precision        f1   roc_auc\n",
       "0    0.7895  0.758794   0.481659  0.589268  0.844531"
      ]
     },
     "execution_count": 24,
     "metadata": {},
     "output_type": "execute_result"
    }
   ],
   "source": [
    "# проверим лучшую модель на тестовой выборке\n",
    "all_metrics(clf_dt_balanced.best_estimator_, X_test, y_test)"
   ]
  },
  {
   "cell_type": "code",
   "execution_count": 25,
   "metadata": {},
   "outputs": [
    {
     "data": {
      "text/html": [
       "<div>\n",
       "<style scoped>\n",
       "    .dataframe tbody tr th:only-of-type {\n",
       "        vertical-align: middle;\n",
       "    }\n",
       "\n",
       "    .dataframe tbody tr th {\n",
       "        vertical-align: top;\n",
       "    }\n",
       "\n",
       "    .dataframe thead th {\n",
       "        text-align: right;\n",
       "    }\n",
       "</style>\n",
       "<table border=\"1\" class=\"dataframe\">\n",
       "  <thead>\n",
       "    <tr style=\"text-align: right;\">\n",
       "      <th></th>\n",
       "      <th>accuracy</th>\n",
       "      <th>recall</th>\n",
       "      <th>precision</th>\n",
       "      <th>f1</th>\n",
       "      <th>roc_auc</th>\n",
       "    </tr>\n",
       "  </thead>\n",
       "  <tbody>\n",
       "    <tr>\n",
       "      <th>0</th>\n",
       "      <td>0.852</td>\n",
       "      <td>0.38191</td>\n",
       "      <td>0.752475</td>\n",
       "      <td>0.506667</td>\n",
       "      <td>0.83734</td>\n",
       "    </tr>\n",
       "  </tbody>\n",
       "</table>\n",
       "</div>"
      ],
      "text/plain": [
       "   accuracy   recall  precision        f1  roc_auc\n",
       "0     0.852  0.38191   0.752475  0.506667  0.83734"
      ]
     },
     "execution_count": 25,
     "metadata": {},
     "output_type": "execute_result"
    }
   ],
   "source": [
    "# для сравнения метрики лучшей модели без учёта дисбаланса\n",
    "all_metrics(clf_dt.best_estimator_, X_test, y_test)"
   ]
  },
  {
   "cell_type": "markdown",
   "metadata": {},
   "source": [
    "#### Логистическая регрессия"
   ]
  },
  {
   "cell_type": "code",
   "execution_count": 26,
   "metadata": {},
   "outputs": [
    {
     "data": {
      "text/html": [
       "<div>\n",
       "<style scoped>\n",
       "    .dataframe tbody tr th:only-of-type {\n",
       "        vertical-align: middle;\n",
       "    }\n",
       "\n",
       "    .dataframe tbody tr th {\n",
       "        vertical-align: top;\n",
       "    }\n",
       "\n",
       "    .dataframe thead th {\n",
       "        text-align: right;\n",
       "    }\n",
       "</style>\n",
       "<table border=\"1\" class=\"dataframe\">\n",
       "  <thead>\n",
       "    <tr style=\"text-align: right;\">\n",
       "      <th></th>\n",
       "      <th>accuracy</th>\n",
       "      <th>recall</th>\n",
       "      <th>precision</th>\n",
       "      <th>f1</th>\n",
       "      <th>roc_auc</th>\n",
       "    </tr>\n",
       "  </thead>\n",
       "  <tbody>\n",
       "    <tr>\n",
       "      <th>0</th>\n",
       "      <td>0.7015</td>\n",
       "      <td>0.688442</td>\n",
       "      <td>0.366801</td>\n",
       "      <td>0.478603</td>\n",
       "      <td>0.769569</td>\n",
       "    </tr>\n",
       "  </tbody>\n",
       "</table>\n",
       "</div>"
      ],
      "text/plain": [
       "   accuracy    recall  precision        f1   roc_auc\n",
       "0    0.7015  0.688442   0.366801  0.478603  0.769569"
      ]
     },
     "execution_count": 26,
     "metadata": {},
     "output_type": "execute_result"
    }
   ],
   "source": [
    "# построим логистическую регрессию и определим метрики на тестовой выборке\n",
    "model_lr_balanced = LogisticRegression(random_state=rst, class_weight='balanced').fit(X_train, y_train)\n",
    "all_metrics(model_lr_balanced, X_test, y_test)"
   ]
  },
  {
   "cell_type": "code",
   "execution_count": 27,
   "metadata": {},
   "outputs": [
    {
     "data": {
      "text/html": [
       "<div>\n",
       "<style scoped>\n",
       "    .dataframe tbody tr th:only-of-type {\n",
       "        vertical-align: middle;\n",
       "    }\n",
       "\n",
       "    .dataframe tbody tr th {\n",
       "        vertical-align: top;\n",
       "    }\n",
       "\n",
       "    .dataframe thead th {\n",
       "        text-align: right;\n",
       "    }\n",
       "</style>\n",
       "<table border=\"1\" class=\"dataframe\">\n",
       "  <thead>\n",
       "    <tr style=\"text-align: right;\">\n",
       "      <th></th>\n",
       "      <th>accuracy</th>\n",
       "      <th>recall</th>\n",
       "      <th>precision</th>\n",
       "      <th>f1</th>\n",
       "      <th>roc_auc</th>\n",
       "    </tr>\n",
       "  </thead>\n",
       "  <tbody>\n",
       "    <tr>\n",
       "      <th>0</th>\n",
       "      <td>0.8095</td>\n",
       "      <td>0.203518</td>\n",
       "      <td>0.558621</td>\n",
       "      <td>0.298343</td>\n",
       "      <td>0.765599</td>\n",
       "    </tr>\n",
       "  </tbody>\n",
       "</table>\n",
       "</div>"
      ],
      "text/plain": [
       "   accuracy    recall  precision        f1   roc_auc\n",
       "0    0.8095  0.203518   0.558621  0.298343  0.765599"
      ]
     },
     "execution_count": 27,
     "metadata": {},
     "output_type": "execute_result"
    }
   ],
   "source": [
    "# для сравнения метрики логистической регрессии до устранения дисбаланса\n",
    "all_metrics(model_lr, X_test, y_test)"
   ]
  },
  {
   "cell_type": "markdown",
   "metadata": {},
   "source": [
    "#### Предварительный вывод\n",
    "* результаты лучше, чем были без дисбаланса классов но **f1-мера** по-прежнему недостаточно высокая\n",
    "* значительно выросла **полнота** - на эту метрику оказывало сильное влияние небольшое количество положительных классов целевого признака; в модели со сбалансированным целевым признаком вес положительных классов увеличился\n",
    "* метрика **roc-auc** практически не изменилась\n",
    "* воспользуемся моделью **случайного леса** и найдём гиперпаметры, и попробуем добиться нужного значения **f1-меры**"
   ]
  },
  {
   "cell_type": "markdown",
   "metadata": {},
   "source": [
    "#### Случайный лес"
   ]
  },
  {
   "cell_type": "markdown",
   "metadata": {},
   "source": [
    "Подберём гиперпараметры, используя `GridSearchCV`"
   ]
  },
  {
   "cell_type": "code",
   "execution_count": 28,
   "metadata": {},
   "outputs": [
    {
     "name": "stdout",
     "output_type": "stream",
     "text": [
      "Fitting 5 folds for each of 50 candidates, totalling 250 fits\n"
     ]
    },
    {
     "data": {
      "text/html": [
       "<div>\n",
       "<style scoped>\n",
       "    .dataframe tbody tr th:only-of-type {\n",
       "        vertical-align: middle;\n",
       "    }\n",
       "\n",
       "    .dataframe tbody tr th {\n",
       "        vertical-align: top;\n",
       "    }\n",
       "\n",
       "    .dataframe thead th {\n",
       "        text-align: right;\n",
       "    }\n",
       "</style>\n",
       "<table border=\"1\" class=\"dataframe\">\n",
       "  <thead>\n",
       "    <tr style=\"text-align: right;\">\n",
       "      <th></th>\n",
       "      <th>param_max_depth</th>\n",
       "      <th>param_n_estimators</th>\n",
       "      <th>mean_test_accuracy</th>\n",
       "      <th>mean_test_recall</th>\n",
       "      <th>mean_test_precision</th>\n",
       "      <th>mean_test_f1</th>\n",
       "      <th>mean_test_roc_auc</th>\n",
       "      <th>rank_test_accuracy</th>\n",
       "      <th>rank_test_recall</th>\n",
       "      <th>rank_test_precision</th>\n",
       "      <th>rank_test_f1</th>\n",
       "      <th>rank_test_roc_auc</th>\n",
       "    </tr>\n",
       "  </thead>\n",
       "  <tbody>\n",
       "    <tr>\n",
       "      <th>21</th>\n",
       "      <td>9</td>\n",
       "      <td>46</td>\n",
       "      <td>0.839250</td>\n",
       "      <td>0.646120</td>\n",
       "      <td>0.601186</td>\n",
       "      <td>0.622477</td>\n",
       "      <td>0.859165</td>\n",
       "      <td>22</td>\n",
       "      <td>21</td>\n",
       "      <td>22</td>\n",
       "      <td>1</td>\n",
       "      <td>9</td>\n",
       "    </tr>\n",
       "    <tr>\n",
       "      <th>39</th>\n",
       "      <td>10</td>\n",
       "      <td>54</td>\n",
       "      <td>0.845750</td>\n",
       "      <td>0.619887</td>\n",
       "      <td>0.625197</td>\n",
       "      <td>0.622358</td>\n",
       "      <td>0.855954</td>\n",
       "      <td>11</td>\n",
       "      <td>31</td>\n",
       "      <td>11</td>\n",
       "      <td>2</td>\n",
       "      <td>31</td>\n",
       "    </tr>\n",
       "    <tr>\n",
       "      <th>23</th>\n",
       "      <td>9</td>\n",
       "      <td>48</td>\n",
       "      <td>0.839250</td>\n",
       "      <td>0.644898</td>\n",
       "      <td>0.600968</td>\n",
       "      <td>0.621921</td>\n",
       "      <td>0.859608</td>\n",
       "      <td>22</td>\n",
       "      <td>22</td>\n",
       "      <td>24</td>\n",
       "      <td>3</td>\n",
       "      <td>7</td>\n",
       "    </tr>\n",
       "    <tr>\n",
       "      <th>26</th>\n",
       "      <td>9</td>\n",
       "      <td>51</td>\n",
       "      <td>0.839875</td>\n",
       "      <td>0.641848</td>\n",
       "      <td>0.603097</td>\n",
       "      <td>0.621693</td>\n",
       "      <td>0.859972</td>\n",
       "      <td>21</td>\n",
       "      <td>27</td>\n",
       "      <td>21</td>\n",
       "      <td>4</td>\n",
       "      <td>1</td>\n",
       "    </tr>\n",
       "    <tr>\n",
       "      <th>20</th>\n",
       "      <td>9</td>\n",
       "      <td>45</td>\n",
       "      <td>0.838750</td>\n",
       "      <td>0.643681</td>\n",
       "      <td>0.600129</td>\n",
       "      <td>0.620841</td>\n",
       "      <td>0.859159</td>\n",
       "      <td>26</td>\n",
       "      <td>23</td>\n",
       "      <td>26</td>\n",
       "      <td>5</td>\n",
       "      <td>10</td>\n",
       "    </tr>\n",
       "  </tbody>\n",
       "</table>\n",
       "</div>"
      ],
      "text/plain": [
       "   param_max_depth param_n_estimators  mean_test_accuracy  mean_test_recall  \\\n",
       "21               9                 46            0.839250          0.646120   \n",
       "39              10                 54            0.845750          0.619887   \n",
       "23               9                 48            0.839250          0.644898   \n",
       "26               9                 51            0.839875          0.641848   \n",
       "20               9                 45            0.838750          0.643681   \n",
       "\n",
       "    mean_test_precision  mean_test_f1  mean_test_roc_auc  rank_test_accuracy  \\\n",
       "21             0.601186      0.622477           0.859165                  22   \n",
       "39             0.625197      0.622358           0.855954                  11   \n",
       "23             0.600968      0.621921           0.859608                  22   \n",
       "26             0.603097      0.621693           0.859972                  21   \n",
       "20             0.600129      0.620841           0.859159                  26   \n",
       "\n",
       "    rank_test_recall  rank_test_precision  rank_test_f1  rank_test_roc_auc  \n",
       "21                21                   22             1                  9  \n",
       "39                31                   11             2                 31  \n",
       "23                22                   24             3                  7  \n",
       "26                27                   21             4                  1  \n",
       "20                23                   26             5                 10  "
      ]
     },
     "execution_count": 28,
     "metadata": {},
     "output_type": "execute_result"
    }
   ],
   "source": [
    "# переберём количество деревьев и максимальную глубину\n",
    "model_rf_balanced = RandomForestClassifier(random_state=rst, class_weight='balanced')\n",
    "param_dict_rf = {'n_estimators': list(range(45, 55)),\n",
    "                 'max_depth': list(range(7, 12))}\n",
    "\n",
    "clf_rf_balanced = GridSearchCV(\n",
    "    model_rf_balanced,\n",
    "    param_dict_rf,\n",
    "    scoring=['accuracy', 'recall', 'precision', 'f1', 'roc_auc'], \n",
    "    verbose=1,\n",
    "    refit='f1'\n",
    ")\n",
    "\n",
    "clf_rf_balanced.fit(X_train, y_train)\n",
    "df_model_rf_balanced = pd.DataFrame(clf_rf_balanced.cv_results_)[['param_max_depth', 'param_n_estimators'] + [m + i for i in metrics] + [r + i for i in metrics]]\n",
    "df_model_rf_balanced.sort_values(by='rank_test_f1').head()"
   ]
  },
  {
   "cell_type": "code",
   "execution_count": 29,
   "metadata": {},
   "outputs": [
    {
     "data": {
      "text/html": [
       "<div>\n",
       "<style scoped>\n",
       "    .dataframe tbody tr th:only-of-type {\n",
       "        vertical-align: middle;\n",
       "    }\n",
       "\n",
       "    .dataframe tbody tr th {\n",
       "        vertical-align: top;\n",
       "    }\n",
       "\n",
       "    .dataframe thead th {\n",
       "        text-align: right;\n",
       "    }\n",
       "</style>\n",
       "<table border=\"1\" class=\"dataframe\">\n",
       "  <thead>\n",
       "    <tr style=\"text-align: right;\">\n",
       "      <th></th>\n",
       "      <th>accuracy</th>\n",
       "      <th>recall</th>\n",
       "      <th>precision</th>\n",
       "      <th>f1</th>\n",
       "      <th>roc_auc</th>\n",
       "    </tr>\n",
       "  </thead>\n",
       "  <tbody>\n",
       "    <tr>\n",
       "      <th>0</th>\n",
       "      <td>0.8245</td>\n",
       "      <td>0.663317</td>\n",
       "      <td>0.548857</td>\n",
       "      <td>0.600683</td>\n",
       "      <td>0.857455</td>\n",
       "    </tr>\n",
       "  </tbody>\n",
       "</table>\n",
       "</div>"
      ],
      "text/plain": [
       "   accuracy    recall  precision        f1   roc_auc\n",
       "0    0.8245  0.663317   0.548857  0.600683  0.857455"
      ]
     },
     "execution_count": 29,
     "metadata": {},
     "output_type": "execute_result"
    }
   ],
   "source": [
    "# проверим лучшую модель на тестовой выборке\n",
    "all_metrics(clf_rf_balanced.best_estimator_, X_test, y_test)"
   ]
  },
  {
   "cell_type": "markdown",
   "metadata": {},
   "source": [
    "#### Предварительный вывод\n",
    "* найдены параметры, при которых значение **f1-меры** удовлетворяет условию задачи, но это значение очень близко к 0.59\n",
    "* значение **roc-auc** лучшей модели ~~также стало выше, но при наивысшем **f1 score** средний **roc-auc** не самый наивысший из возможных~~ немногим выше, чем таковой у решающего дерева\n",
    "* посмотрим, можно ли увеличить метрику **f1-score**, увеличив количесво положительных классов"
   ]
  },
  {
   "cell_type": "markdown",
   "metadata": {},
   "source": [
    "### Балансировка целевого признака: апсемплинг"
   ]
  },
  {
   "cell_type": "markdown",
   "metadata": {},
   "source": [
    "План действий такой:\n",
    "* определим, во сколько отрицательный класс превышает положительный\n",
    "* выполним апсэмплинг тренировочной выборки по положительному классу, чтобы достичь одинакового количества классов\n",
    "* * будет использоваться модель **случайного леса** и **решающего дерева**\n",
    "* перемешаем тренировочную выборку\n",
    "* подберём гиперпараметры для модели случайного леса с помощью `GridSearchCV`"
   ]
  },
  {
   "cell_type": "code",
   "execution_count": 30,
   "metadata": {},
   "outputs": [
    {
     "data": {
      "text/plain": [
       "3.9091801669121256"
      ]
     },
     "execution_count": 30,
     "metadata": {},
     "output_type": "execute_result"
    }
   ],
   "source": [
    "# во сколько раз отрицательный класс превышает положительный\n",
    "y[y == 0].shape[0] / y[y == 1].shape[0]"
   ]
  },
  {
   "cell_type": "code",
   "execution_count": 31,
   "metadata": {},
   "outputs": [],
   "source": [
    "# функция для апсемпла положительных классов\n",
    "def upsample(X, y):\n",
    "    X_0 = X[y == 0]\n",
    "    X_1 = X[y == 1]\n",
    "    y_0 = y[y == 0]\n",
    "    y_1 = y[y == 1]\n",
    "    repeat = X_0.shape[0] // X_1.shape[0] + 1\n",
    "    X_upsampled = pd.concat([X_0] + [X_1] * repeat)\n",
    "    y_upsampled = pd.concat([y_0] + [y_1] * repeat)\n",
    "    X_upsampled, y_upsampled = shuffle(X_upsampled, y_upsampled, random_state=rst)\n",
    "    return X_upsampled, y_upsampled"
   ]
  },
  {
   "cell_type": "code",
   "execution_count": 32,
   "metadata": {},
   "outputs": [
    {
     "name": "stdout",
     "output_type": "stream",
     "text": [
      "(12917, 11) (12917,)\n",
      "1    6556\n",
      "0    6361\n",
      "Name: Exited, dtype: int64\n"
     ]
    }
   ],
   "source": [
    "# применим функцию для апсемплинга\n",
    "X_train_up, y_train_up = upsample(X_train, y_train)\n",
    "print(X_train_up.shape, y_train_up.shape)\n",
    "print(y_train_up.value_counts())"
   ]
  },
  {
   "cell_type": "code",
   "execution_count": 33,
   "metadata": {},
   "outputs": [
    {
     "data": {
      "text/plain": [
       "CreditScore          1.034374\n",
       "Age                  1.023824\n",
       "Tenure               1.017570\n",
       "Balance              0.971060\n",
       "NumOfProducts        1.346440\n",
       "HasCrCard            0.207625\n",
       "IsActiveMember       0.247986\n",
       "EstimatedSalary      1.005223\n",
       "Geography_Germany    0.211577\n",
       "Geography_Spain      0.178449\n",
       "Gender_Male          0.249919\n",
       "dtype: float64"
      ]
     },
     "execution_count": 33,
     "metadata": {},
     "output_type": "execute_result"
    }
   ],
   "source": [
    "X_train_up.var()"
   ]
  },
  {
   "cell_type": "markdown",
   "metadata": {},
   "source": [
    "#### Случайный лес"
   ]
  },
  {
   "cell_type": "markdown",
   "metadata": {},
   "source": [
    "Воспользуемся `GridSearchCV` для поиска гиперпараметров"
   ]
  },
  {
   "cell_type": "code",
   "execution_count": 34,
   "metadata": {
    "scrolled": true
   },
   "outputs": [
    {
     "name": "stdout",
     "output_type": "stream",
     "text": [
      "Fitting 5 folds for each of 50 candidates, totalling 250 fits\n"
     ]
    },
    {
     "data": {
      "text/html": [
       "<div>\n",
       "<style scoped>\n",
       "    .dataframe tbody tr th:only-of-type {\n",
       "        vertical-align: middle;\n",
       "    }\n",
       "\n",
       "    .dataframe tbody tr th {\n",
       "        vertical-align: top;\n",
       "    }\n",
       "\n",
       "    .dataframe thead th {\n",
       "        text-align: right;\n",
       "    }\n",
       "</style>\n",
       "<table border=\"1\" class=\"dataframe\">\n",
       "  <thead>\n",
       "    <tr style=\"text-align: right;\">\n",
       "      <th></th>\n",
       "      <th>param_max_depth</th>\n",
       "      <th>param_n_estimators</th>\n",
       "      <th>mean_test_accuracy</th>\n",
       "      <th>mean_test_recall</th>\n",
       "      <th>mean_test_precision</th>\n",
       "      <th>mean_test_f1</th>\n",
       "      <th>mean_test_roc_auc</th>\n",
       "      <th>rank_test_accuracy</th>\n",
       "      <th>rank_test_recall</th>\n",
       "      <th>rank_test_precision</th>\n",
       "      <th>rank_test_f1</th>\n",
       "      <th>rank_test_roc_auc</th>\n",
       "    </tr>\n",
       "  </thead>\n",
       "  <tbody>\n",
       "    <tr>\n",
       "      <th>47</th>\n",
       "      <td>11</td>\n",
       "      <td>52</td>\n",
       "      <td>0.880544</td>\n",
       "      <td>0.898109</td>\n",
       "      <td>0.870746</td>\n",
       "      <td>0.884179</td>\n",
       "      <td>0.952003</td>\n",
       "      <td>3</td>\n",
       "      <td>3</td>\n",
       "      <td>4</td>\n",
       "      <td>1</td>\n",
       "      <td>1</td>\n",
       "    </tr>\n",
       "    <tr>\n",
       "      <th>46</th>\n",
       "      <td>11</td>\n",
       "      <td>51</td>\n",
       "      <td>0.880544</td>\n",
       "      <td>0.898109</td>\n",
       "      <td>0.870739</td>\n",
       "      <td>0.884176</td>\n",
       "      <td>0.951867</td>\n",
       "      <td>2</td>\n",
       "      <td>4</td>\n",
       "      <td>5</td>\n",
       "      <td>2</td>\n",
       "      <td>2</td>\n",
       "    </tr>\n",
       "    <tr>\n",
       "      <th>49</th>\n",
       "      <td>11</td>\n",
       "      <td>54</td>\n",
       "      <td>0.880622</td>\n",
       "      <td>0.897346</td>\n",
       "      <td>0.871378</td>\n",
       "      <td>0.884149</td>\n",
       "      <td>0.951583</td>\n",
       "      <td>1</td>\n",
       "      <td>7</td>\n",
       "      <td>1</td>\n",
       "      <td>3</td>\n",
       "      <td>9</td>\n",
       "    </tr>\n",
       "    <tr>\n",
       "      <th>40</th>\n",
       "      <td>11</td>\n",
       "      <td>45</td>\n",
       "      <td>0.880467</td>\n",
       "      <td>0.898261</td>\n",
       "      <td>0.870471</td>\n",
       "      <td>0.884126</td>\n",
       "      <td>0.951523</td>\n",
       "      <td>4</td>\n",
       "      <td>2</td>\n",
       "      <td>6</td>\n",
       "      <td>4</td>\n",
       "      <td>10</td>\n",
       "    </tr>\n",
       "    <tr>\n",
       "      <th>42</th>\n",
       "      <td>11</td>\n",
       "      <td>47</td>\n",
       "      <td>0.880312</td>\n",
       "      <td>0.898262</td>\n",
       "      <td>0.870197</td>\n",
       "      <td>0.883988</td>\n",
       "      <td>0.951639</td>\n",
       "      <td>5</td>\n",
       "      <td>1</td>\n",
       "      <td>10</td>\n",
       "      <td>5</td>\n",
       "      <td>7</td>\n",
       "    </tr>\n",
       "  </tbody>\n",
       "</table>\n",
       "</div>"
      ],
      "text/plain": [
       "   param_max_depth param_n_estimators  mean_test_accuracy  mean_test_recall  \\\n",
       "47              11                 52            0.880544          0.898109   \n",
       "46              11                 51            0.880544          0.898109   \n",
       "49              11                 54            0.880622          0.897346   \n",
       "40              11                 45            0.880467          0.898261   \n",
       "42              11                 47            0.880312          0.898262   \n",
       "\n",
       "    mean_test_precision  mean_test_f1  mean_test_roc_auc  rank_test_accuracy  \\\n",
       "47             0.870746      0.884179           0.952003                   3   \n",
       "46             0.870739      0.884176           0.951867                   2   \n",
       "49             0.871378      0.884149           0.951583                   1   \n",
       "40             0.870471      0.884126           0.951523                   4   \n",
       "42             0.870197      0.883988           0.951639                   5   \n",
       "\n",
       "    rank_test_recall  rank_test_precision  rank_test_f1  rank_test_roc_auc  \n",
       "47                 3                    4             1                  1  \n",
       "46                 4                    5             2                  2  \n",
       "49                 7                    1             3                  9  \n",
       "40                 2                    6             4                 10  \n",
       "42                 1                   10             5                  7  "
      ]
     },
     "execution_count": 34,
     "metadata": {},
     "output_type": "execute_result"
    }
   ],
   "source": [
    "# переберём количество деревьев и максимальную глубину\n",
    "model_rf_up = RandomForestClassifier(random_state=rst)\n",
    "param_dict_up = {'n_estimators': list(range(45, 55)),\n",
    "                 'max_depth': list(range(7, 12))}\n",
    "\n",
    "clf_rf_up = GridSearchCV(\n",
    "    model_rf_up,\n",
    "    param_dict_up,\n",
    "    scoring=['accuracy', 'recall', 'precision', 'f1', 'roc_auc'],\n",
    "    verbose=1,\n",
    "    refit='f1',\n",
    "    cv=5\n",
    ")\n",
    "\n",
    "clf_rf_up.fit(X_train_up, y_train_up)\n",
    "df_model_rf_up = pd.DataFrame(clf_rf_up.cv_results_)[['param_max_depth', 'param_n_estimators'] + [m + i for i in metrics] + [r + i for i in metrics]]\n",
    "df_model_rf_up.sort_values(by='rank_test_f1').head()"
   ]
  },
  {
   "cell_type": "code",
   "execution_count": 35,
   "metadata": {
    "scrolled": false
   },
   "outputs": [
    {
     "data": {
      "text/html": [
       "<div>\n",
       "<style scoped>\n",
       "    .dataframe tbody tr th:only-of-type {\n",
       "        vertical-align: middle;\n",
       "    }\n",
       "\n",
       "    .dataframe tbody tr th {\n",
       "        vertical-align: top;\n",
       "    }\n",
       "\n",
       "    .dataframe thead th {\n",
       "        text-align: right;\n",
       "    }\n",
       "</style>\n",
       "<table border=\"1\" class=\"dataframe\">\n",
       "  <thead>\n",
       "    <tr style=\"text-align: right;\">\n",
       "      <th></th>\n",
       "      <th>accuracy</th>\n",
       "      <th>recall</th>\n",
       "      <th>precision</th>\n",
       "      <th>f1</th>\n",
       "      <th>roc_auc</th>\n",
       "    </tr>\n",
       "  </thead>\n",
       "  <tbody>\n",
       "    <tr>\n",
       "      <th>0</th>\n",
       "      <td>0.8255</td>\n",
       "      <td>0.678392</td>\n",
       "      <td>0.549898</td>\n",
       "      <td>0.607424</td>\n",
       "      <td>0.857242</td>\n",
       "    </tr>\n",
       "  </tbody>\n",
       "</table>\n",
       "</div>"
      ],
      "text/plain": [
       "   accuracy    recall  precision        f1   roc_auc\n",
       "0    0.8255  0.678392   0.549898  0.607424  0.857242"
      ]
     },
     "execution_count": 35,
     "metadata": {},
     "output_type": "execute_result"
    }
   ],
   "source": [
    "# проверим лучшую модель на тестовой выборке\n",
    "all_metrics(clf_rf_up.best_estimator_, X_test, y_test)"
   ]
  },
  {
   "cell_type": "code",
   "execution_count": 36,
   "metadata": {},
   "outputs": [
    {
     "data": {
      "text/html": [
       "<div>\n",
       "<style scoped>\n",
       "    .dataframe tbody tr th:only-of-type {\n",
       "        vertical-align: middle;\n",
       "    }\n",
       "\n",
       "    .dataframe tbody tr th {\n",
       "        vertical-align: top;\n",
       "    }\n",
       "\n",
       "    .dataframe thead th {\n",
       "        text-align: right;\n",
       "    }\n",
       "</style>\n",
       "<table border=\"1\" class=\"dataframe\">\n",
       "  <thead>\n",
       "    <tr style=\"text-align: right;\">\n",
       "      <th></th>\n",
       "      <th>accuracy</th>\n",
       "      <th>recall</th>\n",
       "      <th>precision</th>\n",
       "      <th>f1</th>\n",
       "      <th>roc_auc</th>\n",
       "    </tr>\n",
       "  </thead>\n",
       "  <tbody>\n",
       "    <tr>\n",
       "      <th>0</th>\n",
       "      <td>0.8245</td>\n",
       "      <td>0.663317</td>\n",
       "      <td>0.548857</td>\n",
       "      <td>0.600683</td>\n",
       "      <td>0.857455</td>\n",
       "    </tr>\n",
       "  </tbody>\n",
       "</table>\n",
       "</div>"
      ],
      "text/plain": [
       "   accuracy    recall  precision        f1   roc_auc\n",
       "0    0.8245  0.663317   0.548857  0.600683  0.857455"
      ]
     },
     "execution_count": 36,
     "metadata": {},
     "output_type": "execute_result"
    }
   ],
   "source": [
    "# для сравнения лучшая модель без апскейла классов но со сбалансированными весовыми коэффициентами\n",
    "all_metrics(clf_rf_balanced.best_estimator_, X_test, y_test)"
   ]
  },
  {
   "cell_type": "markdown",
   "metadata": {},
   "source": [
    "#### Решающее дерево"
   ]
  },
  {
   "cell_type": "markdown",
   "metadata": {},
   "source": [
    "Воспользуемся `GridSearchCV` для поиска гиперпараметров"
   ]
  },
  {
   "cell_type": "code",
   "execution_count": 37,
   "metadata": {
    "scrolled": true
   },
   "outputs": [
    {
     "name": "stdout",
     "output_type": "stream",
     "text": [
      "Fitting 5 folds for each of 18 candidates, totalling 90 fits\n"
     ]
    },
    {
     "data": {
      "text/html": [
       "<div>\n",
       "<style scoped>\n",
       "    .dataframe tbody tr th:only-of-type {\n",
       "        vertical-align: middle;\n",
       "    }\n",
       "\n",
       "    .dataframe tbody tr th {\n",
       "        vertical-align: top;\n",
       "    }\n",
       "\n",
       "    .dataframe thead th {\n",
       "        text-align: right;\n",
       "    }\n",
       "</style>\n",
       "<table border=\"1\" class=\"dataframe\">\n",
       "  <thead>\n",
       "    <tr style=\"text-align: right;\">\n",
       "      <th></th>\n",
       "      <th>param_max_depth</th>\n",
       "      <th>mean_test_accuracy</th>\n",
       "      <th>mean_test_recall</th>\n",
       "      <th>mean_test_precision</th>\n",
       "      <th>mean_test_f1</th>\n",
       "      <th>mean_test_roc_auc</th>\n",
       "      <th>rank_test_accuracy</th>\n",
       "      <th>rank_test_recall</th>\n",
       "      <th>rank_test_precision</th>\n",
       "      <th>rank_test_f1</th>\n",
       "      <th>rank_test_roc_auc</th>\n",
       "    </tr>\n",
       "  </thead>\n",
       "  <tbody>\n",
       "    <tr>\n",
       "      <th>17</th>\n",
       "      <td>19</td>\n",
       "      <td>0.921963</td>\n",
       "      <td>0.991764</td>\n",
       "      <td>0.872177</td>\n",
       "      <td>0.928105</td>\n",
       "      <td>0.923794</td>\n",
       "      <td>1</td>\n",
       "      <td>1</td>\n",
       "      <td>1</td>\n",
       "      <td>1</td>\n",
       "      <td>2</td>\n",
       "    </tr>\n",
       "    <tr>\n",
       "      <th>16</th>\n",
       "      <td>18</td>\n",
       "      <td>0.918325</td>\n",
       "      <td>0.989629</td>\n",
       "      <td>0.868058</td>\n",
       "      <td>0.924838</td>\n",
       "      <td>0.922013</td>\n",
       "      <td>2</td>\n",
       "      <td>2</td>\n",
       "      <td>3</td>\n",
       "      <td>2</td>\n",
       "      <td>5</td>\n",
       "    </tr>\n",
       "    <tr>\n",
       "      <th>15</th>\n",
       "      <td>17</td>\n",
       "      <td>0.916853</td>\n",
       "      <td>0.984137</td>\n",
       "      <td>0.869364</td>\n",
       "      <td>0.923180</td>\n",
       "      <td>0.924236</td>\n",
       "      <td>3</td>\n",
       "      <td>3</td>\n",
       "      <td>2</td>\n",
       "      <td>3</td>\n",
       "      <td>1</td>\n",
       "    </tr>\n",
       "    <tr>\n",
       "      <th>14</th>\n",
       "      <td>16</td>\n",
       "      <td>0.911047</td>\n",
       "      <td>0.981239</td>\n",
       "      <td>0.862493</td>\n",
       "      <td>0.918031</td>\n",
       "      <td>0.923624</td>\n",
       "      <td>4</td>\n",
       "      <td>4</td>\n",
       "      <td>4</td>\n",
       "      <td>4</td>\n",
       "      <td>3</td>\n",
       "    </tr>\n",
       "    <tr>\n",
       "      <th>13</th>\n",
       "      <td>15</td>\n",
       "      <td>0.900595</td>\n",
       "      <td>0.964307</td>\n",
       "      <td>0.857669</td>\n",
       "      <td>0.907844</td>\n",
       "      <td>0.923513</td>\n",
       "      <td>5</td>\n",
       "      <td>5</td>\n",
       "      <td>5</td>\n",
       "      <td>5</td>\n",
       "      <td>4</td>\n",
       "    </tr>\n",
       "  </tbody>\n",
       "</table>\n",
       "</div>"
      ],
      "text/plain": [
       "   param_max_depth  mean_test_accuracy  mean_test_recall  mean_test_precision  \\\n",
       "17              19            0.921963          0.991764             0.872177   \n",
       "16              18            0.918325          0.989629             0.868058   \n",
       "15              17            0.916853          0.984137             0.869364   \n",
       "14              16            0.911047          0.981239             0.862493   \n",
       "13              15            0.900595          0.964307             0.857669   \n",
       "\n",
       "    mean_test_f1  mean_test_roc_auc  rank_test_accuracy  rank_test_recall  \\\n",
       "17      0.928105           0.923794                   1                 1   \n",
       "16      0.924838           0.922013                   2                 2   \n",
       "15      0.923180           0.924236                   3                 3   \n",
       "14      0.918031           0.923624                   4                 4   \n",
       "13      0.907844           0.923513                   5                 5   \n",
       "\n",
       "    rank_test_precision  rank_test_f1  rank_test_roc_auc  \n",
       "17                    1             1                  2  \n",
       "16                    3             2                  5  \n",
       "15                    2             3                  1  \n",
       "14                    4             4                  3  \n",
       "13                    5             5                  4  "
      ]
     },
     "execution_count": 37,
     "metadata": {},
     "output_type": "execute_result"
    }
   ],
   "source": [
    "# переберём максимальную глубину дерева решений и определим метрики\n",
    "model_dt_up = DecisionTreeClassifier(random_state=rst)\n",
    "param_dict_up = {'max_depth': list(range(2, 20))}\n",
    "\n",
    "clf_dt_up = GridSearchCV(\n",
    "    model_dt_up,\n",
    "    param_dict_up,\n",
    "    scoring=['accuracy', 'recall', 'precision', 'f1', 'roc_auc'],\n",
    "    verbose=1,\n",
    "    refit='f1'\n",
    ")\n",
    "\n",
    "clf_dt_up.fit(X_train_up, y_train_up)\n",
    "df_model_dt_up = pd.DataFrame(clf_dt_up.cv_results_)[['param_max_depth'] + [m + i for i in metrics] + [r + i for i in metrics]]\n",
    "df_model_dt_up.sort_values(by='rank_test_f1').head()"
   ]
  },
  {
   "cell_type": "code",
   "execution_count": 38,
   "metadata": {
    "scrolled": false
   },
   "outputs": [
    {
     "data": {
      "image/png": "[encoded data removed]",
      "text/plain": [
       "<Figure size 432x432 with 1 Axes>"
      ]
     },
     "metadata": {
      "needs_background": "light"
     },
     "output_type": "display_data"
    }
   ],
   "source": [
    "# построим графики\n",
    "df_model_dt_up[['param_max_depth'] + [m + i for i in metrics]].plot(x='param_max_depth', grid=True, style='-o', figsize=(6, 6))\n",
    "plt.show()"
   ]
  },
  {
   "cell_type": "code",
   "execution_count": 39,
   "metadata": {},
   "outputs": [
    {
     "data": {
      "text/html": [
       "<div>\n",
       "<style scoped>\n",
       "    .dataframe tbody tr th:only-of-type {\n",
       "        vertical-align: middle;\n",
       "    }\n",
       "\n",
       "    .dataframe tbody tr th {\n",
       "        vertical-align: top;\n",
       "    }\n",
       "\n",
       "    .dataframe thead th {\n",
       "        text-align: right;\n",
       "    }\n",
       "</style>\n",
       "<table border=\"1\" class=\"dataframe\">\n",
       "  <thead>\n",
       "    <tr style=\"text-align: right;\">\n",
       "      <th></th>\n",
       "      <th>accuracy</th>\n",
       "      <th>recall</th>\n",
       "      <th>precision</th>\n",
       "      <th>f1</th>\n",
       "      <th>roc_auc</th>\n",
       "    </tr>\n",
       "  </thead>\n",
       "  <tbody>\n",
       "    <tr>\n",
       "      <th>0</th>\n",
       "      <td>0.7885</td>\n",
       "      <td>0.494975</td>\n",
       "      <td>0.470167</td>\n",
       "      <td>0.482252</td>\n",
       "      <td>0.677754</td>\n",
       "    </tr>\n",
       "  </tbody>\n",
       "</table>\n",
       "</div>"
      ],
      "text/plain": [
       "   accuracy    recall  precision        f1   roc_auc\n",
       "0    0.7885  0.494975   0.470167  0.482252  0.677754"
      ]
     },
     "execution_count": 39,
     "metadata": {},
     "output_type": "execute_result"
    }
   ],
   "source": [
    "# проверим лучшую модель на тестовой выборке\n",
    "all_metrics(clf_dt_up.best_estimator_, X_test, y_test)"
   ]
  },
  {
   "cell_type": "code",
   "execution_count": 40,
   "metadata": {},
   "outputs": [
    {
     "data": {
      "text/html": [
       "<div>\n",
       "<style scoped>\n",
       "    .dataframe tbody tr th:only-of-type {\n",
       "        vertical-align: middle;\n",
       "    }\n",
       "\n",
       "    .dataframe tbody tr th {\n",
       "        vertical-align: top;\n",
       "    }\n",
       "\n",
       "    .dataframe thead th {\n",
       "        text-align: right;\n",
       "    }\n",
       "</style>\n",
       "<table border=\"1\" class=\"dataframe\">\n",
       "  <thead>\n",
       "    <tr style=\"text-align: right;\">\n",
       "      <th></th>\n",
       "      <th>accuracy</th>\n",
       "      <th>recall</th>\n",
       "      <th>precision</th>\n",
       "      <th>f1</th>\n",
       "      <th>roc_auc</th>\n",
       "    </tr>\n",
       "  </thead>\n",
       "  <tbody>\n",
       "    <tr>\n",
       "      <th>0</th>\n",
       "      <td>0.7895</td>\n",
       "      <td>0.758794</td>\n",
       "      <td>0.481659</td>\n",
       "      <td>0.589268</td>\n",
       "      <td>0.844531</td>\n",
       "    </tr>\n",
       "  </tbody>\n",
       "</table>\n",
       "</div>"
      ],
      "text/plain": [
       "   accuracy    recall  precision        f1   roc_auc\n",
       "0    0.7895  0.758794   0.481659  0.589268  0.844531"
      ]
     },
     "execution_count": 40,
     "metadata": {},
     "output_type": "execute_result"
    }
   ],
   "source": [
    "# для сравнения лучшая модель без апскейла классов но со сбалансированными весовыми коэффициентами\n",
    "all_metrics(clf_dt_balanced.best_estimator_, X_test, y_test)"
   ]
  },
  {
   "cell_type": "markdown",
   "metadata": {},
   "source": [
    "#### Предварительный вывод\n",
    "* значения метрик на тестовой выборке для **случайного леса** при использовании апскейлинга дали почти такие же результаты, как при использовании сбалансированных весовых коэффициентов\n",
    "* * в полученной модели с наивысшим значением **f1-score** наивысшее значение **roc-auc**\n",
    "* * лучшая по метрике **f1-score** модель была сохранена в объекте `clf_rf_up` в атрибуте `.best_estimator_`\n",
    "* модель **решающего дерева** переобучается и плохо показывает себя на тестовой выборке"
   ]
  },
  {
   "cell_type": "markdown",
   "metadata": {},
   "source": [
    "## Вывод"
   ]
  },
  {
   "cell_type": "markdown",
   "metadata": {},
   "source": [
    "* лучшая модель случайного леса обеспечила следующие значения метрик:"
   ]
  },
  {
   "cell_type": "code",
   "execution_count": 41,
   "metadata": {
    "scrolled": true
   },
   "outputs": [
    {
     "data": {
      "text/html": [
       "<div>\n",
       "<style scoped>\n",
       "    .dataframe tbody tr th:only-of-type {\n",
       "        vertical-align: middle;\n",
       "    }\n",
       "\n",
       "    .dataframe tbody tr th {\n",
       "        vertical-align: top;\n",
       "    }\n",
       "\n",
       "    .dataframe thead th {\n",
       "        text-align: right;\n",
       "    }\n",
       "</style>\n",
       "<table border=\"1\" class=\"dataframe\">\n",
       "  <thead>\n",
       "    <tr style=\"text-align: right;\">\n",
       "      <th></th>\n",
       "      <th>accuracy</th>\n",
       "      <th>recall</th>\n",
       "      <th>precision</th>\n",
       "      <th>f1</th>\n",
       "      <th>roc_auc</th>\n",
       "    </tr>\n",
       "  </thead>\n",
       "  <tbody>\n",
       "    <tr>\n",
       "      <th>0</th>\n",
       "      <td>0.8255</td>\n",
       "      <td>0.678392</td>\n",
       "      <td>0.549898</td>\n",
       "      <td>0.607424</td>\n",
       "      <td>0.857242</td>\n",
       "    </tr>\n",
       "  </tbody>\n",
       "</table>\n",
       "</div>"
      ],
      "text/plain": [
       "   accuracy    recall  precision        f1   roc_auc\n",
       "0    0.8255  0.678392   0.549898  0.607424  0.857242"
      ]
     },
     "execution_count": 41,
     "metadata": {},
     "output_type": "execute_result"
    }
   ],
   "source": [
    "all_metrics(clf_rf_up.best_estimator_, X_test, y_test)"
   ]
  },
  {
   "cell_type": "markdown",
   "metadata": {},
   "source": [
    "* при подготовке данных выполнены следующие действия:\n",
    "* * пропуски столбца `Tenure` заполнены медианным значением\n",
    "* * столбцы `RowNumber`, `CustomerId` и `Surname` исключены из обучения\n",
    "* * выполнено масштабирование численных признаков методом стандартизации\n",
    "* * устранён дисбаланс классов\n",
    "* меры, принятые по устранению дисбаланса классов, увеличивали на валидации не только **f1-score**, но и **auc-roc**\n",
    "* * рост **auc-roc** при этом был не настолько драматичным, потому что эта метрика не так сильно зависит от дисбаланса классов\n",
    "* * устранение дисбаланса классов позволило увеличить **полноту** модели\n",
    "* использование кроссвалидации позволило увеличить количество данных, используемых для обучения\n",
    "* в кейсе \"Бета-Банка\" метрика **recall** имеет больше значения, чем **precision**, поскольку важно охватить больше клиентов, которые потенциально могут покинуть банк\n",
    "* * это также зависит от того, какие меры будут приниматься для удержания клиентов: если эти меры не изменят отношения клиентов, которых и так всё устраивает, но которые по ошибке попали в \"группу риска\", значение **precision** не так важно, как полнота"
   ]
  }
 ],
 "metadata": {
  "ExecuteTimeLog": [
   {
    "duration": 745,
    "start_time": "2022-08-10T15:42:15.881Z"
   },
   {
    "duration": 95,
    "start_time": "2022-08-10T15:43:38.483Z"
   },
   {
    "duration": 23,
    "start_time": "2022-08-10T15:43:42.751Z"
   },
   {
    "duration": 1821,
    "start_time": "2022-08-10T17:05:58.306Z"
   },
   {
    "duration": 99,
    "start_time": "2022-08-10T17:06:01.960Z"
   },
   {
    "duration": 33,
    "start_time": "2022-08-10T17:06:04.041Z"
   },
   {
    "duration": 60,
    "start_time": "2022-08-10T17:06:09.400Z"
   },
   {
    "duration": 47,
    "start_time": "2022-08-10T17:06:58.857Z"
   },
   {
    "duration": 5,
    "start_time": "2022-08-10T17:38:33.659Z"
   },
   {
    "duration": 21,
    "start_time": "2022-08-10T17:40:46.599Z"
   },
   {
    "duration": 18,
    "start_time": "2022-08-10T17:41:04.858Z"
   },
   {
    "duration": 17,
    "start_time": "2022-08-10T17:41:17.499Z"
   },
   {
    "duration": 70,
    "start_time": "2022-08-10T17:41:43.038Z"
   },
   {
    "duration": 9,
    "start_time": "2022-08-10T17:41:47.719Z"
   },
   {
    "duration": 11,
    "start_time": "2022-08-10T17:44:23.722Z"
   },
   {
    "duration": 9,
    "start_time": "2022-08-10T17:45:00.842Z"
   },
   {
    "duration": 13,
    "start_time": "2022-08-10T17:45:19.441Z"
   },
   {
    "duration": 9,
    "start_time": "2022-08-10T17:45:25.361Z"
   },
   {
    "duration": 8,
    "start_time": "2022-08-10T17:46:20.402Z"
   },
   {
    "duration": 4,
    "start_time": "2022-08-10T17:46:26.161Z"
   },
   {
    "duration": 7,
    "start_time": "2022-08-10T17:47:52.059Z"
   },
   {
    "duration": 13,
    "start_time": "2022-08-10T17:48:06.500Z"
   },
   {
    "duration": 16,
    "start_time": "2022-08-10T17:49:11.479Z"
   },
   {
    "duration": 50,
    "start_time": "2022-08-10T17:50:05.319Z"
   },
   {
    "duration": 20,
    "start_time": "2022-08-10T17:50:14.220Z"
   },
   {
    "duration": 21,
    "start_time": "2022-08-10T17:51:23.498Z"
   },
   {
    "duration": 21,
    "start_time": "2022-08-10T17:52:00.560Z"
   },
   {
    "duration": 16,
    "start_time": "2022-08-10T17:52:58.640Z"
   },
   {
    "duration": 17,
    "start_time": "2022-08-10T17:53:40.580Z"
   },
   {
    "duration": 9,
    "start_time": "2022-08-10T17:59:49.319Z"
   },
   {
    "duration": 114,
    "start_time": "2022-08-10T17:59:56.479Z"
   },
   {
    "duration": 107,
    "start_time": "2022-08-10T18:00:31.379Z"
   },
   {
    "duration": 119,
    "start_time": "2022-08-10T18:01:43.199Z"
   },
   {
    "duration": 260,
    "start_time": "2022-08-10T18:01:55.459Z"
   },
   {
    "duration": 15,
    "start_time": "2022-08-10T18:07:01.499Z"
   },
   {
    "duration": 13,
    "start_time": "2022-08-10T18:07:23.658Z"
   },
   {
    "duration": 13,
    "start_time": "2022-08-10T18:07:25.006Z"
   },
   {
    "duration": 13,
    "start_time": "2022-08-10T18:08:07.518Z"
   },
   {
    "duration": 6,
    "start_time": "2022-08-10T18:17:01.881Z"
   },
   {
    "duration": 624,
    "start_time": "2022-08-10T18:22:50.265Z"
   },
   {
    "duration": 4,
    "start_time": "2022-08-10T18:27:06.879Z"
   },
   {
    "duration": 38,
    "start_time": "2022-08-10T18:28:26.139Z"
   },
   {
    "duration": 5,
    "start_time": "2022-08-10T18:28:40.239Z"
   },
   {
    "duration": 9,
    "start_time": "2022-08-10T18:31:22.818Z"
   },
   {
    "duration": 54,
    "start_time": "2022-08-10T18:32:26.872Z"
   },
   {
    "duration": 4,
    "start_time": "2022-08-10T18:32:44.395Z"
   },
   {
    "duration": 56,
    "start_time": "2022-08-10T18:33:11.403Z"
   },
   {
    "duration": 3,
    "start_time": "2022-08-10T18:33:40.783Z"
   },
   {
    "duration": 10,
    "start_time": "2022-08-10T18:34:10.319Z"
   },
   {
    "duration": 4,
    "start_time": "2022-08-10T18:34:24.119Z"
   },
   {
    "duration": 141,
    "start_time": "2022-08-10T18:35:15.151Z"
   },
   {
    "duration": 7,
    "start_time": "2022-08-10T18:36:35.563Z"
   },
   {
    "duration": 147,
    "start_time": "2022-08-10T18:37:05.843Z"
   },
   {
    "duration": 145,
    "start_time": "2022-08-10T18:37:56.478Z"
   },
   {
    "duration": 137,
    "start_time": "2022-08-10T18:38:10.278Z"
   },
   {
    "duration": 213,
    "start_time": "2022-08-10T18:38:23.517Z"
   },
   {
    "duration": 1194,
    "start_time": "2022-08-10T18:38:38.358Z"
   },
   {
    "duration": 9,
    "start_time": "2022-08-10T18:45:46.383Z"
   },
   {
    "duration": 13,
    "start_time": "2022-08-10T18:46:04.302Z"
   },
   {
    "duration": 6,
    "start_time": "2022-08-10T18:46:11.883Z"
   },
   {
    "duration": 7,
    "start_time": "2022-08-10T18:46:22.523Z"
   },
   {
    "duration": 8,
    "start_time": "2022-08-10T18:46:33.762Z"
   },
   {
    "duration": 341,
    "start_time": "2022-08-10T18:48:18.482Z"
   },
   {
    "duration": 577,
    "start_time": "2022-08-10T18:48:36.743Z"
   },
   {
    "duration": 1553,
    "start_time": "2022-08-10T18:49:07.242Z"
   },
   {
    "duration": 429,
    "start_time": "2022-08-10T18:49:31.062Z"
   },
   {
    "duration": 616,
    "start_time": "2022-08-10T18:51:24.923Z"
   },
   {
    "duration": 431,
    "start_time": "2022-08-10T18:51:48.943Z"
   },
   {
    "duration": 3,
    "start_time": "2022-08-10T18:52:03.523Z"
   },
   {
    "duration": 61,
    "start_time": "2022-08-10T18:52:03.528Z"
   },
   {
    "duration": 39,
    "start_time": "2022-08-10T18:52:03.591Z"
   },
   {
    "duration": 17,
    "start_time": "2022-08-10T18:52:03.632Z"
   },
   {
    "duration": 466,
    "start_time": "2022-08-10T18:52:03.651Z"
   },
   {
    "duration": 6,
    "start_time": "2022-08-10T18:52:04.119Z"
   },
   {
    "duration": 206,
    "start_time": "2022-08-10T18:52:04.127Z"
   },
   {
    "duration": 13,
    "start_time": "2022-08-10T18:52:04.334Z"
   },
   {
    "duration": 26,
    "start_time": "2022-08-10T18:52:04.349Z"
   },
   {
    "duration": 6,
    "start_time": "2022-08-10T18:52:04.376Z"
   },
   {
    "duration": 55,
    "start_time": "2022-08-10T18:55:52.966Z"
   },
   {
    "duration": 3,
    "start_time": "2022-08-10T18:55:58.465Z"
   },
   {
    "duration": 1475,
    "start_time": "2022-08-12T12:27:42.058Z"
   },
   {
    "duration": 117,
    "start_time": "2022-08-12T12:27:46.046Z"
   },
   {
    "duration": 642,
    "start_time": "2022-08-12T12:29:05.223Z"
   },
   {
    "duration": 52,
    "start_time": "2022-08-12T12:33:53.143Z"
   },
   {
    "duration": 20,
    "start_time": "2022-08-12T12:34:10.920Z"
   },
   {
    "duration": 19,
    "start_time": "2022-08-12T12:36:22.467Z"
   },
   {
    "duration": 4,
    "start_time": "2022-08-12T12:45:04.919Z"
   },
   {
    "duration": 74,
    "start_time": "2022-08-12T12:45:04.925Z"
   },
   {
    "duration": 122,
    "start_time": "2022-08-12T12:45:05.001Z"
   },
   {
    "duration": 25,
    "start_time": "2022-08-12T12:47:24.887Z"
   },
   {
    "duration": 615,
    "start_time": "2022-08-12T12:48:26.809Z"
   },
   {
    "duration": 7,
    "start_time": "2022-08-12T12:49:27.066Z"
   },
   {
    "duration": 243,
    "start_time": "2022-08-12T12:51:10.177Z"
   },
   {
    "duration": 126,
    "start_time": "2022-08-12T12:55:55.461Z"
   },
   {
    "duration": 121,
    "start_time": "2022-08-12T12:56:34.157Z"
   },
   {
    "duration": 107,
    "start_time": "2022-08-12T12:56:50.836Z"
   },
   {
    "duration": 91,
    "start_time": "2022-08-12T12:57:01.885Z"
   },
   {
    "duration": 19,
    "start_time": "2022-08-12T13:20:27.530Z"
   },
   {
    "duration": 19,
    "start_time": "2022-08-12T13:20:39.617Z"
   },
   {
    "duration": 22,
    "start_time": "2022-08-12T13:20:48.472Z"
   },
   {
    "duration": 20,
    "start_time": "2022-08-12T13:20:57.034Z"
   },
   {
    "duration": 22,
    "start_time": "2022-08-12T13:21:05.714Z"
   },
   {
    "duration": 100,
    "start_time": "2022-08-12T13:21:31.842Z"
   },
   {
    "duration": 89,
    "start_time": "2022-08-12T13:21:42.650Z"
   },
   {
    "duration": 105,
    "start_time": "2022-08-12T13:21:47.009Z"
   },
   {
    "duration": 57,
    "start_time": "2022-08-12T13:21:54.169Z"
   },
   {
    "duration": 118,
    "start_time": "2022-08-12T13:22:06.209Z"
   },
   {
    "duration": 60,
    "start_time": "2022-08-12T13:22:16.883Z"
   },
   {
    "duration": 19,
    "start_time": "2022-08-12T13:22:34.130Z"
   },
   {
    "duration": 50,
    "start_time": "2022-08-12T13:22:44.595Z"
   },
   {
    "duration": 50,
    "start_time": "2022-08-12T13:23:05.058Z"
   },
   {
    "duration": 21,
    "start_time": "2022-08-12T13:23:08.882Z"
   },
   {
    "duration": 25,
    "start_time": "2022-08-12T13:23:25.313Z"
   },
   {
    "duration": 18,
    "start_time": "2022-08-12T13:23:52.595Z"
   },
   {
    "duration": 53,
    "start_time": "2022-08-12T13:24:14.371Z"
   },
   {
    "duration": 18,
    "start_time": "2022-08-12T13:24:17.315Z"
   },
   {
    "duration": 19,
    "start_time": "2022-08-12T13:24:32.850Z"
   },
   {
    "duration": 17,
    "start_time": "2022-08-12T13:24:48.595Z"
   },
   {
    "duration": 18,
    "start_time": "2022-08-12T13:24:54.403Z"
   },
   {
    "duration": 14,
    "start_time": "2022-08-12T13:30:58.622Z"
   },
   {
    "duration": 6,
    "start_time": "2022-08-12T13:31:09.093Z"
   },
   {
    "duration": 10,
    "start_time": "2022-08-12T14:28:28.791Z"
   },
   {
    "duration": 11,
    "start_time": "2022-08-12T14:28:59.247Z"
   },
   {
    "duration": 9,
    "start_time": "2022-08-12T14:29:02.616Z"
   },
   {
    "duration": 54,
    "start_time": "2022-08-12T14:29:09.695Z"
   },
   {
    "duration": 55,
    "start_time": "2022-08-12T14:29:19.887Z"
   },
   {
    "duration": 9,
    "start_time": "2022-08-12T14:29:24.760Z"
   },
   {
    "duration": 8,
    "start_time": "2022-08-12T14:29:44.143Z"
   },
   {
    "duration": 8,
    "start_time": "2022-08-12T14:30:05.567Z"
   },
   {
    "duration": 57,
    "start_time": "2022-08-12T14:30:59.436Z"
   },
   {
    "duration": 0,
    "start_time": "2022-08-12T14:30:59.494Z"
   },
   {
    "duration": 0,
    "start_time": "2022-08-12T14:30:59.495Z"
   },
   {
    "duration": 0,
    "start_time": "2022-08-12T14:30:59.496Z"
   },
   {
    "duration": 0,
    "start_time": "2022-08-12T14:30:59.498Z"
   },
   {
    "duration": 0,
    "start_time": "2022-08-12T14:30:59.499Z"
   },
   {
    "duration": 0,
    "start_time": "2022-08-12T14:30:59.500Z"
   },
   {
    "duration": 4,
    "start_time": "2022-08-12T14:31:36.127Z"
   },
   {
    "duration": 63,
    "start_time": "2022-08-12T14:31:36.132Z"
   },
   {
    "duration": 43,
    "start_time": "2022-08-12T14:31:36.197Z"
   },
   {
    "duration": 28,
    "start_time": "2022-08-12T14:31:36.243Z"
   },
   {
    "duration": 598,
    "start_time": "2022-08-12T14:31:36.272Z"
   },
   {
    "duration": 98,
    "start_time": "2022-08-12T14:31:36.872Z"
   },
   {
    "duration": 14,
    "start_time": "2022-08-12T14:31:36.971Z"
   },
   {
    "duration": 5,
    "start_time": "2022-08-12T14:31:36.987Z"
   },
   {
    "duration": 9,
    "start_time": "2022-08-12T14:31:41.216Z"
   },
   {
    "duration": 21,
    "start_time": "2022-08-12T14:32:16.889Z"
   },
   {
    "duration": 19,
    "start_time": "2022-08-12T14:32:47.192Z"
   },
   {
    "duration": 4,
    "start_time": "2022-08-12T14:42:18.063Z"
   },
   {
    "duration": 5,
    "start_time": "2022-08-12T14:50:45.479Z"
   },
   {
    "duration": 10,
    "start_time": "2022-08-12T14:50:52.886Z"
   },
   {
    "duration": 13,
    "start_time": "2022-08-12T14:50:57.142Z"
   },
   {
    "duration": 10,
    "start_time": "2022-08-12T14:52:11.977Z"
   },
   {
    "duration": 229,
    "start_time": "2022-08-12T14:52:23.495Z"
   },
   {
    "duration": 10,
    "start_time": "2022-08-12T14:53:34.020Z"
   },
   {
    "duration": 15,
    "start_time": "2022-08-12T14:53:51.793Z"
   },
   {
    "duration": 3,
    "start_time": "2022-08-12T14:54:10.425Z"
   },
   {
    "duration": 64,
    "start_time": "2022-08-12T14:54:10.430Z"
   },
   {
    "duration": 46,
    "start_time": "2022-08-12T14:54:10.496Z"
   },
   {
    "duration": 28,
    "start_time": "2022-08-12T14:54:10.545Z"
   },
   {
    "duration": 484,
    "start_time": "2022-08-12T14:54:10.575Z"
   },
   {
    "duration": 101,
    "start_time": "2022-08-12T14:54:11.061Z"
   },
   {
    "duration": 15,
    "start_time": "2022-08-12T14:54:11.164Z"
   },
   {
    "duration": 12,
    "start_time": "2022-08-12T14:54:11.181Z"
   },
   {
    "duration": 28,
    "start_time": "2022-08-12T14:54:13.240Z"
   },
   {
    "duration": 4,
    "start_time": "2022-08-12T14:54:59.686Z"
   },
   {
    "duration": 66,
    "start_time": "2022-08-12T14:54:59.692Z"
   },
   {
    "duration": 42,
    "start_time": "2022-08-12T14:54:59.759Z"
   },
   {
    "duration": 17,
    "start_time": "2022-08-12T14:54:59.803Z"
   },
   {
    "duration": 611,
    "start_time": "2022-08-12T14:54:59.821Z"
   },
   {
    "duration": 98,
    "start_time": "2022-08-12T14:55:00.433Z"
   },
   {
    "duration": 30,
    "start_time": "2022-08-12T14:55:00.533Z"
   },
   {
    "duration": 11,
    "start_time": "2022-08-12T14:55:00.565Z"
   },
   {
    "duration": 27,
    "start_time": "2022-08-12T14:55:17.057Z"
   },
   {
    "duration": 6,
    "start_time": "2022-08-12T14:56:01.511Z"
   },
   {
    "duration": 9,
    "start_time": "2022-08-12T14:56:21.418Z"
   },
   {
    "duration": 21,
    "start_time": "2022-08-12T14:56:25.730Z"
   },
   {
    "duration": 4,
    "start_time": "2022-08-12T14:57:03.550Z"
   },
   {
    "duration": 109,
    "start_time": "2022-08-12T14:57:03.556Z"
   },
   {
    "duration": 48,
    "start_time": "2022-08-12T14:57:03.667Z"
   },
   {
    "duration": 17,
    "start_time": "2022-08-12T14:57:03.717Z"
   },
   {
    "duration": 492,
    "start_time": "2022-08-12T14:57:03.736Z"
   },
   {
    "duration": 101,
    "start_time": "2022-08-12T14:57:04.230Z"
   },
   {
    "duration": 25,
    "start_time": "2022-08-12T14:57:04.332Z"
   },
   {
    "duration": 27,
    "start_time": "2022-08-12T14:57:04.359Z"
   },
   {
    "duration": 55,
    "start_time": "2022-08-12T14:57:04.387Z"
   },
   {
    "duration": 9,
    "start_time": "2022-08-12T14:57:04.445Z"
   },
   {
    "duration": 10,
    "start_time": "2022-08-12T14:57:07.722Z"
   },
   {
    "duration": 17,
    "start_time": "2022-08-12T14:57:14.420Z"
   },
   {
    "duration": 16,
    "start_time": "2022-08-12T15:01:53.166Z"
   },
   {
    "duration": 3,
    "start_time": "2022-08-12T15:02:04.068Z"
   },
   {
    "duration": 56,
    "start_time": "2022-08-12T15:02:04.074Z"
   },
   {
    "duration": 41,
    "start_time": "2022-08-12T15:02:04.132Z"
   },
   {
    "duration": 18,
    "start_time": "2022-08-12T15:02:04.175Z"
   },
   {
    "duration": 504,
    "start_time": "2022-08-12T15:02:04.195Z"
   },
   {
    "duration": 188,
    "start_time": "2022-08-12T15:02:04.701Z"
   },
   {
    "duration": 14,
    "start_time": "2022-08-12T15:02:04.891Z"
   },
   {
    "duration": 11,
    "start_time": "2022-08-12T15:02:04.906Z"
   },
   {
    "duration": 44,
    "start_time": "2022-08-12T15:02:04.920Z"
   },
   {
    "duration": 5,
    "start_time": "2022-08-12T15:02:04.966Z"
   },
   {
    "duration": 11,
    "start_time": "2022-08-12T15:02:04.973Z"
   },
   {
    "duration": 32,
    "start_time": "2022-08-12T15:02:07.631Z"
   },
   {
    "duration": 1827,
    "start_time": "2022-08-15T19:43:32.412Z"
   },
   {
    "duration": 19,
    "start_time": "2022-08-15T19:43:43.655Z"
   },
   {
    "duration": 5,
    "start_time": "2022-08-15T19:44:47.331Z"
   },
   {
    "duration": 294,
    "start_time": "2022-08-15T19:44:47.338Z"
   },
   {
    "duration": 94,
    "start_time": "2022-08-15T19:44:47.634Z"
   },
   {
    "duration": 40,
    "start_time": "2022-08-15T19:44:47.730Z"
   },
   {
    "duration": 577,
    "start_time": "2022-08-15T19:44:47.772Z"
   },
   {
    "duration": 191,
    "start_time": "2022-08-15T19:44:48.351Z"
   },
   {
    "duration": 17,
    "start_time": "2022-08-15T19:44:48.544Z"
   },
   {
    "duration": 31,
    "start_time": "2022-08-15T19:44:48.562Z"
   },
   {
    "duration": 18,
    "start_time": "2022-08-15T19:44:48.595Z"
   },
   {
    "duration": 9,
    "start_time": "2022-08-15T19:44:48.614Z"
   },
   {
    "duration": 44,
    "start_time": "2022-08-15T19:44:51.446Z"
   },
   {
    "duration": 5,
    "start_time": "2022-08-15T19:47:53.712Z"
   },
   {
    "duration": 85,
    "start_time": "2022-08-15T19:47:53.719Z"
   },
   {
    "duration": 41,
    "start_time": "2022-08-15T19:47:53.806Z"
   },
   {
    "duration": 42,
    "start_time": "2022-08-15T19:47:53.850Z"
   },
   {
    "duration": 498,
    "start_time": "2022-08-15T19:47:53.894Z"
   },
   {
    "duration": 109,
    "start_time": "2022-08-15T19:47:54.394Z"
   },
   {
    "duration": 28,
    "start_time": "2022-08-15T19:47:54.505Z"
   },
   {
    "duration": 12,
    "start_time": "2022-08-15T19:47:54.534Z"
   },
   {
    "duration": 39,
    "start_time": "2022-08-15T19:47:54.548Z"
   },
   {
    "duration": 19,
    "start_time": "2022-08-15T19:47:54.596Z"
   },
   {
    "duration": 9,
    "start_time": "2022-08-15T19:47:54.617Z"
   },
   {
    "duration": 41,
    "start_time": "2022-08-15T19:47:56.832Z"
   },
   {
    "duration": 12,
    "start_time": "2022-08-15T19:49:23.849Z"
   },
   {
    "duration": 15,
    "start_time": "2022-08-15T19:50:39.580Z"
   },
   {
    "duration": 8,
    "start_time": "2022-08-15T19:50:49.895Z"
   },
   {
    "duration": 4,
    "start_time": "2022-08-15T19:51:27.915Z"
   },
   {
    "duration": 15,
    "start_time": "2022-08-15T19:51:42.986Z"
   },
   {
    "duration": 8,
    "start_time": "2022-08-15T19:51:52.496Z"
   },
   {
    "duration": 63,
    "start_time": "2022-08-15T19:53:12.474Z"
   },
   {
    "duration": 72,
    "start_time": "2022-08-15T19:53:41.451Z"
   },
   {
    "duration": 57,
    "start_time": "2022-08-15T19:54:42.204Z"
   },
   {
    "duration": 7,
    "start_time": "2022-08-15T20:02:08.479Z"
   },
   {
    "duration": 4,
    "start_time": "2022-08-15T20:04:45.529Z"
   },
   {
    "duration": 5,
    "start_time": "2022-08-15T20:04:57.599Z"
   },
   {
    "duration": 82,
    "start_time": "2022-08-15T20:04:57.607Z"
   },
   {
    "duration": 49,
    "start_time": "2022-08-15T20:04:57.693Z"
   },
   {
    "duration": 55,
    "start_time": "2022-08-15T20:04:57.745Z"
   },
   {
    "duration": 512,
    "start_time": "2022-08-15T20:04:57.803Z"
   },
   {
    "duration": 128,
    "start_time": "2022-08-15T20:04:58.317Z"
   },
   {
    "duration": 30,
    "start_time": "2022-08-15T20:04:58.447Z"
   },
   {
    "duration": 31,
    "start_time": "2022-08-15T20:04:58.486Z"
   },
   {
    "duration": 23,
    "start_time": "2022-08-15T20:04:58.519Z"
   },
   {
    "duration": 5,
    "start_time": "2022-08-15T20:04:58.544Z"
   },
   {
    "duration": 16,
    "start_time": "2022-08-15T20:04:58.550Z"
   },
   {
    "duration": 41,
    "start_time": "2022-08-15T20:04:58.567Z"
   },
   {
    "duration": 89,
    "start_time": "2022-08-15T20:05:00.449Z"
   },
   {
    "duration": 15,
    "start_time": "2022-08-15T20:05:55.113Z"
   },
   {
    "duration": 71,
    "start_time": "2022-08-15T20:06:28.201Z"
   },
   {
    "duration": 31,
    "start_time": "2022-08-15T20:07:52.700Z"
   },
   {
    "duration": 35,
    "start_time": "2022-08-15T20:07:56.430Z"
   },
   {
    "duration": 20,
    "start_time": "2022-08-15T20:07:59.897Z"
   },
   {
    "duration": 26,
    "start_time": "2022-08-15T20:08:06.395Z"
   },
   {
    "duration": 28,
    "start_time": "2022-08-15T20:08:09.051Z"
   },
   {
    "duration": 23,
    "start_time": "2022-08-15T20:08:15.124Z"
   },
   {
    "duration": 17,
    "start_time": "2022-08-15T20:08:17.714Z"
   },
   {
    "duration": 7,
    "start_time": "2022-08-15T20:09:21.600Z"
   },
   {
    "duration": 6,
    "start_time": "2022-08-15T20:10:20.980Z"
   },
   {
    "duration": 5,
    "start_time": "2022-08-15T20:10:29.899Z"
   },
   {
    "duration": 122,
    "start_time": "2022-08-15T20:10:29.906Z"
   },
   {
    "duration": 158,
    "start_time": "2022-08-15T20:10:30.029Z"
   },
   {
    "duration": 28,
    "start_time": "2022-08-15T20:10:30.190Z"
   },
   {
    "duration": 539,
    "start_time": "2022-08-15T20:10:30.222Z"
   },
   {
    "duration": 104,
    "start_time": "2022-08-15T20:10:30.762Z"
   },
   {
    "duration": 35,
    "start_time": "2022-08-15T20:10:30.868Z"
   },
   {
    "duration": 27,
    "start_time": "2022-08-15T20:10:30.907Z"
   },
   {
    "duration": 29,
    "start_time": "2022-08-15T20:10:30.935Z"
   },
   {
    "duration": 11,
    "start_time": "2022-08-15T20:10:30.966Z"
   },
   {
    "duration": 51,
    "start_time": "2022-08-15T20:10:30.979Z"
   },
   {
    "duration": 29,
    "start_time": "2022-08-15T20:10:31.032Z"
   },
   {
    "duration": 89,
    "start_time": "2022-08-15T20:10:31.063Z"
   },
   {
    "duration": 55,
    "start_time": "2022-08-15T20:10:31.154Z"
   },
   {
    "duration": 29,
    "start_time": "2022-08-15T20:10:31.210Z"
   },
   {
    "duration": 170,
    "start_time": "2022-08-15T20:10:38.488Z"
   },
   {
    "duration": 45,
    "start_time": "2022-08-15T20:12:04.983Z"
   },
   {
    "duration": 21,
    "start_time": "2022-08-15T20:12:07.254Z"
   },
   {
    "duration": 77,
    "start_time": "2022-08-15T20:12:10.912Z"
   },
   {
    "duration": 47,
    "start_time": "2022-08-15T20:13:30.258Z"
   },
   {
    "duration": 16,
    "start_time": "2022-08-15T20:13:47.023Z"
   },
   {
    "duration": 24,
    "start_time": "2022-08-15T20:13:49.838Z"
   },
   {
    "duration": 18,
    "start_time": "2022-08-15T20:13:58.517Z"
   },
   {
    "duration": 32,
    "start_time": "2022-08-15T20:14:04.578Z"
   },
   {
    "duration": 51,
    "start_time": "2022-08-15T20:14:11.151Z"
   },
   {
    "duration": 18,
    "start_time": "2022-08-15T20:14:14.927Z"
   },
   {
    "duration": 43,
    "start_time": "2022-08-15T20:14:24.639Z"
   },
   {
    "duration": 31,
    "start_time": "2022-08-15T20:14:31.181Z"
   },
   {
    "duration": 14,
    "start_time": "2022-08-15T20:14:33.431Z"
   },
   {
    "duration": 19,
    "start_time": "2022-08-15T20:14:52.223Z"
   },
   {
    "duration": 36,
    "start_time": "2022-08-15T20:14:57.505Z"
   },
   {
    "duration": 29,
    "start_time": "2022-08-15T20:15:01.313Z"
   },
   {
    "duration": 20,
    "start_time": "2022-08-15T20:15:02.847Z"
   },
   {
    "duration": 40,
    "start_time": "2022-08-15T20:15:24.112Z"
   },
   {
    "duration": 24,
    "start_time": "2022-08-15T20:15:27.318Z"
   },
   {
    "duration": 29,
    "start_time": "2022-08-15T20:15:28.743Z"
   },
   {
    "duration": 38,
    "start_time": "2022-08-15T20:15:39.784Z"
   },
   {
    "duration": 29,
    "start_time": "2022-08-15T20:15:42.039Z"
   },
   {
    "duration": 30,
    "start_time": "2022-08-15T20:15:44.282Z"
   },
   {
    "duration": 4,
    "start_time": "2022-08-15T20:18:37.730Z"
   },
   {
    "duration": 20,
    "start_time": "2022-08-15T20:19:12.498Z"
   },
   {
    "duration": 25,
    "start_time": "2022-08-15T20:19:32.620Z"
   },
   {
    "duration": 2223,
    "start_time": "2022-08-15T20:19:58.490Z"
   },
   {
    "duration": 4521,
    "start_time": "2022-08-15T20:20:24.107Z"
   },
   {
    "duration": 31,
    "start_time": "2022-08-15T20:20:44.183Z"
   },
   {
    "duration": 30,
    "start_time": "2022-08-15T20:21:11.586Z"
   },
   {
    "duration": 21,
    "start_time": "2022-08-15T20:21:16.446Z"
   },
   {
    "duration": 19,
    "start_time": "2022-08-15T20:21:27.843Z"
   },
   {
    "duration": 40,
    "start_time": "2022-08-15T20:25:55.558Z"
   },
   {
    "duration": 15,
    "start_time": "2022-08-15T20:25:59.317Z"
   },
   {
    "duration": 24,
    "start_time": "2022-08-15T20:26:02.412Z"
   },
   {
    "duration": 35,
    "start_time": "2022-08-15T20:26:16.438Z"
   },
   {
    "duration": 25,
    "start_time": "2022-08-15T20:26:19.669Z"
   },
   {
    "duration": 18,
    "start_time": "2022-08-15T20:26:21.126Z"
   },
   {
    "duration": 44,
    "start_time": "2022-08-15T20:26:27.984Z"
   },
   {
    "duration": 15,
    "start_time": "2022-08-15T20:26:29.551Z"
   },
   {
    "duration": 42,
    "start_time": "2022-08-15T20:26:33.375Z"
   },
   {
    "duration": 15,
    "start_time": "2022-08-15T20:26:34.726Z"
   },
   {
    "duration": 40,
    "start_time": "2022-08-15T20:26:39.846Z"
   },
   {
    "duration": 27,
    "start_time": "2022-08-15T20:26:41.884Z"
   },
   {
    "duration": 17,
    "start_time": "2022-08-15T20:26:43.814Z"
   },
   {
    "duration": 432,
    "start_time": "2022-08-15T20:34:16.296Z"
   },
   {
    "duration": 472,
    "start_time": "2022-08-15T20:34:47.071Z"
   },
   {
    "duration": 386,
    "start_time": "2022-08-15T20:35:23.028Z"
   },
   {
    "duration": 381,
    "start_time": "2022-08-15T20:35:39.357Z"
   },
   {
    "duration": 430,
    "start_time": "2022-08-15T20:36:52.801Z"
   },
   {
    "duration": 545,
    "start_time": "2022-08-15T20:37:32.295Z"
   },
   {
    "duration": 557,
    "start_time": "2022-08-15T20:38:09.589Z"
   },
   {
    "duration": 575,
    "start_time": "2022-08-15T20:38:20.015Z"
   },
   {
    "duration": 554,
    "start_time": "2022-08-15T20:38:49.718Z"
   },
   {
    "duration": 521,
    "start_time": "2022-08-15T20:39:15.312Z"
   },
   {
    "duration": 1637,
    "start_time": "2022-08-19T14:20:39.786Z"
   },
   {
    "duration": 418,
    "start_time": "2022-08-19T14:20:41.425Z"
   },
   {
    "duration": 109,
    "start_time": "2022-08-19T14:20:41.845Z"
   },
   {
    "duration": 41,
    "start_time": "2022-08-19T14:20:41.956Z"
   },
   {
    "duration": 561,
    "start_time": "2022-08-19T14:20:41.999Z"
   },
   {
    "duration": 195,
    "start_time": "2022-08-19T14:20:42.562Z"
   },
   {
    "duration": 16,
    "start_time": "2022-08-19T14:20:42.759Z"
   },
   {
    "duration": 15,
    "start_time": "2022-08-19T14:20:42.791Z"
   },
   {
    "duration": 32,
    "start_time": "2022-08-19T14:20:42.808Z"
   },
   {
    "duration": 6,
    "start_time": "2022-08-19T14:20:42.842Z"
   },
   {
    "duration": 6,
    "start_time": "2022-08-19T14:20:42.850Z"
   },
   {
    "duration": 43,
    "start_time": "2022-08-19T14:20:42.858Z"
   },
   {
    "duration": 34,
    "start_time": "2022-08-19T14:20:42.904Z"
   },
   {
    "duration": 18,
    "start_time": "2022-08-19T14:20:42.940Z"
   },
   {
    "duration": 47,
    "start_time": "2022-08-19T14:20:42.960Z"
   },
   {
    "duration": 4,
    "start_time": "2022-08-19T14:28:18.994Z"
   },
   {
    "duration": 66,
    "start_time": "2022-08-19T14:28:18.999Z"
   },
   {
    "duration": 43,
    "start_time": "2022-08-19T14:28:19.067Z"
   },
   {
    "duration": 23,
    "start_time": "2022-08-19T14:28:19.112Z"
   },
   {
    "duration": 589,
    "start_time": "2022-08-19T14:28:19.138Z"
   },
   {
    "duration": 107,
    "start_time": "2022-08-19T14:28:19.729Z"
   },
   {
    "duration": 16,
    "start_time": "2022-08-19T14:28:19.838Z"
   },
   {
    "duration": 13,
    "start_time": "2022-08-19T14:28:19.856Z"
   },
   {
    "duration": 28,
    "start_time": "2022-08-19T14:28:19.891Z"
   },
   {
    "duration": 6,
    "start_time": "2022-08-19T14:28:19.920Z"
   },
   {
    "duration": 4,
    "start_time": "2022-08-19T14:28:19.928Z"
   },
   {
    "duration": 9,
    "start_time": "2022-08-19T14:28:19.934Z"
   },
   {
    "duration": 63,
    "start_time": "2022-08-19T14:28:19.945Z"
   },
   {
    "duration": 17,
    "start_time": "2022-08-19T14:28:20.010Z"
   },
   {
    "duration": 26,
    "start_time": "2022-08-19T14:28:20.029Z"
   },
   {
    "duration": 458,
    "start_time": "2022-08-19T14:37:14.543Z"
   },
   {
    "duration": 5,
    "start_time": "2022-08-19T14:38:07.281Z"
   },
   {
    "duration": 117,
    "start_time": "2022-08-19T14:41:26.146Z"
   },
   {
    "duration": 5,
    "start_time": "2022-08-19T14:41:30.185Z"
   },
   {
    "duration": 126,
    "start_time": "2022-08-19T14:41:34.018Z"
   },
   {
    "duration": 4,
    "start_time": "2022-08-19T14:41:50.530Z"
   },
   {
    "duration": 18,
    "start_time": "2022-08-19T14:41:53.430Z"
   },
   {
    "duration": 19,
    "start_time": "2022-08-19T14:43:39.282Z"
   },
   {
    "duration": 22,
    "start_time": "2022-08-19T14:43:40.011Z"
   },
   {
    "duration": 179,
    "start_time": "2022-08-19T14:44:41.015Z"
   },
   {
    "duration": 65,
    "start_time": "2022-08-19T14:44:49.035Z"
   },
   {
    "duration": 46,
    "start_time": "2022-08-19T14:45:08.948Z"
   },
   {
    "duration": 635,
    "start_time": "2022-08-19T14:45:29.562Z"
   },
   {
    "duration": 123,
    "start_time": "2022-08-19T14:45:31.069Z"
   },
   {
    "duration": 207,
    "start_time": "2022-08-19T14:45:59.684Z"
   },
   {
    "duration": 161,
    "start_time": "2022-08-19T14:46:59.836Z"
   },
   {
    "duration": 35,
    "start_time": "2022-08-19T14:48:49.261Z"
   },
   {
    "duration": 5,
    "start_time": "2022-08-19T14:49:23.989Z"
   },
   {
    "duration": 62,
    "start_time": "2022-08-19T14:49:27.135Z"
   },
   {
    "duration": 170,
    "start_time": "2022-08-19T14:49:28.125Z"
   },
   {
    "duration": 31,
    "start_time": "2022-08-19T14:49:29.078Z"
   },
   {
    "duration": 552,
    "start_time": "2022-08-19T14:49:46.334Z"
   },
   {
    "duration": 563,
    "start_time": "2022-08-19T14:51:26.104Z"
   },
   {
    "duration": 590,
    "start_time": "2022-08-19T14:52:55.639Z"
   },
   {
    "duration": 578,
    "start_time": "2022-08-19T14:53:02.762Z"
   },
   {
    "duration": 560,
    "start_time": "2022-08-19T14:53:25.951Z"
   },
   {
    "duration": 1342,
    "start_time": "2022-08-19T15:07:07.753Z"
   },
   {
    "duration": 64,
    "start_time": "2022-08-19T15:07:09.097Z"
   },
   {
    "duration": 81,
    "start_time": "2022-08-19T15:07:09.162Z"
   },
   {
    "duration": 21,
    "start_time": "2022-08-19T15:07:09.245Z"
   },
   {
    "duration": 608,
    "start_time": "2022-08-19T15:07:09.267Z"
   },
   {
    "duration": 189,
    "start_time": "2022-08-19T15:07:09.877Z"
   },
   {
    "duration": 29,
    "start_time": "2022-08-19T15:07:10.068Z"
   },
   {
    "duration": 15,
    "start_time": "2022-08-19T15:07:10.099Z"
   },
   {
    "duration": 29,
    "start_time": "2022-08-19T15:07:10.117Z"
   },
   {
    "duration": 7,
    "start_time": "2022-08-19T15:07:10.150Z"
   },
   {
    "duration": 4,
    "start_time": "2022-08-19T15:07:10.192Z"
   },
   {
    "duration": 16,
    "start_time": "2022-08-19T15:07:10.198Z"
   },
   {
    "duration": 487,
    "start_time": "2022-08-19T15:07:10.216Z"
   },
   {
    "duration": 662,
    "start_time": "2022-08-19T15:07:10.796Z"
   },
   {
    "duration": 7572,
    "start_time": "2022-08-19T15:09:23.232Z"
   },
   {
    "duration": 12482,
    "start_time": "2022-08-19T15:09:57.820Z"
   },
   {
    "duration": 6317,
    "start_time": "2022-08-19T15:10:31.489Z"
   },
   {
    "duration": 6549,
    "start_time": "2022-08-19T15:10:52.348Z"
   },
   {
    "duration": 6729,
    "start_time": "2022-08-19T15:12:23.771Z"
   },
   {
    "duration": 741,
    "start_time": "2022-08-19T15:13:37.652Z"
   },
   {
    "duration": 421,
    "start_time": "2022-08-19T15:13:47.075Z"
   },
   {
    "duration": 616,
    "start_time": "2022-08-19T15:13:56.979Z"
   },
   {
    "duration": 645,
    "start_time": "2022-08-19T15:14:10.347Z"
   },
   {
    "duration": 837,
    "start_time": "2022-08-19T15:14:12.555Z"
   },
   {
    "duration": 4682,
    "start_time": "2022-08-19T15:16:40.022Z"
   },
   {
    "duration": 7919,
    "start_time": "2022-08-19T15:17:03.380Z"
   },
   {
    "duration": 550,
    "start_time": "2022-08-19T15:17:38.801Z"
   },
   {
    "duration": 4,
    "start_time": "2022-08-19T15:17:54.570Z"
   },
   {
    "duration": 66,
    "start_time": "2022-08-19T15:17:54.576Z"
   },
   {
    "duration": 44,
    "start_time": "2022-08-19T15:17:54.644Z"
   },
   {
    "duration": 19,
    "start_time": "2022-08-19T15:17:54.704Z"
   },
   {
    "duration": 540,
    "start_time": "2022-08-19T15:17:54.725Z"
   },
   {
    "duration": 110,
    "start_time": "2022-08-19T15:17:55.266Z"
   },
   {
    "duration": 25,
    "start_time": "2022-08-19T15:17:55.378Z"
   },
   {
    "duration": 14,
    "start_time": "2022-08-19T15:17:55.405Z"
   },
   {
    "duration": 27,
    "start_time": "2022-08-19T15:17:55.421Z"
   },
   {
    "duration": 6,
    "start_time": "2022-08-19T15:17:55.450Z"
   },
   {
    "duration": 6,
    "start_time": "2022-08-19T15:17:55.457Z"
   },
   {
    "duration": 10,
    "start_time": "2022-08-19T15:17:55.492Z"
   },
   {
    "duration": 690,
    "start_time": "2022-08-19T15:17:55.505Z"
   },
   {
    "duration": 766,
    "start_time": "2022-08-19T15:17:56.198Z"
   },
   {
    "duration": 5158,
    "start_time": "2022-08-19T15:17:58.437Z"
   },
   {
    "duration": 781,
    "start_time": "2022-08-19T15:21:47.413Z"
   },
   {
    "duration": 665,
    "start_time": "2022-08-19T15:21:54.135Z"
   },
   {
    "duration": 572,
    "start_time": "2022-08-19T15:22:00.422Z"
   },
   {
    "duration": 5629,
    "start_time": "2022-08-19T15:24:43.666Z"
   },
   {
    "duration": 13811,
    "start_time": "2022-08-19T15:25:12.089Z"
   },
   {
    "duration": 7448,
    "start_time": "2022-08-19T15:25:45.930Z"
   },
   {
    "duration": 7640,
    "start_time": "2022-08-19T15:26:37.155Z"
   },
   {
    "duration": 8678,
    "start_time": "2022-08-19T15:27:02.321Z"
   },
   {
    "duration": 1587,
    "start_time": "2022-08-19T15:28:24.872Z"
   },
   {
    "duration": 69,
    "start_time": "2022-08-19T15:28:26.462Z"
   },
   {
    "duration": 92,
    "start_time": "2022-08-19T15:28:26.533Z"
   },
   {
    "duration": 21,
    "start_time": "2022-08-19T15:28:26.627Z"
   },
   {
    "duration": 583,
    "start_time": "2022-08-19T15:28:26.650Z"
   },
   {
    "duration": 189,
    "start_time": "2022-08-19T15:28:27.235Z"
   },
   {
    "duration": 15,
    "start_time": "2022-08-19T15:28:27.425Z"
   },
   {
    "duration": 13,
    "start_time": "2022-08-19T15:28:27.442Z"
   },
   {
    "duration": 48,
    "start_time": "2022-08-19T15:28:27.457Z"
   },
   {
    "duration": 6,
    "start_time": "2022-08-19T15:28:27.508Z"
   },
   {
    "duration": 4,
    "start_time": "2022-08-19T15:28:27.515Z"
   },
   {
    "duration": 13,
    "start_time": "2022-08-19T15:28:27.521Z"
   },
   {
    "duration": 595,
    "start_time": "2022-08-19T15:28:27.536Z"
   },
   {
    "duration": 5065,
    "start_time": "2022-08-19T15:28:28.132Z"
   },
   {
    "duration": 7801,
    "start_time": "2022-08-19T15:28:33.199Z"
   },
   {
    "duration": 3073,
    "start_time": "2022-08-19T15:30:09.423Z"
   },
   {
    "duration": 4440,
    "start_time": "2022-08-19T15:30:24.956Z"
   },
   {
    "duration": 4688,
    "start_time": "2022-08-19T15:31:06.515Z"
   },
   {
    "duration": 8177,
    "start_time": "2022-08-19T15:31:32.418Z"
   },
   {
    "duration": 4717,
    "start_time": "2022-08-19T15:31:59.180Z"
   },
   {
    "duration": 5374,
    "start_time": "2022-08-19T15:32:14.222Z"
   },
   {
    "duration": 5318,
    "start_time": "2022-08-19T15:32:44.480Z"
   },
   {
    "duration": 578,
    "start_time": "2022-08-19T15:34:00.071Z"
   },
   {
    "duration": 181,
    "start_time": "2022-08-19T15:34:51.573Z"
   },
   {
    "duration": 187,
    "start_time": "2022-08-19T15:35:07.286Z"
   },
   {
    "duration": 180,
    "start_time": "2022-08-19T15:35:23.654Z"
   },
   {
    "duration": 184,
    "start_time": "2022-08-19T15:35:56.464Z"
   },
   {
    "duration": 4913,
    "start_time": "2022-08-19T15:35:57.687Z"
   },
   {
    "duration": 195,
    "start_time": "2022-08-19T15:36:07.646Z"
   },
   {
    "duration": 510,
    "start_time": "2022-08-19T15:39:26.240Z"
   },
   {
    "duration": 489,
    "start_time": "2022-08-19T15:39:30.768Z"
   },
   {
    "duration": 208,
    "start_time": "2022-08-19T15:39:59.602Z"
   },
   {
    "duration": 207,
    "start_time": "2022-08-19T15:40:05.814Z"
   },
   {
    "duration": 25,
    "start_time": "2022-08-19T15:40:49.769Z"
   },
   {
    "duration": 79,
    "start_time": "2022-08-19T15:41:01.777Z"
   },
   {
    "duration": 16,
    "start_time": "2022-08-19T15:41:06.737Z"
   },
   {
    "duration": 5415,
    "start_time": "2022-08-19T15:41:25.482Z"
   },
   {
    "duration": 213,
    "start_time": "2022-08-19T15:41:35.310Z"
   },
   {
    "duration": 5171,
    "start_time": "2022-08-19T15:42:05.130Z"
   },
   {
    "duration": 5290,
    "start_time": "2022-08-19T15:42:18.203Z"
   },
   {
    "duration": 5137,
    "start_time": "2022-08-19T15:42:28.362Z"
   },
   {
    "duration": 5397,
    "start_time": "2022-08-19T15:42:33.500Z"
   },
   {
    "duration": 196,
    "start_time": "2022-08-19T15:42:39.707Z"
   },
   {
    "duration": 5,
    "start_time": "2022-08-19T15:42:52.942Z"
   },
   {
    "duration": 65,
    "start_time": "2022-08-19T15:42:52.949Z"
   },
   {
    "duration": 44,
    "start_time": "2022-08-19T15:42:53.016Z"
   },
   {
    "duration": 37,
    "start_time": "2022-08-19T15:42:53.062Z"
   },
   {
    "duration": 531,
    "start_time": "2022-08-19T15:42:53.101Z"
   },
   {
    "duration": 212,
    "start_time": "2022-08-19T15:42:53.633Z"
   },
   {
    "duration": 16,
    "start_time": "2022-08-19T15:42:53.847Z"
   },
   {
    "duration": 32,
    "start_time": "2022-08-19T15:42:53.865Z"
   },
   {
    "duration": 27,
    "start_time": "2022-08-19T15:42:53.899Z"
   },
   {
    "duration": 6,
    "start_time": "2022-08-19T15:42:53.928Z"
   },
   {
    "duration": 6,
    "start_time": "2022-08-19T15:42:53.936Z"
   },
   {
    "duration": 12,
    "start_time": "2022-08-19T15:42:53.943Z"
   },
   {
    "duration": 606,
    "start_time": "2022-08-19T15:42:53.957Z"
   },
   {
    "duration": 189,
    "start_time": "2022-08-19T15:42:54.565Z"
   },
   {
    "duration": 5343,
    "start_time": "2022-08-19T15:42:54.755Z"
   },
   {
    "duration": 229,
    "start_time": "2022-08-19T15:43:00.100Z"
   },
   {
    "duration": 5089,
    "start_time": "2022-08-19T15:43:02.707Z"
   },
   {
    "duration": 559,
    "start_time": "2022-08-19T15:52:48.679Z"
   },
   {
    "duration": 195,
    "start_time": "2022-08-19T15:53:17.358Z"
   },
   {
    "duration": 211,
    "start_time": "2022-08-19T15:53:26.729Z"
   },
   {
    "duration": 118,
    "start_time": "2022-08-19T15:54:39.833Z"
   },
   {
    "duration": 16,
    "start_time": "2022-08-19T15:55:01.686Z"
   },
   {
    "duration": 125,
    "start_time": "2022-08-19T15:55:14.904Z"
   },
   {
    "duration": 202,
    "start_time": "2022-08-19T15:55:29.613Z"
   },
   {
    "duration": 5467,
    "start_time": "2022-08-19T15:56:54.031Z"
   },
   {
    "duration": 354,
    "start_time": "2022-08-19T15:57:00.537Z"
   },
   {
    "duration": 347,
    "start_time": "2022-08-19T15:57:30.171Z"
   },
   {
    "duration": 592,
    "start_time": "2022-08-19T15:57:48.918Z"
   },
   {
    "duration": 194,
    "start_time": "2022-08-19T15:57:51.418Z"
   },
   {
    "duration": 10,
    "start_time": "2022-08-19T15:58:57.632Z"
   },
   {
    "duration": 11,
    "start_time": "2022-08-19T15:59:09.021Z"
   },
   {
    "duration": 203,
    "start_time": "2022-08-19T15:59:39.119Z"
   },
   {
    "duration": 209,
    "start_time": "2022-08-19T15:59:51.650Z"
   },
   {
    "duration": 4,
    "start_time": "2022-08-19T16:01:58.328Z"
   },
   {
    "duration": 77,
    "start_time": "2022-08-19T16:01:58.334Z"
   },
   {
    "duration": 44,
    "start_time": "2022-08-19T16:01:58.413Z"
   },
   {
    "duration": 39,
    "start_time": "2022-08-19T16:01:58.459Z"
   },
   {
    "duration": 518,
    "start_time": "2022-08-19T16:01:58.499Z"
   },
   {
    "duration": 109,
    "start_time": "2022-08-19T16:01:59.018Z"
   },
   {
    "duration": 14,
    "start_time": "2022-08-19T16:01:59.129Z"
   },
   {
    "duration": 17,
    "start_time": "2022-08-19T16:01:59.145Z"
   },
   {
    "duration": 41,
    "start_time": "2022-08-19T16:01:59.164Z"
   },
   {
    "duration": 6,
    "start_time": "2022-08-19T16:01:59.207Z"
   },
   {
    "duration": 6,
    "start_time": "2022-08-19T16:01:59.215Z"
   },
   {
    "duration": 16,
    "start_time": "2022-08-19T16:01:59.223Z"
   },
   {
    "duration": 590,
    "start_time": "2022-08-19T16:01:59.241Z"
   },
   {
    "duration": 198,
    "start_time": "2022-08-19T16:01:59.833Z"
   },
   {
    "duration": 5164,
    "start_time": "2022-08-19T16:02:00.032Z"
   },
   {
    "duration": 348,
    "start_time": "2022-08-19T16:02:05.198Z"
   },
   {
    "duration": 5252,
    "start_time": "2022-08-19T16:02:05.547Z"
   },
   {
    "duration": 5,
    "start_time": "2022-08-19T16:02:30.347Z"
   },
   {
    "duration": 84,
    "start_time": "2022-08-19T16:02:30.354Z"
   },
   {
    "duration": 48,
    "start_time": "2022-08-19T16:02:30.440Z"
   },
   {
    "duration": 22,
    "start_time": "2022-08-19T16:02:30.490Z"
   },
   {
    "duration": 536,
    "start_time": "2022-08-19T16:02:30.514Z"
   },
   {
    "duration": 113,
    "start_time": "2022-08-19T16:02:31.052Z"
   },
   {
    "duration": 25,
    "start_time": "2022-08-19T16:02:31.167Z"
   },
   {
    "duration": 14,
    "start_time": "2022-08-19T16:02:31.194Z"
   },
   {
    "duration": 28,
    "start_time": "2022-08-19T16:02:31.210Z"
   },
   {
    "duration": 7,
    "start_time": "2022-08-19T16:02:31.242Z"
   },
   {
    "duration": 6,
    "start_time": "2022-08-19T16:02:31.251Z"
   },
   {
    "duration": 40,
    "start_time": "2022-08-19T16:02:31.259Z"
   },
   {
    "duration": 603,
    "start_time": "2022-08-19T16:02:31.302Z"
   },
   {
    "duration": 246,
    "start_time": "2022-08-19T16:02:31.907Z"
   },
   {
    "duration": 5237,
    "start_time": "2022-08-19T16:02:32.155Z"
   },
   {
    "duration": 239,
    "start_time": "2022-08-19T16:02:37.394Z"
   },
   {
    "duration": 5357,
    "start_time": "2022-08-19T16:02:37.636Z"
   },
   {
    "duration": 100,
    "start_time": "2022-08-19T16:04:33.810Z"
   },
   {
    "duration": 4,
    "start_time": "2022-08-19T16:12:04.286Z"
   },
   {
    "duration": 9,
    "start_time": "2022-08-19T16:12:08.320Z"
   },
   {
    "duration": 553,
    "start_time": "2022-08-19T16:12:09.583Z"
   },
   {
    "duration": 194,
    "start_time": "2022-08-19T16:12:11.625Z"
   },
   {
    "duration": 5983,
    "start_time": "2022-08-19T16:12:18.919Z"
   },
   {
    "duration": 219,
    "start_time": "2022-08-19T16:12:29.011Z"
   },
   {
    "duration": 4844,
    "start_time": "2022-08-19T16:12:31.352Z"
   },
   {
    "duration": 1425,
    "start_time": "2022-08-23T10:23:29.639Z"
   },
   {
    "duration": 103,
    "start_time": "2022-08-23T10:23:31.066Z"
   },
   {
    "duration": 73,
    "start_time": "2022-08-23T10:23:31.171Z"
   },
   {
    "duration": 27,
    "start_time": "2022-08-23T10:23:31.246Z"
   },
   {
    "duration": 480,
    "start_time": "2022-08-23T10:23:31.276Z"
   },
   {
    "duration": 157,
    "start_time": "2022-08-23T10:23:31.758Z"
   },
   {
    "duration": 12,
    "start_time": "2022-08-23T10:23:31.917Z"
   },
   {
    "duration": 12,
    "start_time": "2022-08-23T10:23:31.931Z"
   },
   {
    "duration": 30,
    "start_time": "2022-08-23T10:23:31.944Z"
   },
   {
    "duration": 28,
    "start_time": "2022-08-23T10:23:31.975Z"
   },
   {
    "duration": 19,
    "start_time": "2022-08-23T10:23:32.004Z"
   },
   {
    "duration": 11,
    "start_time": "2022-08-23T10:23:32.024Z"
   },
   {
    "duration": 511,
    "start_time": "2022-08-23T10:23:32.037Z"
   },
   {
    "duration": 154,
    "start_time": "2022-08-23T10:23:32.551Z"
   },
   {
    "duration": 2898,
    "start_time": "2022-08-23T10:23:32.707Z"
   },
   {
    "duration": 357,
    "start_time": "2022-08-23T10:23:35.607Z"
   },
   {
    "duration": 2738,
    "start_time": "2022-08-23T10:23:35.966Z"
   },
   {
    "duration": 15,
    "start_time": "2022-08-23T10:31:33.610Z"
   },
   {
    "duration": 113,
    "start_time": "2022-08-23T10:34:03.270Z"
   },
   {
    "duration": 3,
    "start_time": "2022-08-23T10:34:11.888Z"
   },
   {
    "duration": 5,
    "start_time": "2022-08-23T10:46:25.784Z"
   },
   {
    "duration": 18,
    "start_time": "2022-08-23T10:50:02.179Z"
   },
   {
    "duration": 17,
    "start_time": "2022-08-23T10:50:33.171Z"
   },
   {
    "duration": 12,
    "start_time": "2022-08-23T10:50:47.249Z"
   },
   {
    "duration": 2,
    "start_time": "2022-08-23T10:53:13.253Z"
   },
   {
    "duration": 7,
    "start_time": "2022-08-23T10:56:00.599Z"
   },
   {
    "duration": 8,
    "start_time": "2022-08-23T10:57:10.446Z"
   },
   {
    "duration": 3,
    "start_time": "2022-08-23T10:58:53.552Z"
   },
   {
    "duration": 57,
    "start_time": "2022-08-23T10:58:53.557Z"
   },
   {
    "duration": 37,
    "start_time": "2022-08-23T10:58:53.616Z"
   },
   {
    "duration": 16,
    "start_time": "2022-08-23T10:58:53.654Z"
   },
   {
    "duration": 426,
    "start_time": "2022-08-23T10:58:53.672Z"
   },
   {
    "duration": 80,
    "start_time": "2022-08-23T10:58:54.099Z"
   },
   {
    "duration": 27,
    "start_time": "2022-08-23T10:58:54.180Z"
   },
   {
    "duration": 13,
    "start_time": "2022-08-23T10:58:54.208Z"
   },
   {
    "duration": 28,
    "start_time": "2022-08-23T10:58:54.223Z"
   },
   {
    "duration": 6,
    "start_time": "2022-08-23T10:58:54.253Z"
   },
   {
    "duration": 15,
    "start_time": "2022-08-23T10:58:54.260Z"
   },
   {
    "duration": 26,
    "start_time": "2022-08-23T10:58:54.276Z"
   },
   {
    "duration": 570,
    "start_time": "2022-08-23T10:58:54.306Z"
   },
   {
    "duration": 164,
    "start_time": "2022-08-23T10:58:54.877Z"
   },
   {
    "duration": 2457,
    "start_time": "2022-08-23T10:58:55.042Z"
   },
   {
    "duration": 270,
    "start_time": "2022-08-23T10:58:57.501Z"
   },
   {
    "duration": 3030,
    "start_time": "2022-08-23T10:58:57.773Z"
   },
   {
    "duration": 104,
    "start_time": "2022-08-23T10:59:00.805Z"
   },
   {
    "duration": 19,
    "start_time": "2022-08-23T10:59:00.911Z"
   },
   {
    "duration": 13,
    "start_time": "2022-08-23T10:59:00.931Z"
   },
   {
    "duration": 8,
    "start_time": "2022-08-23T10:59:35.265Z"
   },
   {
    "duration": 7,
    "start_time": "2022-08-23T11:00:09.249Z"
   },
   {
    "duration": 11,
    "start_time": "2022-08-23T11:03:50.483Z"
   },
   {
    "duration": 31,
    "start_time": "2022-08-23T11:04:03.003Z"
   },
   {
    "duration": 4,
    "start_time": "2022-08-23T11:05:47.705Z"
   },
   {
    "duration": 7,
    "start_time": "2022-08-23T11:06:52.123Z"
   },
   {
    "duration": 6,
    "start_time": "2022-08-23T11:06:55.523Z"
   },
   {
    "duration": 28,
    "start_time": "2022-08-23T11:06:57.242Z"
   },
   {
    "duration": 4,
    "start_time": "2022-08-23T11:07:40.324Z"
   },
   {
    "duration": 91,
    "start_time": "2022-08-23T11:07:40.331Z"
   },
   {
    "duration": 37,
    "start_time": "2022-08-23T11:07:40.424Z"
   },
   {
    "duration": 15,
    "start_time": "2022-08-23T11:07:40.463Z"
   },
   {
    "duration": 437,
    "start_time": "2022-08-23T11:07:40.499Z"
   },
   {
    "duration": 79,
    "start_time": "2022-08-23T11:07:40.937Z"
   },
   {
    "duration": 11,
    "start_time": "2022-08-23T11:07:41.018Z"
   },
   {
    "duration": 29,
    "start_time": "2022-08-23T11:07:41.030Z"
   },
   {
    "duration": 43,
    "start_time": "2022-08-23T11:07:41.060Z"
   },
   {
    "duration": 6,
    "start_time": "2022-08-23T11:07:41.105Z"
   },
   {
    "duration": 39,
    "start_time": "2022-08-23T11:07:41.112Z"
   },
   {
    "duration": 39,
    "start_time": "2022-08-23T11:07:41.153Z"
   },
   {
    "duration": 616,
    "start_time": "2022-08-23T11:07:41.194Z"
   },
   {
    "duration": 156,
    "start_time": "2022-08-23T11:07:41.812Z"
   },
   {
    "duration": 2930,
    "start_time": "2022-08-23T11:07:41.969Z"
   },
   {
    "duration": 200,
    "start_time": "2022-08-23T11:07:44.900Z"
   },
   {
    "duration": 2698,
    "start_time": "2022-08-23T11:07:45.102Z"
   },
   {
    "duration": 104,
    "start_time": "2022-08-23T11:07:47.801Z"
   },
   {
    "duration": 3,
    "start_time": "2022-08-23T11:07:47.907Z"
   },
   {
    "duration": 15,
    "start_time": "2022-08-23T11:07:47.912Z"
   },
   {
    "duration": 15,
    "start_time": "2022-08-23T11:07:47.928Z"
   },
   {
    "duration": 11,
    "start_time": "2022-08-23T11:08:00.923Z"
   },
   {
    "duration": 29,
    "start_time": "2022-08-23T11:08:34.643Z"
   },
   {
    "duration": 1599,
    "start_time": "2022-08-23T11:09:33.360Z"
   },
   {
    "duration": 2480,
    "start_time": "2022-08-23T11:09:41.627Z"
   },
   {
    "duration": 6,
    "start_time": "2022-08-23T11:09:48.819Z"
   },
   {
    "duration": 5,
    "start_time": "2022-08-23T11:10:32.899Z"
   },
   {
    "duration": 511,
    "start_time": "2022-08-23T11:14:33.275Z"
   },
   {
    "duration": 151,
    "start_time": "2022-08-23T11:15:20.950Z"
   },
   {
    "duration": 1340,
    "start_time": "2022-08-23T11:16:43.571Z"
   },
   {
    "duration": 579,
    "start_time": "2022-08-23T11:18:21.363Z"
   },
   {
    "duration": 170,
    "start_time": "2022-08-23T11:18:31.031Z"
   },
   {
    "duration": 1342,
    "start_time": "2022-08-23T11:19:24.873Z"
   },
   {
    "duration": 190,
    "start_time": "2022-08-23T11:20:21.794Z"
   },
   {
    "duration": 1343,
    "start_time": "2022-08-23T11:20:26.456Z"
   },
   {
    "duration": 947,
    "start_time": "2022-08-23T11:21:03.361Z"
   },
   {
    "duration": 1192,
    "start_time": "2022-08-23T11:21:23.415Z"
   },
   {
    "duration": 1316,
    "start_time": "2022-08-23T11:22:19.075Z"
   },
   {
    "duration": 59,
    "start_time": "2022-08-23T11:22:20.393Z"
   },
   {
    "duration": 74,
    "start_time": "2022-08-23T11:22:20.453Z"
   },
   {
    "duration": 17,
    "start_time": "2022-08-23T11:22:20.529Z"
   },
   {
    "duration": 452,
    "start_time": "2022-08-23T11:22:20.548Z"
   },
   {
    "duration": 149,
    "start_time": "2022-08-23T11:22:21.001Z"
   },
   {
    "duration": 11,
    "start_time": "2022-08-23T11:22:21.152Z"
   },
   {
    "duration": 11,
    "start_time": "2022-08-23T11:22:21.164Z"
   },
   {
    "duration": 43,
    "start_time": "2022-08-23T11:22:21.176Z"
   },
   {
    "duration": 5,
    "start_time": "2022-08-23T11:22:21.222Z"
   },
   {
    "duration": 8,
    "start_time": "2022-08-23T11:22:21.229Z"
   },
   {
    "duration": 13,
    "start_time": "2022-08-23T11:22:21.239Z"
   },
   {
    "duration": 538,
    "start_time": "2022-08-23T11:22:21.253Z"
   },
   {
    "duration": 159,
    "start_time": "2022-08-23T11:22:21.793Z"
   },
   {
    "duration": 2449,
    "start_time": "2022-08-23T11:22:21.954Z"
   },
   {
    "duration": 372,
    "start_time": "2022-08-23T11:22:24.405Z"
   },
   {
    "duration": 12,
    "start_time": "2022-08-23T11:22:24.778Z"
   },
   {
    "duration": 4,
    "start_time": "2022-08-23T11:22:24.798Z"
   },
   {
    "duration": 9,
    "start_time": "2022-08-23T11:22:24.803Z"
   },
   {
    "duration": 15,
    "start_time": "2022-08-23T11:22:24.814Z"
   },
   {
    "duration": 66,
    "start_time": "2022-08-23T11:22:24.830Z"
   },
   {
    "duration": 543,
    "start_time": "2022-08-23T11:22:24.897Z"
   },
   {
    "duration": 175,
    "start_time": "2022-08-23T11:22:25.442Z"
   },
   {
    "duration": 1382,
    "start_time": "2022-08-23T11:22:25.618Z"
   },
   {
    "duration": 266,
    "start_time": "2022-08-23T11:22:27.002Z"
   },
   {
    "duration": 1738,
    "start_time": "2022-08-23T11:25:09.162Z"
   },
   {
    "duration": 209,
    "start_time": "2022-08-23T11:25:16.602Z"
   },
   {
    "duration": 1205,
    "start_time": "2022-08-23T11:25:32.702Z"
   },
   {
    "duration": 142,
    "start_time": "2022-08-23T11:25:38.544Z"
   },
   {
    "duration": 1256,
    "start_time": "2022-08-23T11:26:59.683Z"
   },
   {
    "duration": 60,
    "start_time": "2022-08-23T11:27:00.942Z"
   },
   {
    "duration": 72,
    "start_time": "2022-08-23T11:27:01.003Z"
   },
   {
    "duration": 33,
    "start_time": "2022-08-23T11:27:01.077Z"
   },
   {
    "duration": 458,
    "start_time": "2022-08-23T11:27:01.112Z"
   },
   {
    "duration": 159,
    "start_time": "2022-08-23T11:27:01.571Z"
   },
   {
    "duration": 12,
    "start_time": "2022-08-23T11:27:01.732Z"
   },
   {
    "duration": 16,
    "start_time": "2022-08-23T11:27:01.745Z"
   },
   {
    "duration": 38,
    "start_time": "2022-08-23T11:27:01.762Z"
   },
   {
    "duration": 6,
    "start_time": "2022-08-23T11:27:01.802Z"
   },
   {
    "duration": 10,
    "start_time": "2022-08-23T11:27:01.810Z"
   },
   {
    "duration": 15,
    "start_time": "2022-08-23T11:27:01.821Z"
   },
   {
    "duration": 542,
    "start_time": "2022-08-23T11:27:01.838Z"
   },
   {
    "duration": 155,
    "start_time": "2022-08-23T11:27:02.384Z"
   },
   {
    "duration": 2962,
    "start_time": "2022-08-23T11:27:02.540Z"
   },
   {
    "duration": 103,
    "start_time": "2022-08-23T11:27:05.504Z"
   },
   {
    "duration": 2,
    "start_time": "2022-08-23T11:27:05.609Z"
   },
   {
    "duration": 11,
    "start_time": "2022-08-23T11:27:05.613Z"
   },
   {
    "duration": 8,
    "start_time": "2022-08-23T11:27:05.625Z"
   },
   {
    "duration": 27,
    "start_time": "2022-08-23T11:27:05.634Z"
   },
   {
    "duration": 566,
    "start_time": "2022-08-23T11:27:05.662Z"
   },
   {
    "duration": 170,
    "start_time": "2022-08-23T11:27:06.230Z"
   },
   {
    "duration": 1304,
    "start_time": "2022-08-23T11:27:06.402Z"
   },
   {
    "duration": 469,
    "start_time": "2022-08-23T11:39:27.660Z"
   },
   {
    "duration": 161,
    "start_time": "2022-08-23T11:39:35.758Z"
   },
   {
    "duration": 529,
    "start_time": "2022-08-23T11:40:02.537Z"
   },
   {
    "duration": 153,
    "start_time": "2022-08-23T11:40:08.939Z"
   },
   {
    "duration": 6,
    "start_time": "2022-08-23T11:43:17.244Z"
   },
   {
    "duration": 6,
    "start_time": "2022-08-23T11:43:33.116Z"
   },
   {
    "duration": 33,
    "start_time": "2022-08-23T11:43:38.047Z"
   },
   {
    "duration": 14,
    "start_time": "2022-08-23T11:44:05.566Z"
   },
   {
    "duration": 3,
    "start_time": "2022-08-23T11:44:14.611Z"
   },
   {
    "duration": 8,
    "start_time": "2022-08-23T11:44:23.403Z"
   },
   {
    "duration": 12,
    "start_time": "2022-08-23T11:49:54.741Z"
   },
   {
    "duration": 2,
    "start_time": "2022-08-23T11:49:57.335Z"
   },
   {
    "duration": 8,
    "start_time": "2022-08-23T11:49:59.212Z"
   },
   {
    "duration": 8,
    "start_time": "2022-08-23T11:50:03.076Z"
   },
   {
    "duration": 31,
    "start_time": "2022-08-23T11:50:07.995Z"
   },
   {
    "duration": 534,
    "start_time": "2022-08-23T11:50:14.695Z"
   },
   {
    "duration": 166,
    "start_time": "2022-08-23T11:50:21.055Z"
   },
   {
    "duration": 1269,
    "start_time": "2022-08-23T11:50:24.033Z"
   },
   {
    "duration": 540,
    "start_time": "2022-08-23T11:50:30.655Z"
   },
   {
    "duration": 150,
    "start_time": "2022-08-23T11:50:37.215Z"
   },
   {
    "duration": 536,
    "start_time": "2022-08-23T12:44:18.299Z"
   },
   {
    "duration": 4,
    "start_time": "2022-08-23T13:03:23.654Z"
   },
   {
    "duration": 5,
    "start_time": "2022-08-23T14:09:49.434Z"
   },
   {
    "duration": 112,
    "start_time": "2022-08-23T14:10:27.413Z"
   },
   {
    "duration": 3,
    "start_time": "2022-08-23T14:10:34.616Z"
   },
   {
    "duration": 9,
    "start_time": "2022-08-23T14:18:18.707Z"
   },
   {
    "duration": 94990,
    "start_time": "2022-08-23T14:18:25.409Z"
   },
   {
    "duration": 19,
    "start_time": "2022-08-23T14:21:13.282Z"
   },
   {
    "duration": 20,
    "start_time": "2022-08-23T14:21:25.810Z"
   },
   {
    "duration": 23,
    "start_time": "2022-08-23T14:22:01.854Z"
   },
   {
    "duration": 10,
    "start_time": "2022-08-23T14:23:07.125Z"
   },
   {
    "duration": 33,
    "start_time": "2022-08-23T14:23:13.914Z"
   },
   {
    "duration": 15,
    "start_time": "2022-08-23T14:37:44.447Z"
   },
   {
    "duration": 97953,
    "start_time": "2022-08-23T14:38:20.337Z"
   },
   {
    "duration": 9911,
    "start_time": "2022-08-23T14:40:22.425Z"
   },
   {
    "duration": 97147,
    "start_time": "2022-08-23T14:40:50.127Z"
   },
   {
    "duration": 14,
    "start_time": "2022-08-23T14:46:39.528Z"
   },
   {
    "duration": 29,
    "start_time": "2022-08-23T14:46:54.025Z"
   },
   {
    "duration": 33,
    "start_time": "2022-08-23T14:47:24.874Z"
   },
   {
    "duration": 4,
    "start_time": "2022-08-23T14:53:35.706Z"
   },
   {
    "duration": 27,
    "start_time": "2022-08-23T14:53:52.006Z"
   },
   {
    "duration": 20,
    "start_time": "2022-08-23T14:54:04.344Z"
   },
   {
    "duration": 21,
    "start_time": "2022-08-23T14:54:56.594Z"
   },
   {
    "duration": 21,
    "start_time": "2022-08-23T14:55:12.586Z"
   },
   {
    "duration": 108705,
    "start_time": "2022-08-23T14:56:02.433Z"
   },
   {
    "duration": 1316,
    "start_time": "2022-08-23T15:17:51.518Z"
   },
   {
    "duration": 64,
    "start_time": "2022-08-23T15:17:52.836Z"
   },
   {
    "duration": 71,
    "start_time": "2022-08-23T15:17:52.901Z"
   },
   {
    "duration": 28,
    "start_time": "2022-08-23T15:17:52.973Z"
   },
   {
    "duration": 452,
    "start_time": "2022-08-23T15:17:53.003Z"
   },
   {
    "duration": 149,
    "start_time": "2022-08-23T15:17:53.457Z"
   },
   {
    "duration": 14,
    "start_time": "2022-08-23T15:17:53.607Z"
   },
   {
    "duration": 12,
    "start_time": "2022-08-23T15:17:53.622Z"
   },
   {
    "duration": 29,
    "start_time": "2022-08-23T15:17:53.636Z"
   },
   {
    "duration": 6,
    "start_time": "2022-08-23T15:17:53.667Z"
   },
   {
    "duration": 25,
    "start_time": "2022-08-23T15:17:53.674Z"
   },
   {
    "duration": 13,
    "start_time": "2022-08-23T15:17:53.701Z"
   },
   {
    "duration": 557,
    "start_time": "2022-08-23T15:17:53.715Z"
   },
   {
    "duration": 175,
    "start_time": "2022-08-23T15:17:54.274Z"
   },
   {
    "duration": 3151,
    "start_time": "2022-08-23T15:17:54.450Z"
   },
   {
    "duration": 12,
    "start_time": "2022-08-23T15:17:57.602Z"
   },
   {
    "duration": 10,
    "start_time": "2022-08-23T15:17:57.615Z"
   },
   {
    "duration": 18,
    "start_time": "2022-08-23T15:17:57.627Z"
   },
   {
    "duration": 14,
    "start_time": "2022-08-23T15:17:57.646Z"
   },
   {
    "duration": 29,
    "start_time": "2022-08-23T15:17:57.661Z"
   },
   {
    "duration": 542,
    "start_time": "2022-08-23T15:17:57.692Z"
   },
   {
    "duration": 174,
    "start_time": "2022-08-23T15:17:58.236Z"
   },
   {
    "duration": 1492,
    "start_time": "2022-08-23T15:17:58.411Z"
   },
   {
    "duration": 97,
    "start_time": "2022-08-23T15:17:59.904Z"
   },
   {
    "duration": 106667,
    "start_time": "2022-08-23T15:18:00.003Z"
   },
   {
    "duration": 27,
    "start_time": "2022-08-23T15:19:46.672Z"
   },
   {
    "duration": 20,
    "start_time": "2022-08-23T15:19:58.622Z"
   },
   {
    "duration": 33408,
    "start_time": "2022-08-23T15:21:00.034Z"
   },
   {
    "duration": 167320,
    "start_time": "2022-08-23T15:21:50.282Z"
   },
   {
    "duration": 2,
    "start_time": "2022-08-23T15:45:56.746Z"
   },
   {
    "duration": 5,
    "start_time": "2022-08-23T16:11:47.624Z"
   },
   {
    "duration": 1246,
    "start_time": "2022-08-23T16:23:13.306Z"
   },
   {
    "duration": 59,
    "start_time": "2022-08-23T16:23:14.554Z"
   },
   {
    "duration": 71,
    "start_time": "2022-08-23T16:23:14.615Z"
   },
   {
    "duration": 22,
    "start_time": "2022-08-23T16:23:14.688Z"
   },
   {
    "duration": 465,
    "start_time": "2022-08-23T16:23:14.711Z"
   },
   {
    "duration": 163,
    "start_time": "2022-08-23T16:23:15.178Z"
   },
   {
    "duration": 11,
    "start_time": "2022-08-23T16:23:15.343Z"
   },
   {
    "duration": 11,
    "start_time": "2022-08-23T16:23:15.355Z"
   },
   {
    "duration": 40,
    "start_time": "2022-08-23T16:23:15.367Z"
   },
   {
    "duration": 5,
    "start_time": "2022-08-23T16:23:15.409Z"
   },
   {
    "duration": 3,
    "start_time": "2022-08-23T16:23:15.416Z"
   },
   {
    "duration": 9,
    "start_time": "2022-08-23T16:23:15.420Z"
   },
   {
    "duration": 524,
    "start_time": "2022-08-23T16:23:15.430Z"
   },
   {
    "duration": 160,
    "start_time": "2022-08-23T16:23:15.956Z"
   },
   {
    "duration": 2285,
    "start_time": "2022-08-23T16:23:16.117Z"
   },
   {
    "duration": 103,
    "start_time": "2022-08-23T16:23:18.404Z"
   },
   {
    "duration": 2,
    "start_time": "2022-08-23T16:23:18.509Z"
   },
   {
    "duration": 17,
    "start_time": "2022-08-23T16:23:18.512Z"
   },
   {
    "duration": 6,
    "start_time": "2022-08-23T16:23:18.530Z"
   },
   {
    "duration": 28,
    "start_time": "2022-08-23T16:23:18.537Z"
   },
   {
    "duration": 533,
    "start_time": "2022-08-23T16:23:18.566Z"
   },
   {
    "duration": 169,
    "start_time": "2022-08-23T16:23:19.100Z"
   },
   {
    "duration": 1235,
    "start_time": "2022-08-23T16:23:19.270Z"
   },
   {
    "duration": 95,
    "start_time": "2022-08-23T16:23:20.507Z"
   },
   {
    "duration": 166682,
    "start_time": "2022-08-23T16:23:20.603Z"
   },
   {
    "duration": 3,
    "start_time": "2022-08-23T16:29:53.169Z"
   },
   {
    "duration": 6,
    "start_time": "2022-08-23T16:34:58.188Z"
   },
   {
    "duration": 5,
    "start_time": "2022-08-23T16:35:03.648Z"
   },
   {
    "duration": 6,
    "start_time": "2022-08-23T16:35:16.688Z"
   },
   {
    "duration": 6,
    "start_time": "2022-08-23T16:35:22.927Z"
   },
   {
    "duration": 4,
    "start_time": "2022-08-23T16:43:09.950Z"
   },
   {
    "duration": 3,
    "start_time": "2022-08-23T16:45:36.310Z"
   },
   {
    "duration": 10,
    "start_time": "2022-08-23T16:47:42.169Z"
   },
   {
    "duration": 10,
    "start_time": "2022-08-23T16:48:17.528Z"
   },
   {
    "duration": 11,
    "start_time": "2022-08-23T16:48:28.359Z"
   },
   {
    "duration": 4,
    "start_time": "2022-08-23T16:49:37.412Z"
   },
   {
    "duration": 10,
    "start_time": "2022-08-23T16:49:39.271Z"
   },
   {
    "duration": 3,
    "start_time": "2022-08-23T16:50:43.450Z"
   },
   {
    "duration": 12,
    "start_time": "2022-08-23T16:50:45.510Z"
   },
   {
    "duration": 8,
    "start_time": "2022-08-23T16:52:04.862Z"
   },
   {
    "duration": 6,
    "start_time": "2022-08-23T16:52:29.047Z"
   },
   {
    "duration": 4,
    "start_time": "2022-08-23T16:59:25.349Z"
   },
   {
    "duration": 4,
    "start_time": "2022-08-23T16:59:33.040Z"
   },
   {
    "duration": 4,
    "start_time": "2022-08-23T16:59:35.750Z"
   },
   {
    "duration": 123,
    "start_time": "2022-08-23T16:59:45.150Z"
   },
   {
    "duration": 4,
    "start_time": "2022-08-23T17:00:40.170Z"
   },
   {
    "duration": 3,
    "start_time": "2022-08-23T17:00:44.186Z"
   },
   {
    "duration": 5,
    "start_time": "2022-08-23T17:00:47.210Z"
   },
   {
    "duration": 12,
    "start_time": "2022-08-23T17:00:52.171Z"
   },
   {
    "duration": 4,
    "start_time": "2022-08-23T17:01:37.022Z"
   },
   {
    "duration": 5,
    "start_time": "2022-08-23T17:01:38.973Z"
   },
   {
    "duration": 12,
    "start_time": "2022-08-23T17:01:40.693Z"
   },
   {
    "duration": 11,
    "start_time": "2022-08-23T17:05:03.870Z"
   },
   {
    "duration": 11,
    "start_time": "2022-08-23T17:05:11.253Z"
   },
   {
    "duration": 234868,
    "start_time": "2022-08-23T17:06:57.385Z"
   },
   {
    "duration": 235722,
    "start_time": "2022-08-23T17:14:07.861Z"
   },
   {
    "duration": 37,
    "start_time": "2022-08-23T17:19:39.893Z"
   },
   {
    "duration": 132,
    "start_time": "2022-08-23T17:20:38.969Z"
   },
   {
    "duration": 662,
    "start_time": "2022-08-23T17:23:14.119Z"
   },
   {
    "duration": 3,
    "start_time": "2022-08-23T22:46:39.222Z"
   },
   {
    "duration": 1550,
    "start_time": "2022-08-23T22:48:12.351Z"
   },
   {
    "duration": 113,
    "start_time": "2022-08-23T22:48:13.905Z"
   },
   {
    "duration": 128,
    "start_time": "2022-08-23T22:48:14.020Z"
   },
   {
    "duration": 19,
    "start_time": "2022-08-23T22:48:14.152Z"
   },
   {
    "duration": 551,
    "start_time": "2022-08-23T22:48:14.173Z"
   },
   {
    "duration": 208,
    "start_time": "2022-08-23T22:48:14.725Z"
   },
   {
    "duration": 14,
    "start_time": "2022-08-23T22:48:14.935Z"
   },
   {
    "duration": 20,
    "start_time": "2022-08-23T22:48:14.952Z"
   },
   {
    "duration": 72,
    "start_time": "2022-08-23T22:48:14.974Z"
   },
   {
    "duration": 13,
    "start_time": "2022-08-23T22:48:15.050Z"
   },
   {
    "duration": 5,
    "start_time": "2022-08-23T22:48:15.065Z"
   },
   {
    "duration": 13,
    "start_time": "2022-08-23T22:48:15.072Z"
   },
   {
    "duration": 544,
    "start_time": "2022-08-23T22:48:15.086Z"
   },
   {
    "duration": 191,
    "start_time": "2022-08-23T22:48:15.631Z"
   },
   {
    "duration": 9586,
    "start_time": "2022-08-23T22:48:15.823Z"
   },
   {
    "duration": 15,
    "start_time": "2022-08-23T22:48:25.417Z"
   },
   {
    "duration": 8,
    "start_time": "2022-08-23T22:48:25.434Z"
   },
   {
    "duration": 10,
    "start_time": "2022-08-23T22:48:25.444Z"
   },
   {
    "duration": 7,
    "start_time": "2022-08-23T22:48:25.455Z"
   },
   {
    "duration": 60,
    "start_time": "2022-08-23T22:48:25.463Z"
   },
   {
    "duration": 536,
    "start_time": "2022-08-23T22:48:25.525Z"
   },
   {
    "duration": 199,
    "start_time": "2022-08-23T22:48:26.064Z"
   },
   {
    "duration": 1946,
    "start_time": "2022-08-23T22:48:26.265Z"
   },
   {
    "duration": 6,
    "start_time": "2022-08-23T22:48:28.213Z"
   },
   {
    "duration": 170472,
    "start_time": "2022-08-23T22:48:28.222Z"
   },
   {
    "duration": 7,
    "start_time": "2022-08-23T22:51:18.696Z"
   },
   {
    "duration": 15,
    "start_time": "2022-08-23T22:51:18.709Z"
   },
   {
    "duration": 13,
    "start_time": "2022-08-23T22:51:18.727Z"
   },
   {
    "duration": 177795,
    "start_time": "2022-08-23T22:51:18.742Z"
   },
   {
    "duration": 48,
    "start_time": "2022-08-23T22:54:16.539Z"
   },
   {
    "duration": 12,
    "start_time": "2022-08-23T22:54:16.614Z"
   },
   {
    "duration": 240918,
    "start_time": "2022-08-23T23:01:41.198Z"
   },
   {
    "duration": 128,
    "start_time": "2022-08-23T23:05:42.119Z"
   },
   {
    "duration": 38,
    "start_time": "2022-08-23T23:06:36.158Z"
   },
   {
    "duration": 46,
    "start_time": "2022-08-23T23:06:59.398Z"
   },
   {
    "duration": 46,
    "start_time": "2022-08-23T23:07:03.662Z"
   },
   {
    "duration": 17,
    "start_time": "2022-08-23T23:08:43.818Z"
   },
   {
    "duration": 13,
    "start_time": "2022-08-23T23:14:12.321Z"
   },
   {
    "duration": 112167,
    "start_time": "2022-08-23T23:14:15.122Z"
   },
   {
    "duration": 48,
    "start_time": "2022-08-23T23:16:07.292Z"
   },
   {
    "duration": 55805,
    "start_time": "2022-08-23T23:16:57.218Z"
   },
   {
    "duration": 29,
    "start_time": "2022-08-23T23:17:53.025Z"
   },
   {
    "duration": 180162,
    "start_time": "2022-08-23T23:18:28.014Z"
   },
   {
    "duration": 48,
    "start_time": "2022-08-23T23:21:28.178Z"
   },
   {
    "duration": 216162,
    "start_time": "2022-08-23T23:23:29.647Z"
   },
   {
    "duration": 42,
    "start_time": "2022-08-23T23:27:05.814Z"
   },
   {
    "duration": 405662,
    "start_time": "2022-08-23T23:27:48.856Z"
   },
   {
    "duration": 38,
    "start_time": "2022-08-23T23:34:34.526Z"
   },
   {
    "duration": 18,
    "start_time": "2022-08-23T23:38:59.934Z"
   },
   {
    "duration": 6,
    "start_time": "2022-08-23T23:39:44.775Z"
   },
   {
    "duration": 661,
    "start_time": "2022-08-23T23:40:26.257Z"
   },
   {
    "duration": 674,
    "start_time": "2022-08-23T23:44:28.362Z"
   },
   {
    "duration": 78353,
    "start_time": "2022-08-23T23:46:06.922Z"
   },
   {
    "duration": 50,
    "start_time": "2022-08-23T23:47:25.277Z"
   },
   {
    "duration": 651,
    "start_time": "2022-08-23T23:47:25.329Z"
   },
   {
    "duration": 44,
    "start_time": "2022-08-23T23:51:01.505Z"
   },
   {
    "duration": 1321,
    "start_time": "2022-08-23T23:53:58.973Z"
   },
   {
    "duration": 69,
    "start_time": "2022-08-23T23:54:00.296Z"
   },
   {
    "duration": 80,
    "start_time": "2022-08-23T23:54:00.367Z"
   },
   {
    "duration": 19,
    "start_time": "2022-08-23T23:54:00.449Z"
   },
   {
    "duration": 521,
    "start_time": "2022-08-23T23:54:00.469Z"
   },
   {
    "duration": 192,
    "start_time": "2022-08-23T23:54:00.992Z"
   },
   {
    "duration": 33,
    "start_time": "2022-08-23T23:54:01.186Z"
   },
   {
    "duration": 27,
    "start_time": "2022-08-23T23:54:01.230Z"
   },
   {
    "duration": 48,
    "start_time": "2022-08-23T23:54:01.259Z"
   },
   {
    "duration": 24,
    "start_time": "2022-08-23T23:54:01.310Z"
   },
   {
    "duration": 51,
    "start_time": "2022-08-23T23:54:01.336Z"
   },
   {
    "duration": 40,
    "start_time": "2022-08-23T23:54:01.388Z"
   },
   {
    "duration": 563,
    "start_time": "2022-08-23T23:54:01.430Z"
   },
   {
    "duration": 187,
    "start_time": "2022-08-23T23:54:01.995Z"
   },
   {
    "duration": 12721,
    "start_time": "2022-08-23T23:54:02.184Z"
   },
   {
    "duration": 19,
    "start_time": "2022-08-23T23:54:14.906Z"
   },
   {
    "duration": 10,
    "start_time": "2022-08-23T23:54:14.926Z"
   },
   {
    "duration": 11,
    "start_time": "2022-08-23T23:54:14.937Z"
   },
   {
    "duration": 13,
    "start_time": "2022-08-23T23:54:14.949Z"
   },
   {
    "duration": 29,
    "start_time": "2022-08-23T23:54:14.963Z"
   },
   {
    "duration": 527,
    "start_time": "2022-08-23T23:54:15.007Z"
   },
   {
    "duration": 198,
    "start_time": "2022-08-23T23:54:15.536Z"
   },
   {
    "duration": 2375,
    "start_time": "2022-08-23T23:54:15.736Z"
   },
   {
    "duration": 17,
    "start_time": "2022-08-23T23:54:18.116Z"
   },
   {
    "duration": 72693,
    "start_time": "2022-08-23T23:54:18.134Z"
   },
   {
    "duration": 12,
    "start_time": "2022-08-23T23:55:30.831Z"
   },
   {
    "duration": 22,
    "start_time": "2022-08-23T23:55:30.845Z"
   },
   {
    "duration": 19,
    "start_time": "2022-08-23T23:55:30.871Z"
   },
   {
    "duration": 78027,
    "start_time": "2022-08-23T23:55:30.892Z"
   },
   {
    "duration": 36,
    "start_time": "2022-08-23T23:56:48.921Z"
   },
   {
    "duration": 47,
    "start_time": "2022-08-23T23:56:48.959Z"
   },
   {
    "duration": 502,
    "start_time": "2022-08-24T00:00:14.426Z"
   },
   {
    "duration": 1624,
    "start_time": "2022-08-24T00:20:01.054Z"
   },
   {
    "duration": 70,
    "start_time": "2022-08-24T00:20:02.680Z"
   },
   {
    "duration": 90,
    "start_time": "2022-08-24T00:20:02.751Z"
   },
   {
    "duration": 19,
    "start_time": "2022-08-24T00:20:02.843Z"
   },
   {
    "duration": 559,
    "start_time": "2022-08-24T00:20:02.864Z"
   },
   {
    "duration": 203,
    "start_time": "2022-08-24T00:20:03.425Z"
   },
   {
    "duration": 15,
    "start_time": "2022-08-24T00:20:03.629Z"
   },
   {
    "duration": 13,
    "start_time": "2022-08-24T00:20:03.646Z"
   },
   {
    "duration": 58,
    "start_time": "2022-08-24T00:20:03.661Z"
   },
   {
    "duration": 5,
    "start_time": "2022-08-24T00:20:03.722Z"
   },
   {
    "duration": 5,
    "start_time": "2022-08-24T00:20:03.729Z"
   },
   {
    "duration": 16,
    "start_time": "2022-08-24T00:20:03.736Z"
   },
   {
    "duration": 533,
    "start_time": "2022-08-24T00:20:03.753Z"
   },
   {
    "duration": 185,
    "start_time": "2022-08-24T00:20:04.288Z"
   },
   {
    "duration": 8339,
    "start_time": "2022-08-24T00:20:04.475Z"
   },
   {
    "duration": 94,
    "start_time": "2022-08-24T00:20:12.817Z"
   },
   {
    "duration": 7,
    "start_time": "2022-08-24T00:20:12.916Z"
   },
   {
    "duration": 13,
    "start_time": "2022-08-24T00:20:12.924Z"
   },
   {
    "duration": 7,
    "start_time": "2022-08-24T00:20:12.939Z"
   },
   {
    "duration": 31,
    "start_time": "2022-08-24T00:20:12.947Z"
   },
   {
    "duration": 535,
    "start_time": "2022-08-24T00:20:12.980Z"
   },
   {
    "duration": 201,
    "start_time": "2022-08-24T00:20:13.517Z"
   },
   {
    "duration": 2394,
    "start_time": "2022-08-24T00:20:13.720Z"
   },
   {
    "duration": 6,
    "start_time": "2022-08-24T00:20:16.117Z"
   },
   {
    "duration": 72039,
    "start_time": "2022-08-24T00:20:16.125Z"
   },
   {
    "duration": 5,
    "start_time": "2022-08-24T00:21:28.166Z"
   },
   {
    "duration": 6,
    "start_time": "2022-08-24T00:21:28.173Z"
   },
   {
    "duration": 33,
    "start_time": "2022-08-24T00:21:28.182Z"
   },
   {
    "duration": 76916,
    "start_time": "2022-08-24T00:21:28.219Z"
   },
   {
    "duration": 33,
    "start_time": "2022-08-24T00:22:45.137Z"
   },
   {
    "duration": 50,
    "start_time": "2022-08-24T00:22:45.172Z"
   },
   {
    "duration": 1834,
    "start_time": "2022-08-24T03:28:19.131Z"
   },
   {
    "duration": 173,
    "start_time": "2022-08-24T03:28:20.967Z"
   },
   {
    "duration": 103,
    "start_time": "2022-08-24T03:28:21.142Z"
   },
   {
    "duration": 25,
    "start_time": "2022-08-24T03:28:21.248Z"
   },
   {
    "duration": 778,
    "start_time": "2022-08-24T03:28:21.276Z"
   },
   {
    "duration": 264,
    "start_time": "2022-08-24T03:28:22.059Z"
   },
   {
    "duration": 20,
    "start_time": "2022-08-24T03:28:22.325Z"
   },
   {
    "duration": 19,
    "start_time": "2022-08-24T03:28:22.347Z"
   },
   {
    "duration": 50,
    "start_time": "2022-08-24T03:28:22.368Z"
   },
   {
    "duration": 11,
    "start_time": "2022-08-24T03:28:22.420Z"
   },
   {
    "duration": 9,
    "start_time": "2022-08-24T03:28:22.433Z"
   },
   {
    "duration": 10,
    "start_time": "2022-08-24T03:28:22.444Z"
   },
   {
    "duration": 739,
    "start_time": "2022-08-24T03:28:22.456Z"
   },
   {
    "duration": 224,
    "start_time": "2022-08-24T03:28:23.198Z"
   },
   {
    "duration": 13186,
    "start_time": "2022-08-24T03:28:23.424Z"
   },
   {
    "duration": 20,
    "start_time": "2022-08-24T03:28:36.626Z"
   },
   {
    "duration": 4,
    "start_time": "2022-08-24T03:28:36.647Z"
   },
   {
    "duration": 20,
    "start_time": "2022-08-24T03:28:36.653Z"
   },
   {
    "duration": 10,
    "start_time": "2022-08-24T03:28:36.675Z"
   },
   {
    "duration": 108,
    "start_time": "2022-08-24T03:28:36.687Z"
   },
   {
    "duration": 643,
    "start_time": "2022-08-24T03:28:36.798Z"
   },
   {
    "duration": 244,
    "start_time": "2022-08-24T03:28:37.443Z"
   },
   {
    "duration": 3027,
    "start_time": "2022-08-24T03:28:37.690Z"
   },
   {
    "duration": 17,
    "start_time": "2022-08-24T03:28:40.731Z"
   },
   {
    "duration": 81990,
    "start_time": "2022-08-24T03:28:40.751Z"
   },
   {
    "duration": 8,
    "start_time": "2022-08-24T03:30:02.743Z"
   },
   {
    "duration": 11,
    "start_time": "2022-08-24T03:30:02.753Z"
   },
   {
    "duration": 47,
    "start_time": "2022-08-24T03:30:02.766Z"
   },
   {
    "duration": 88658,
    "start_time": "2022-08-24T03:30:02.817Z"
   },
   {
    "duration": 58,
    "start_time": "2022-08-24T03:31:31.477Z"
   },
   {
    "duration": 70,
    "start_time": "2022-08-24T03:31:31.538Z"
   },
   {
    "duration": 1513,
    "start_time": "2022-08-25T11:15:23.884Z"
   },
   {
    "duration": 101,
    "start_time": "2022-08-25T11:15:29.623Z"
   },
   {
    "duration": 50,
    "start_time": "2022-08-25T11:15:36.184Z"
   },
   {
    "duration": 80,
    "start_time": "2022-08-25T11:15:50.266Z"
   },
   {
    "duration": 24,
    "start_time": "2022-08-25T11:16:27.290Z"
   },
   {
    "duration": 25,
    "start_time": "2022-08-25T11:17:29.415Z"
   },
   {
    "duration": 541,
    "start_time": "2022-08-25T11:18:54.642Z"
   },
   {
    "duration": 31,
    "start_time": "2022-08-25T11:22:17.506Z"
   },
   {
    "duration": 592,
    "start_time": "2022-08-25T11:22:20.146Z"
   },
   {
    "duration": 130,
    "start_time": "2022-08-25T11:26:28.997Z"
   },
   {
    "duration": 98,
    "start_time": "2022-08-25T11:27:18.550Z"
   },
   {
    "duration": 93,
    "start_time": "2022-08-25T11:27:34.992Z"
   },
   {
    "duration": 90,
    "start_time": "2022-08-25T11:28:08.059Z"
   },
   {
    "duration": 1121,
    "start_time": "2022-08-25T11:37:24.941Z"
   },
   {
    "duration": 1532,
    "start_time": "2022-08-25T11:37:46.622Z"
   },
   {
    "duration": 1411,
    "start_time": "2022-08-25T11:38:25.301Z"
   },
   {
    "duration": 1297,
    "start_time": "2022-08-25T11:38:36.843Z"
   },
   {
    "duration": 1082,
    "start_time": "2022-08-25T11:38:53.121Z"
   },
   {
    "duration": 977,
    "start_time": "2022-08-25T11:39:21.922Z"
   },
   {
    "duration": 1019,
    "start_time": "2022-08-25T11:42:44.875Z"
   },
   {
    "duration": 130,
    "start_time": "2022-08-25T11:44:45.061Z"
   },
   {
    "duration": 15,
    "start_time": "2022-08-25T11:48:40.273Z"
   },
   {
    "duration": 14,
    "start_time": "2022-08-25T11:49:50.327Z"
   },
   {
    "duration": 14,
    "start_time": "2022-08-25T11:51:08.126Z"
   },
   {
    "duration": 5,
    "start_time": "2022-08-25T11:51:11.914Z"
   },
   {
    "duration": 58,
    "start_time": "2022-08-25T11:51:11.922Z"
   },
   {
    "duration": 46,
    "start_time": "2022-08-25T11:51:11.982Z"
   },
   {
    "duration": 21,
    "start_time": "2022-08-25T11:51:12.030Z"
   },
   {
    "duration": 882,
    "start_time": "2022-08-25T11:51:12.054Z"
   },
   {
    "duration": 100,
    "start_time": "2022-08-25T11:51:12.937Z"
   },
   {
    "duration": 241,
    "start_time": "2022-08-25T11:51:13.039Z"
   },
   {
    "duration": 26,
    "start_time": "2022-08-25T11:51:13.282Z"
   },
   {
    "duration": 13,
    "start_time": "2022-08-25T11:51:16.166Z"
   },
   {
    "duration": 28,
    "start_time": "2022-08-25T11:54:18.144Z"
   },
   {
    "duration": 22,
    "start_time": "2022-08-25T11:54:29.427Z"
   },
   {
    "duration": 6,
    "start_time": "2022-08-25T11:55:42.461Z"
   },
   {
    "duration": 115,
    "start_time": "2022-08-25T12:04:04.900Z"
   },
   {
    "duration": 2,
    "start_time": "2022-08-25T12:04:14.863Z"
   },
   {
    "duration": 5,
    "start_time": "2022-08-25T12:04:26.760Z"
   },
   {
    "duration": 10,
    "start_time": "2022-08-25T12:04:52.188Z"
   },
   {
    "duration": 4,
    "start_time": "2022-08-25T12:05:04.821Z"
   },
   {
    "duration": 4,
    "start_time": "2022-08-25T12:06:13.245Z"
   },
   {
    "duration": 4,
    "start_time": "2022-08-25T12:06:23.309Z"
   },
   {
    "duration": 3,
    "start_time": "2022-08-25T12:06:40.030Z"
   },
   {
    "duration": 3,
    "start_time": "2022-08-25T12:07:07.571Z"
   },
   {
    "duration": 4,
    "start_time": "2022-08-25T12:11:54.221Z"
   },
   {
    "duration": 3,
    "start_time": "2022-08-25T12:14:19.374Z"
   },
   {
    "duration": 4,
    "start_time": "2022-08-25T12:21:31.844Z"
   },
   {
    "duration": 9,
    "start_time": "2022-08-25T12:23:30.782Z"
   },
   {
    "duration": 7,
    "start_time": "2022-08-25T12:33:13.281Z"
   },
   {
    "duration": 8,
    "start_time": "2022-08-25T12:33:40.589Z"
   },
   {
    "duration": 7,
    "start_time": "2022-08-25T12:34:14.636Z"
   },
   {
    "duration": 3,
    "start_time": "2022-08-25T12:34:42.316Z"
   },
   {
    "duration": 7,
    "start_time": "2022-08-25T12:35:21.993Z"
   },
   {
    "duration": 27,
    "start_time": "2022-08-25T12:35:37.172Z"
   },
   {
    "duration": 5,
    "start_time": "2022-08-25T12:36:09.690Z"
   },
   {
    "duration": 72,
    "start_time": "2022-08-25T12:36:09.697Z"
   },
   {
    "duration": 45,
    "start_time": "2022-08-25T12:36:09.771Z"
   },
   {
    "duration": 22,
    "start_time": "2022-08-25T12:36:09.818Z"
   },
   {
    "duration": 998,
    "start_time": "2022-08-25T12:36:09.842Z"
   },
   {
    "duration": 102,
    "start_time": "2022-08-25T12:36:10.841Z"
   },
   {
    "duration": 136,
    "start_time": "2022-08-25T12:36:10.945Z"
   },
   {
    "duration": 26,
    "start_time": "2022-08-25T12:36:11.084Z"
   },
   {
    "duration": 14,
    "start_time": "2022-08-25T12:36:11.112Z"
   },
   {
    "duration": 22,
    "start_time": "2022-08-25T12:36:11.127Z"
   },
   {
    "duration": 6,
    "start_time": "2022-08-25T12:36:11.150Z"
   },
   {
    "duration": 5,
    "start_time": "2022-08-25T12:36:11.158Z"
   },
   {
    "duration": 38,
    "start_time": "2022-08-25T12:36:11.165Z"
   },
   {
    "duration": 2,
    "start_time": "2022-08-25T12:36:11.205Z"
   },
   {
    "duration": 11,
    "start_time": "2022-08-25T12:36:11.209Z"
   },
   {
    "duration": 35,
    "start_time": "2022-08-25T12:36:18.442Z"
   },
   {
    "duration": 5,
    "start_time": "2022-08-25T12:37:32.023Z"
   },
   {
    "duration": 76,
    "start_time": "2022-08-25T12:37:32.030Z"
   },
   {
    "duration": 46,
    "start_time": "2022-08-25T12:37:32.108Z"
   },
   {
    "duration": 50,
    "start_time": "2022-08-25T12:37:32.156Z"
   },
   {
    "duration": 1015,
    "start_time": "2022-08-25T12:37:32.209Z"
   },
   {
    "duration": 101,
    "start_time": "2022-08-25T12:37:33.226Z"
   },
   {
    "duration": 140,
    "start_time": "2022-08-25T12:37:33.329Z"
   },
   {
    "duration": 13,
    "start_time": "2022-08-25T12:37:33.471Z"
   },
   {
    "duration": 27,
    "start_time": "2022-08-25T12:37:33.486Z"
   },
   {
    "duration": 21,
    "start_time": "2022-08-25T12:37:33.515Z"
   },
   {
    "duration": 6,
    "start_time": "2022-08-25T12:37:33.537Z"
   },
   {
    "duration": 6,
    "start_time": "2022-08-25T12:37:33.545Z"
   },
   {
    "duration": 8,
    "start_time": "2022-08-25T12:37:33.553Z"
   },
   {
    "duration": 4,
    "start_time": "2022-08-25T12:37:33.562Z"
   },
   {
    "duration": 37,
    "start_time": "2022-08-25T12:37:33.568Z"
   },
   {
    "duration": 28,
    "start_time": "2022-08-25T12:37:33.606Z"
   },
   {
    "duration": 2784,
    "start_time": "2022-08-25T12:43:44.716Z"
   },
   {
    "duration": 2968,
    "start_time": "2022-08-25T12:52:50.115Z"
   },
   {
    "duration": 10,
    "start_time": "2022-08-25T12:53:02.900Z"
   },
   {
    "duration": 2951,
    "start_time": "2022-08-25T12:53:52.565Z"
   },
   {
    "duration": 14,
    "start_time": "2022-08-25T12:54:04.421Z"
   },
   {
    "duration": 5,
    "start_time": "2022-08-25T12:55:14.380Z"
   },
   {
    "duration": 9,
    "start_time": "2022-08-25T12:55:33.983Z"
   },
   {
    "duration": 4,
    "start_time": "2022-08-25T12:55:46.286Z"
   },
   {
    "duration": 5,
    "start_time": "2022-08-25T12:56:14.862Z"
   },
   {
    "duration": 4,
    "start_time": "2022-08-25T12:56:35.923Z"
   },
   {
    "duration": 4,
    "start_time": "2022-08-25T12:57:10.943Z"
   },
   {
    "duration": 202,
    "start_time": "2022-08-25T12:58:13.367Z"
   },
   {
    "duration": 3055,
    "start_time": "2022-08-25T12:58:56.358Z"
   },
   {
    "duration": 194,
    "start_time": "2022-08-25T12:59:02.666Z"
   },
   {
    "duration": 3,
    "start_time": "2022-08-25T13:02:18.380Z"
   },
   {
    "duration": 3,
    "start_time": "2022-08-25T13:03:00.101Z"
   },
   {
    "duration": 4,
    "start_time": "2022-08-25T13:03:34.838Z"
   },
   {
    "duration": 4,
    "start_time": "2022-08-25T13:03:57.728Z"
   },
   {
    "duration": 3,
    "start_time": "2022-08-25T13:06:09.937Z"
   },
   {
    "duration": 69,
    "start_time": "2022-08-25T13:08:34.383Z"
   },
   {
    "duration": 3079,
    "start_time": "2022-08-25T13:08:58.143Z"
   },
   {
    "duration": 3081,
    "start_time": "2022-08-25T13:09:08.762Z"
   },
   {
    "duration": 3143,
    "start_time": "2022-08-25T13:09:38.381Z"
   },
   {
    "duration": 3,
    "start_time": "2022-08-25T13:10:19.182Z"
   },
   {
    "duration": 2983,
    "start_time": "2022-08-25T13:10:20.962Z"
   },
   {
    "duration": 235,
    "start_time": "2022-08-25T13:10:57.070Z"
   },
   {
    "duration": 5,
    "start_time": "2022-08-25T13:12:11.213Z"
   },
   {
    "duration": 66,
    "start_time": "2022-08-25T13:12:11.220Z"
   },
   {
    "duration": 58,
    "start_time": "2022-08-25T13:12:11.288Z"
   },
   {
    "duration": 21,
    "start_time": "2022-08-25T13:12:11.348Z"
   },
   {
    "duration": 915,
    "start_time": "2022-08-25T13:12:11.371Z"
   },
   {
    "duration": 98,
    "start_time": "2022-08-25T13:12:12.288Z"
   },
   {
    "duration": 155,
    "start_time": "2022-08-25T13:12:12.388Z"
   },
   {
    "duration": 16,
    "start_time": "2022-08-25T13:12:12.545Z"
   },
   {
    "duration": 15,
    "start_time": "2022-08-25T13:12:12.563Z"
   },
   {
    "duration": 38,
    "start_time": "2022-08-25T13:12:12.580Z"
   },
   {
    "duration": 6,
    "start_time": "2022-08-25T13:12:12.620Z"
   },
   {
    "duration": 9,
    "start_time": "2022-08-25T13:12:12.628Z"
   },
   {
    "duration": 13,
    "start_time": "2022-08-25T13:12:12.640Z"
   },
   {
    "duration": 6,
    "start_time": "2022-08-25T13:12:12.655Z"
   },
   {
    "duration": 11,
    "start_time": "2022-08-25T13:12:12.663Z"
   },
   {
    "duration": 54,
    "start_time": "2022-08-25T13:12:12.676Z"
   },
   {
    "duration": 2,
    "start_time": "2022-08-25T13:12:12.732Z"
   },
   {
    "duration": 3158,
    "start_time": "2022-08-25T13:12:17.038Z"
   },
   {
    "duration": 3072,
    "start_time": "2022-08-25T13:13:04.704Z"
   },
   {
    "duration": 212,
    "start_time": "2022-08-25T13:13:32.440Z"
   },
   {
    "duration": 11066,
    "start_time": "2022-08-25T13:20:00.037Z"
   },
   {
    "duration": 126,
    "start_time": "2022-08-25T13:22:52.981Z"
   },
   {
    "duration": 254,
    "start_time": "2022-08-25T13:22:59.660Z"
   },
   {
    "duration": 271,
    "start_time": "2022-08-25T13:24:59.542Z"
   },
   {
    "duration": 4,
    "start_time": "2022-08-25T13:26:55.370Z"
   },
   {
    "duration": 249,
    "start_time": "2022-08-25T13:27:03.258Z"
   },
   {
    "duration": 285,
    "start_time": "2022-08-25T13:27:27.019Z"
   },
   {
    "duration": 152,
    "start_time": "2022-08-25T13:29:11.122Z"
   },
   {
    "duration": 206,
    "start_time": "2022-08-25T13:29:19.821Z"
   },
   {
    "duration": 205,
    "start_time": "2022-08-25T13:29:34.801Z"
   },
   {
    "duration": 227,
    "start_time": "2022-08-25T13:29:40.221Z"
   },
   {
    "duration": 19,
    "start_time": "2022-08-25T13:30:45.844Z"
   },
   {
    "duration": 885,
    "start_time": "2022-08-25T13:31:30.374Z"
   },
   {
    "duration": 207,
    "start_time": "2022-08-25T13:31:50.439Z"
   },
   {
    "duration": 3058,
    "start_time": "2022-08-25T13:34:30.179Z"
   },
   {
    "duration": 3161,
    "start_time": "2022-08-25T13:34:56.648Z"
   },
   {
    "duration": 252,
    "start_time": "2022-08-25T13:35:58.854Z"
   },
   {
    "duration": 4,
    "start_time": "2022-08-25T13:36:36.257Z"
   },
   {
    "duration": 58,
    "start_time": "2022-08-25T13:36:36.263Z"
   },
   {
    "duration": 45,
    "start_time": "2022-08-25T13:36:36.323Z"
   },
   {
    "duration": 49,
    "start_time": "2022-08-25T13:36:36.370Z"
   },
   {
    "duration": 1012,
    "start_time": "2022-08-25T13:36:36.422Z"
   },
   {
    "duration": 108,
    "start_time": "2022-08-25T13:36:37.436Z"
   },
   {
    "duration": 134,
    "start_time": "2022-08-25T13:36:37.546Z"
   },
   {
    "duration": 26,
    "start_time": "2022-08-25T13:36:37.682Z"
   },
   {
    "duration": 13,
    "start_time": "2022-08-25T13:36:37.710Z"
   },
   {
    "duration": 18,
    "start_time": "2022-08-25T13:36:37.725Z"
   },
   {
    "duration": 6,
    "start_time": "2022-08-25T13:36:37.745Z"
   },
   {
    "duration": 13,
    "start_time": "2022-08-25T13:36:37.753Z"
   },
   {
    "duration": 8,
    "start_time": "2022-08-25T13:36:37.768Z"
   },
   {
    "duration": 3,
    "start_time": "2022-08-25T13:36:37.802Z"
   },
   {
    "duration": 18,
    "start_time": "2022-08-25T13:36:37.807Z"
   },
   {
    "duration": 32,
    "start_time": "2022-08-25T13:36:37.826Z"
   },
   {
    "duration": 3,
    "start_time": "2022-08-25T13:36:37.860Z"
   },
   {
    "duration": 3050,
    "start_time": "2022-08-25T13:36:37.865Z"
   },
   {
    "duration": 220,
    "start_time": "2022-08-25T13:36:40.917Z"
   },
   {
    "duration": 227,
    "start_time": "2022-08-25T13:36:48.181Z"
   },
   {
    "duration": 3045,
    "start_time": "2022-08-25T13:59:09.938Z"
   },
   {
    "duration": 3004,
    "start_time": "2022-08-25T14:00:11.599Z"
   },
   {
    "duration": 2996,
    "start_time": "2022-08-25T14:00:23.678Z"
   },
   {
    "duration": 193,
    "start_time": "2022-08-25T14:00:58.128Z"
   },
   {
    "duration": 3119,
    "start_time": "2022-08-25T14:01:26.491Z"
   },
   {
    "duration": 204,
    "start_time": "2022-08-25T14:01:33.472Z"
   },
   {
    "duration": 10,
    "start_time": "2022-08-25T14:03:44.960Z"
   },
   {
    "duration": 21,
    "start_time": "2022-08-25T14:04:05.567Z"
   },
   {
    "duration": 5,
    "start_time": "2022-08-25T14:04:35.448Z"
   },
   {
    "duration": 59,
    "start_time": "2022-08-25T14:04:35.455Z"
   },
   {
    "duration": 44,
    "start_time": "2022-08-25T14:04:35.516Z"
   },
   {
    "duration": 43,
    "start_time": "2022-08-25T14:04:35.562Z"
   },
   {
    "duration": 1021,
    "start_time": "2022-08-25T14:04:35.608Z"
   },
   {
    "duration": 101,
    "start_time": "2022-08-25T14:04:36.632Z"
   },
   {
    "duration": 131,
    "start_time": "2022-08-25T14:04:36.735Z"
   },
   {
    "duration": 14,
    "start_time": "2022-08-25T14:04:36.868Z"
   },
   {
    "duration": 30,
    "start_time": "2022-08-25T14:04:36.883Z"
   },
   {
    "duration": 19,
    "start_time": "2022-08-25T14:04:36.915Z"
   },
   {
    "duration": 11,
    "start_time": "2022-08-25T14:04:36.936Z"
   },
   {
    "duration": 12,
    "start_time": "2022-08-25T14:04:36.948Z"
   },
   {
    "duration": 30,
    "start_time": "2022-08-25T14:04:36.962Z"
   },
   {
    "duration": 10,
    "start_time": "2022-08-25T14:04:36.993Z"
   },
   {
    "duration": 30,
    "start_time": "2022-08-25T14:04:37.004Z"
   },
   {
    "duration": 47,
    "start_time": "2022-08-25T14:04:37.036Z"
   },
   {
    "duration": 3,
    "start_time": "2022-08-25T14:04:37.085Z"
   },
   {
    "duration": 3171,
    "start_time": "2022-08-25T14:04:37.090Z"
   },
   {
    "duration": 241,
    "start_time": "2022-08-25T14:04:40.263Z"
   },
   {
    "duration": 21,
    "start_time": "2022-08-25T14:04:40.506Z"
   },
   {
    "duration": 276,
    "start_time": "2022-08-25T14:04:40.529Z"
   },
   {
    "duration": 3226,
    "start_time": "2022-08-25T14:04:40.806Z"
   },
   {
    "duration": 215,
    "start_time": "2022-08-25T14:04:44.033Z"
   },
   {
    "duration": 19,
    "start_time": "2022-08-25T14:06:56.741Z"
   },
   {
    "duration": 229,
    "start_time": "2022-08-25T14:09:47.374Z"
   },
   {
    "duration": 4,
    "start_time": "2022-08-25T14:16:09.281Z"
   },
   {
    "duration": 56,
    "start_time": "2022-08-25T14:16:09.287Z"
   },
   {
    "duration": 44,
    "start_time": "2022-08-25T14:16:09.344Z"
   },
   {
    "duration": 26,
    "start_time": "2022-08-25T14:16:09.390Z"
   },
   {
    "duration": 1029,
    "start_time": "2022-08-25T14:16:09.419Z"
   },
   {
    "duration": 102,
    "start_time": "2022-08-25T14:16:10.450Z"
   },
   {
    "duration": 140,
    "start_time": "2022-08-25T14:16:10.553Z"
   },
   {
    "duration": 16,
    "start_time": "2022-08-25T14:16:10.695Z"
   },
   {
    "duration": 18,
    "start_time": "2022-08-25T14:16:10.713Z"
   },
   {
    "duration": 22,
    "start_time": "2022-08-25T14:16:10.733Z"
   },
   {
    "duration": 8,
    "start_time": "2022-08-25T14:16:10.757Z"
   },
   {
    "duration": 34,
    "start_time": "2022-08-25T14:16:10.769Z"
   },
   {
    "duration": 9,
    "start_time": "2022-08-25T14:16:10.805Z"
   },
   {
    "duration": 3,
    "start_time": "2022-08-25T14:16:10.816Z"
   },
   {
    "duration": 16,
    "start_time": "2022-08-25T14:16:10.821Z"
   },
   {
    "duration": 37,
    "start_time": "2022-08-25T14:16:10.839Z"
   },
   {
    "duration": 3,
    "start_time": "2022-08-25T14:16:10.878Z"
   },
   {
    "duration": 3002,
    "start_time": "2022-08-25T14:16:10.883Z"
   },
   {
    "duration": 204,
    "start_time": "2022-08-25T14:16:13.887Z"
   },
   {
    "duration": 25,
    "start_time": "2022-08-25T14:16:14.093Z"
   },
   {
    "duration": 385,
    "start_time": "2022-08-25T14:16:14.119Z"
   },
   {
    "duration": 3173,
    "start_time": "2022-08-25T14:16:14.506Z"
   },
   {
    "duration": 211,
    "start_time": "2022-08-25T14:16:17.681Z"
   },
   {
    "duration": 27,
    "start_time": "2022-08-25T14:16:17.893Z"
   },
   {
    "duration": 385,
    "start_time": "2022-08-25T14:16:17.921Z"
   },
   {
    "duration": 215,
    "start_time": "2022-08-25T14:16:26.891Z"
   },
   {
    "duration": 43,
    "start_time": "2022-08-25T14:17:40.269Z"
   },
   {
    "duration": 78,
    "start_time": "2022-08-25T14:18:27.327Z"
   },
   {
    "duration": 19,
    "start_time": "2022-08-25T14:19:34.767Z"
   },
   {
    "duration": 217,
    "start_time": "2022-08-25T14:21:07.792Z"
   },
   {
    "duration": 85,
    "start_time": "2022-08-25T14:21:09.423Z"
   },
   {
    "duration": 1276,
    "start_time": "2022-08-25T14:27:47.166Z"
   },
   {
    "duration": 0,
    "start_time": "2022-08-25T14:27:48.445Z"
   },
   {
    "duration": 0,
    "start_time": "2022-08-25T14:27:48.446Z"
   },
   {
    "duration": 0,
    "start_time": "2022-08-25T14:27:48.447Z"
   },
   {
    "duration": 0,
    "start_time": "2022-08-25T14:27:48.448Z"
   },
   {
    "duration": 0,
    "start_time": "2022-08-25T14:27:48.449Z"
   },
   {
    "duration": 0,
    "start_time": "2022-08-25T14:27:48.450Z"
   },
   {
    "duration": 0,
    "start_time": "2022-08-25T14:27:48.452Z"
   },
   {
    "duration": 0,
    "start_time": "2022-08-25T14:27:48.453Z"
   },
   {
    "duration": 0,
    "start_time": "2022-08-25T14:27:48.454Z"
   },
   {
    "duration": 0,
    "start_time": "2022-08-25T14:27:48.455Z"
   },
   {
    "duration": 0,
    "start_time": "2022-08-25T14:27:48.456Z"
   },
   {
    "duration": 0,
    "start_time": "2022-08-25T14:27:48.457Z"
   },
   {
    "duration": 0,
    "start_time": "2022-08-25T14:27:48.458Z"
   },
   {
    "duration": 0,
    "start_time": "2022-08-25T14:27:48.459Z"
   },
   {
    "duration": 0,
    "start_time": "2022-08-25T14:27:48.461Z"
   },
   {
    "duration": 0,
    "start_time": "2022-08-25T14:27:48.462Z"
   },
   {
    "duration": 0,
    "start_time": "2022-08-25T14:27:48.463Z"
   },
   {
    "duration": 0,
    "start_time": "2022-08-25T14:27:48.464Z"
   },
   {
    "duration": 0,
    "start_time": "2022-08-25T14:27:48.465Z"
   },
   {
    "duration": 0,
    "start_time": "2022-08-25T14:27:48.466Z"
   },
   {
    "duration": 0,
    "start_time": "2022-08-25T14:27:48.467Z"
   },
   {
    "duration": 0,
    "start_time": "2022-08-25T14:27:48.503Z"
   },
   {
    "duration": 0,
    "start_time": "2022-08-25T14:27:48.504Z"
   },
   {
    "duration": 0,
    "start_time": "2022-08-25T14:27:48.505Z"
   },
   {
    "duration": 0,
    "start_time": "2022-08-25T14:27:48.507Z"
   },
   {
    "duration": 0,
    "start_time": "2022-08-25T14:27:48.508Z"
   },
   {
    "duration": 211,
    "start_time": "2022-08-25T14:28:32.197Z"
   },
   {
    "duration": 56,
    "start_time": "2022-08-25T14:28:32.411Z"
   },
   {
    "duration": 82,
    "start_time": "2022-08-25T14:28:32.469Z"
   },
   {
    "duration": 24,
    "start_time": "2022-08-25T14:28:32.552Z"
   },
   {
    "duration": 1026,
    "start_time": "2022-08-25T14:28:32.602Z"
   },
   {
    "duration": 107,
    "start_time": "2022-08-25T14:28:33.630Z"
   },
   {
    "duration": 146,
    "start_time": "2022-08-25T14:28:33.738Z"
   },
   {
    "duration": 22,
    "start_time": "2022-08-25T14:28:33.885Z"
   },
   {
    "duration": 14,
    "start_time": "2022-08-25T14:28:33.908Z"
   },
   {
    "duration": 22,
    "start_time": "2022-08-25T14:28:33.923Z"
   },
   {
    "duration": 5,
    "start_time": "2022-08-25T14:28:33.947Z"
   },
   {
    "duration": 9,
    "start_time": "2022-08-25T14:28:33.954Z"
   },
   {
    "duration": 12,
    "start_time": "2022-08-25T14:28:33.964Z"
   },
   {
    "duration": 2,
    "start_time": "2022-08-25T14:28:34.005Z"
   },
   {
    "duration": 13,
    "start_time": "2022-08-25T14:28:34.009Z"
   },
   {
    "duration": 32,
    "start_time": "2022-08-25T14:28:34.024Z"
   },
   {
    "duration": 3,
    "start_time": "2022-08-25T14:28:34.058Z"
   },
   {
    "duration": 3106,
    "start_time": "2022-08-25T14:28:34.062Z"
   },
   {
    "duration": 234,
    "start_time": "2022-08-25T14:28:37.170Z"
   },
   {
    "duration": 26,
    "start_time": "2022-08-25T14:28:37.406Z"
   },
   {
    "duration": 273,
    "start_time": "2022-08-25T14:28:37.433Z"
   },
   {
    "duration": 3269,
    "start_time": "2022-08-25T14:28:37.710Z"
   },
   {
    "duration": 219,
    "start_time": "2022-08-25T14:28:40.981Z"
   },
   {
    "duration": 20,
    "start_time": "2022-08-25T14:28:41.203Z"
   },
   {
    "duration": 28,
    "start_time": "2022-08-25T14:28:41.225Z"
   },
   {
    "duration": 249,
    "start_time": "2022-08-25T14:28:41.255Z"
   },
   {
    "duration": 197,
    "start_time": "2022-08-25T14:28:41.506Z"
   },
   {
    "duration": 29,
    "start_time": "2022-08-25T14:37:38.918Z"
   },
   {
    "duration": 80211,
    "start_time": "2022-08-25T14:37:58.983Z"
   },
   {
    "duration": 0,
    "start_time": "2022-08-25T14:39:19.196Z"
   },
   {
    "duration": 80529,
    "start_time": "2022-08-25T14:40:59.939Z"
   },
   {
    "duration": 79272,
    "start_time": "2022-08-25T14:42:41.502Z"
   },
   {
    "duration": 56,
    "start_time": "2022-08-25T14:45:16.042Z"
   },
   {
    "duration": 7,
    "start_time": "2022-08-25T14:50:58.868Z"
   },
   {
    "duration": 5,
    "start_time": "2022-08-25T14:51:04.390Z"
   },
   {
    "duration": 14,
    "start_time": "2022-08-25T14:53:06.391Z"
   },
   {
    "duration": 68,
    "start_time": "2022-08-25T14:54:41.793Z"
   },
   {
    "duration": 61283,
    "start_time": "2022-08-25T14:59:46.373Z"
   },
   {
    "duration": 85867,
    "start_time": "2022-08-25T15:02:13.192Z"
   },
   {
    "duration": 63,
    "start_time": "2022-08-25T15:04:49.241Z"
   },
   {
    "duration": 58,
    "start_time": "2022-08-25T15:07:34.019Z"
   },
   {
    "duration": 84880,
    "start_time": "2022-08-25T15:08:06.858Z"
   },
   {
    "duration": 4,
    "start_time": "2022-08-25T15:09:56.869Z"
   },
   {
    "duration": 6,
    "start_time": "2022-08-25T15:10:16.222Z"
   },
   {
    "duration": 113425,
    "start_time": "2022-08-25T15:11:01.848Z"
   },
   {
    "duration": 66,
    "start_time": "2022-08-25T15:13:11.774Z"
   },
   {
    "duration": 55,
    "start_time": "2022-08-25T15:13:24.837Z"
   },
   {
    "duration": 118366,
    "start_time": "2022-08-25T15:25:40.995Z"
   },
   {
    "duration": 61,
    "start_time": "2022-08-25T15:27:39.364Z"
   },
   {
    "duration": 56,
    "start_time": "2022-08-25T15:29:00.593Z"
   },
   {
    "duration": 134680,
    "start_time": "2022-08-25T15:37:37.861Z"
   },
   {
    "duration": 53,
    "start_time": "2022-08-25T15:40:13.445Z"
   },
   {
    "duration": 280653,
    "start_time": "2022-08-25T15:40:51.810Z"
   },
   {
    "duration": 87,
    "start_time": "2022-08-25T15:45:32.465Z"
   },
   {
    "duration": 61,
    "start_time": "2022-08-25T15:45:32.553Z"
   },
   {
    "duration": 96,
    "start_time": "2022-08-25T15:46:51.983Z"
   },
   {
    "duration": 85463,
    "start_time": "2022-08-25T15:47:39.738Z"
   },
   {
    "duration": 62,
    "start_time": "2022-08-25T15:51:31.387Z"
   },
   {
    "duration": 60,
    "start_time": "2022-08-25T15:51:34.244Z"
   },
   {
    "duration": 63,
    "start_time": "2022-08-25T15:51:34.898Z"
   },
   {
    "duration": 61,
    "start_time": "2022-08-25T15:51:35.464Z"
   },
   {
    "duration": 59,
    "start_time": "2022-08-25T15:51:56.374Z"
   },
   {
    "duration": 1478,
    "start_time": "2022-08-26T15:16:31.007Z"
   },
   {
    "duration": 93,
    "start_time": "2022-08-26T15:16:32.487Z"
   },
   {
    "duration": 77,
    "start_time": "2022-08-26T15:16:32.582Z"
   },
   {
    "duration": 36,
    "start_time": "2022-08-26T15:16:32.662Z"
   },
   {
    "duration": 892,
    "start_time": "2022-08-26T15:16:32.700Z"
   },
   {
    "duration": 77,
    "start_time": "2022-08-26T15:16:33.594Z"
   },
   {
    "duration": 128,
    "start_time": "2022-08-26T15:16:33.673Z"
   },
   {
    "duration": 13,
    "start_time": "2022-08-26T15:16:33.802Z"
   },
   {
    "duration": 12,
    "start_time": "2022-08-26T15:16:33.817Z"
   },
   {
    "duration": 19,
    "start_time": "2022-08-26T15:16:33.832Z"
   },
   {
    "duration": 5,
    "start_time": "2022-08-26T15:16:33.852Z"
   },
   {
    "duration": 32,
    "start_time": "2022-08-26T15:16:33.858Z"
   },
   {
    "duration": 9,
    "start_time": "2022-08-26T15:16:33.892Z"
   },
   {
    "duration": 6,
    "start_time": "2022-08-26T15:16:33.903Z"
   },
   {
    "duration": 11,
    "start_time": "2022-08-26T15:16:33.910Z"
   },
   {
    "duration": 30,
    "start_time": "2022-08-26T15:16:33.922Z"
   },
   {
    "duration": 2,
    "start_time": "2022-08-26T15:16:33.954Z"
   },
   {
    "duration": 2756,
    "start_time": "2022-08-26T15:16:33.958Z"
   },
   {
    "duration": 224,
    "start_time": "2022-08-26T15:16:36.716Z"
   },
   {
    "duration": 18,
    "start_time": "2022-08-26T15:16:36.942Z"
   },
   {
    "duration": 431,
    "start_time": "2022-08-26T15:16:36.961Z"
   },
   {
    "duration": 2820,
    "start_time": "2022-08-26T15:16:37.394Z"
   },
   {
    "duration": 213,
    "start_time": "2022-08-26T15:16:40.215Z"
   },
   {
    "duration": 19,
    "start_time": "2022-08-26T15:16:40.430Z"
   },
   {
    "duration": 17,
    "start_time": "2022-08-26T15:16:40.450Z"
   },
   {
    "duration": 325,
    "start_time": "2022-08-26T15:16:40.468Z"
   },
   {
    "duration": 293,
    "start_time": "2022-08-26T15:16:40.795Z"
   },
   {
    "duration": 73022,
    "start_time": "2022-08-26T15:16:41.091Z"
   },
   {
    "duration": 53,
    "start_time": "2022-08-26T15:17:54.115Z"
   },
   {
    "duration": 5,
    "start_time": "2022-08-26T15:17:54.170Z"
   },
   {
    "duration": 5,
    "start_time": "2022-08-26T15:17:54.186Z"
   },
   {
    "duration": 14,
    "start_time": "2022-08-26T15:17:54.193Z"
   },
   {
    "duration": 81239,
    "start_time": "2022-08-26T15:17:54.209Z"
   },
   {
    "duration": 72,
    "start_time": "2022-08-26T15:19:15.450Z"
   },
   {
    "duration": 66,
    "start_time": "2022-08-26T15:19:15.523Z"
   },
   {
    "duration": 110,
    "start_time": "2022-08-26T15:19:15.591Z"
   },
   {
    "duration": 60,
    "start_time": "2022-08-26T15:20:44.350Z"
   },
   {
    "duration": 188,
    "start_time": "2022-08-26T15:22:43.153Z"
   },
   {
    "duration": 29271,
    "start_time": "2022-08-26T15:27:28.769Z"
   },
   {
    "duration": 38,
    "start_time": "2022-08-26T15:28:14.919Z"
   },
   {
    "duration": 144114,
    "start_time": "2022-08-26T15:36:35.220Z"
   },
   {
    "duration": 120,
    "start_time": "2022-08-26T15:38:59.336Z"
   },
   {
    "duration": 434,
    "start_time": "2022-08-26T15:38:59.457Z"
   },
   {
    "duration": 15839,
    "start_time": "2022-08-26T15:39:47.637Z"
   },
   {
    "duration": 51,
    "start_time": "2022-08-26T15:40:03.478Z"
   },
   {
    "duration": 133,
    "start_time": "2022-08-26T15:40:07.695Z"
   },
   {
    "duration": 28745,
    "start_time": "2022-08-26T15:40:46.601Z"
   },
   {
    "duration": 55,
    "start_time": "2022-08-26T15:41:15.348Z"
   },
   {
    "duration": 148,
    "start_time": "2022-08-26T15:41:15.405Z"
   },
   {
    "duration": 35836,
    "start_time": "2022-08-26T15:41:42.543Z"
   },
   {
    "duration": 52,
    "start_time": "2022-08-26T15:42:18.381Z"
   },
   {
    "duration": 172,
    "start_time": "2022-08-26T15:42:18.435Z"
   },
   {
    "duration": 32936,
    "start_time": "2022-08-26T15:43:43.634Z"
   },
   {
    "duration": 75,
    "start_time": "2022-08-26T15:44:16.572Z"
   },
   {
    "duration": 214,
    "start_time": "2022-08-26T15:44:16.649Z"
   },
   {
    "duration": 52707,
    "start_time": "2022-08-26T15:45:51.854Z"
   },
   {
    "duration": 61,
    "start_time": "2022-08-26T15:46:44.562Z"
   },
   {
    "duration": 202,
    "start_time": "2022-08-26T15:46:44.625Z"
   },
   {
    "duration": 16,
    "start_time": "2022-08-26T15:48:01.557Z"
   },
   {
    "duration": 9,
    "start_time": "2022-08-26T15:48:27.537Z"
   },
   {
    "duration": 1922,
    "start_time": "2022-08-26T18:15:01.763Z"
   },
   {
    "duration": 192,
    "start_time": "2022-08-26T18:15:03.688Z"
   },
   {
    "duration": 103,
    "start_time": "2022-08-26T18:15:03.881Z"
   },
   {
    "duration": 49,
    "start_time": "2022-08-26T18:15:03.987Z"
   },
   {
    "duration": 1077,
    "start_time": "2022-08-26T18:15:04.037Z"
   },
   {
    "duration": 110,
    "start_time": "2022-08-26T18:15:05.116Z"
   },
   {
    "duration": 160,
    "start_time": "2022-08-26T18:15:05.227Z"
   },
   {
    "duration": 22,
    "start_time": "2022-08-26T18:15:05.389Z"
   },
   {
    "duration": 39,
    "start_time": "2022-08-26T18:15:05.413Z"
   },
   {
    "duration": 29,
    "start_time": "2022-08-26T18:15:05.455Z"
   },
   {
    "duration": 20,
    "start_time": "2022-08-26T18:15:05.486Z"
   },
   {
    "duration": 16,
    "start_time": "2022-08-26T18:15:05.508Z"
   },
   {
    "duration": 31,
    "start_time": "2022-08-26T18:15:05.526Z"
   },
   {
    "duration": 20,
    "start_time": "2022-08-26T18:15:05.559Z"
   },
   {
    "duration": 34,
    "start_time": "2022-08-26T18:15:05.581Z"
   },
   {
    "duration": 62,
    "start_time": "2022-08-26T18:15:05.617Z"
   },
   {
    "duration": 3,
    "start_time": "2022-08-26T18:15:05.681Z"
   },
   {
    "duration": 3327,
    "start_time": "2022-08-26T18:15:05.686Z"
   },
   {
    "duration": 236,
    "start_time": "2022-08-26T18:15:09.015Z"
   },
   {
    "duration": 22,
    "start_time": "2022-08-26T18:15:09.253Z"
   },
   {
    "duration": 618,
    "start_time": "2022-08-26T18:15:09.277Z"
   },
   {
    "duration": 3458,
    "start_time": "2022-08-26T18:15:09.897Z"
   },
   {
    "duration": 230,
    "start_time": "2022-08-26T18:15:13.356Z"
   },
   {
    "duration": 29,
    "start_time": "2022-08-26T18:15:13.591Z"
   },
   {
    "duration": 21,
    "start_time": "2022-08-26T18:15:13.622Z"
   },
   {
    "duration": 858,
    "start_time": "2022-08-26T18:15:13.645Z"
   },
   {
    "duration": 284,
    "start_time": "2022-08-26T18:15:14.511Z"
   },
   {
    "duration": 88411,
    "start_time": "2022-08-26T18:15:14.800Z"
   },
   {
    "duration": 56,
    "start_time": "2022-08-26T18:16:43.213Z"
   },
   {
    "duration": 6,
    "start_time": "2022-08-26T18:16:43.271Z"
   },
   {
    "duration": 14,
    "start_time": "2022-08-26T18:16:43.292Z"
   },
   {
    "duration": 17,
    "start_time": "2022-08-26T18:16:43.308Z"
   },
   {
    "duration": 9,
    "start_time": "2022-08-26T18:16:43.327Z"
   },
   {
    "duration": 111877,
    "start_time": "2022-08-26T18:16:43.338Z"
   },
   {
    "duration": 50,
    "start_time": "2022-08-26T18:18:35.218Z"
   },
   {
    "duration": 176,
    "start_time": "2022-08-26T18:18:35.271Z"
   },
   {
    "duration": 71,
    "start_time": "2022-08-26T18:18:35.449Z"
   },
   {
    "duration": 48,
    "start_time": "2022-08-26T18:18:35.522Z"
   },
   {
    "duration": 155,
    "start_time": "2022-08-26T18:21:22.461Z"
   },
   {
    "duration": 50,
    "start_time": "2022-08-26T18:21:25.904Z"
   },
   {
    "duration": 77,
    "start_time": "2022-08-26T18:22:18.852Z"
   },
   {
    "duration": 95311,
    "start_time": "2022-08-26T18:23:31.312Z"
   },
   {
    "duration": 77,
    "start_time": "2022-08-26T18:25:06.625Z"
   },
   {
    "duration": 58,
    "start_time": "2022-08-26T18:25:06.707Z"
   },
   {
    "duration": 125423,
    "start_time": "2022-08-26T18:26:42.750Z"
   },
   {
    "duration": 84,
    "start_time": "2022-08-26T18:28:48.175Z"
   },
   {
    "duration": 87,
    "start_time": "2022-08-26T18:28:48.261Z"
   },
   {
    "duration": 85,
    "start_time": "2022-08-26T18:28:48.351Z"
   },
   {
    "duration": 63,
    "start_time": "2022-08-26T18:29:32.187Z"
   },
   {
    "duration": 73,
    "start_time": "2022-08-26T18:31:07.360Z"
   },
   {
    "duration": 1493,
    "start_time": "2022-08-26T18:44:13.658Z"
   },
   {
    "duration": 77,
    "start_time": "2022-08-26T18:44:15.154Z"
   },
   {
    "duration": 92,
    "start_time": "2022-08-26T18:44:15.233Z"
   },
   {
    "duration": 24,
    "start_time": "2022-08-26T18:44:15.327Z"
   },
   {
    "duration": 1091,
    "start_time": "2022-08-26T18:44:15.353Z"
   },
   {
    "duration": 123,
    "start_time": "2022-08-26T18:44:16.447Z"
   },
   {
    "duration": 165,
    "start_time": "2022-08-26T18:44:16.572Z"
   },
   {
    "duration": 16,
    "start_time": "2022-08-26T18:44:16.739Z"
   },
   {
    "duration": 15,
    "start_time": "2022-08-26T18:44:16.757Z"
   },
   {
    "duration": 41,
    "start_time": "2022-08-26T18:44:16.791Z"
   },
   {
    "duration": 8,
    "start_time": "2022-08-26T18:44:16.834Z"
   },
   {
    "duration": 8,
    "start_time": "2022-08-26T18:44:16.843Z"
   },
   {
    "duration": 9,
    "start_time": "2022-08-26T18:44:16.853Z"
   },
   {
    "duration": 28,
    "start_time": "2022-08-26T18:44:16.864Z"
   },
   {
    "duration": 9,
    "start_time": "2022-08-26T18:44:16.900Z"
   },
   {
    "duration": 44,
    "start_time": "2022-08-26T18:44:16.911Z"
   },
   {
    "duration": 3,
    "start_time": "2022-08-26T18:44:16.957Z"
   },
   {
    "duration": 3350,
    "start_time": "2022-08-26T18:44:16.962Z"
   },
   {
    "duration": 241,
    "start_time": "2022-08-26T18:44:20.314Z"
   },
   {
    "duration": 20,
    "start_time": "2022-08-26T18:44:20.557Z"
   },
   {
    "duration": 827,
    "start_time": "2022-08-26T18:44:20.579Z"
   },
   {
    "duration": 3575,
    "start_time": "2022-08-26T18:44:21.408Z"
   },
   {
    "duration": 239,
    "start_time": "2022-08-26T18:44:24.985Z"
   },
   {
    "duration": 21,
    "start_time": "2022-08-26T18:44:25.226Z"
   },
   {
    "duration": 19,
    "start_time": "2022-08-26T18:44:25.249Z"
   },
   {
    "duration": 438,
    "start_time": "2022-08-26T18:44:25.270Z"
   },
   {
    "duration": 289,
    "start_time": "2022-08-26T18:44:25.710Z"
   },
   {
    "duration": 89803,
    "start_time": "2022-08-26T18:44:26.007Z"
   },
   {
    "duration": 57,
    "start_time": "2022-08-26T18:45:55.812Z"
   },
   {
    "duration": 21,
    "start_time": "2022-08-26T18:45:55.871Z"
   },
   {
    "duration": 8,
    "start_time": "2022-08-26T18:45:55.898Z"
   },
   {
    "duration": 26,
    "start_time": "2022-08-26T18:45:55.907Z"
   },
   {
    "duration": 9,
    "start_time": "2022-08-26T18:45:55.935Z"
   },
   {
    "duration": 126417,
    "start_time": "2022-08-26T18:45:55.947Z"
   },
   {
    "duration": 77,
    "start_time": "2022-08-26T18:48:02.366Z"
   },
   {
    "duration": 70,
    "start_time": "2022-08-26T18:48:02.445Z"
   },
   {
    "duration": 82,
    "start_time": "2022-08-26T18:48:02.517Z"
   },
   {
    "duration": 1711,
    "start_time": "2022-08-27T05:13:46.264Z"
   },
   {
    "duration": 105,
    "start_time": "2022-08-27T05:13:47.978Z"
   },
   {
    "duration": 85,
    "start_time": "2022-08-27T05:13:48.085Z"
   },
   {
    "duration": 42,
    "start_time": "2022-08-27T05:13:48.172Z"
   },
   {
    "duration": 975,
    "start_time": "2022-08-27T05:13:48.217Z"
   },
   {
    "duration": 97,
    "start_time": "2022-08-27T05:13:49.193Z"
   },
   {
    "duration": 146,
    "start_time": "2022-08-27T05:13:49.291Z"
   },
   {
    "duration": 15,
    "start_time": "2022-08-27T05:13:49.439Z"
   },
   {
    "duration": 13,
    "start_time": "2022-08-27T05:13:49.456Z"
   },
   {
    "duration": 52,
    "start_time": "2022-08-27T05:13:49.472Z"
   },
   {
    "duration": 6,
    "start_time": "2022-08-27T05:13:49.526Z"
   },
   {
    "duration": 5,
    "start_time": "2022-08-27T05:13:49.534Z"
   },
   {
    "duration": 9,
    "start_time": "2022-08-27T05:13:49.540Z"
   },
   {
    "duration": 3,
    "start_time": "2022-08-27T05:13:49.551Z"
   },
   {
    "duration": 12,
    "start_time": "2022-08-27T05:13:49.555Z"
   },
   {
    "duration": 62,
    "start_time": "2022-08-27T05:13:49.568Z"
   },
   {
    "duration": 3,
    "start_time": "2022-08-27T05:13:49.632Z"
   },
   {
    "duration": 3086,
    "start_time": "2022-08-27T05:13:49.637Z"
   },
   {
    "duration": 217,
    "start_time": "2022-08-27T05:13:52.725Z"
   },
   {
    "duration": 19,
    "start_time": "2022-08-27T05:13:52.943Z"
   },
   {
    "duration": 548,
    "start_time": "2022-08-27T05:13:52.963Z"
   },
   {
    "duration": 3116,
    "start_time": "2022-08-27T05:13:53.513Z"
   },
   {
    "duration": 213,
    "start_time": "2022-08-27T05:13:56.630Z"
   },
   {
    "duration": 18,
    "start_time": "2022-08-27T05:13:56.845Z"
   },
   {
    "duration": 18,
    "start_time": "2022-08-27T05:13:56.865Z"
   },
   {
    "duration": 236,
    "start_time": "2022-08-27T05:13:56.884Z"
   },
   {
    "duration": 290,
    "start_time": "2022-08-27T05:13:57.123Z"
   },
   {
    "duration": 81881,
    "start_time": "2022-08-27T05:13:57.419Z"
   },
   {
    "duration": 60,
    "start_time": "2022-08-27T05:15:19.302Z"
   },
   {
    "duration": 5,
    "start_time": "2022-08-27T05:15:19.364Z"
   },
   {
    "duration": 9,
    "start_time": "2022-08-27T05:15:19.371Z"
   },
   {
    "duration": 27,
    "start_time": "2022-08-27T05:15:19.382Z"
   },
   {
    "duration": 11,
    "start_time": "2022-08-27T05:15:19.412Z"
   },
   {
    "duration": 113057,
    "start_time": "2022-08-27T05:15:19.425Z"
   },
   {
    "duration": 78,
    "start_time": "2022-08-27T05:17:12.484Z"
   },
   {
    "duration": 67,
    "start_time": "2022-08-27T05:17:12.564Z"
   },
   {
    "duration": 63,
    "start_time": "2022-08-27T05:17:12.633Z"
   }
  ],
  "kernelspec": {
   "display_name": "Python 3 (ipykernel)",
   "language": "python",
   "name": "python3"
  },
  "language_info": {
   "codemirror_mode": {
    "name": "ipython",
    "version": 3
   },
   "file_extension": ".py",
   "mimetype": "text/x-python",
   "name": "python",
   "nbconvert_exporter": "python",
   "pygments_lexer": "ipython3",
   "version": "3.9.7"
  },
  "toc": {
   "base_numbering": 1,
   "nav_menu": {},
   "number_sections": true,
   "sideBar": true,
   "skip_h1_title": true,
   "title_cell": "Содержание",
   "title_sidebar": "Contents",
   "toc_cell": true,
   "toc_position": {
    "height": "calc(100% - 180px)",
    "left": "10px",
    "top": "150px",
    "width": "256px"
   },
   "toc_section_display": true,
   "toc_window_display": true
  }
 },
 "nbformat": 4,
 "nbformat_minor": 2
}
